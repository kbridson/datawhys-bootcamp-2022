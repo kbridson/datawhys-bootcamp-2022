{
 "cells": [
  {
   "cell_type": "markdown",
   "id": "929f907f",
   "metadata": {
    "deletable": false,
    "editable": false
   },
   "source": [
    "## User Activity 2 (Filtering 1)"
   ]
  },
  {
   "cell_type": "markdown",
   "id": "b648f6bf",
   "metadata": {
    "deletable": false,
    "editable": false
   },
   "source": [
    "We have this dataset named `nursery.csv` which has information about the quality of children's nurseries. We want to analyze this dataset to find the best nursery that is suitable for a child."
   ]
  },
  {
   "cell_type": "markdown",
   "id": "1250a048",
   "metadata": {
    "deletable": false,
    "editable": false
   },
   "source": [
    "### Import pandas library"
   ]
  },
  {
   "cell_type": "code",
   "execution_count": null,
   "id": "872e457a",
   "metadata": {
    "datawhys": {
     "response_id": 1,
     "student_response": true
    },
    "deletable": false,
    "editable": true
   },
   "outputs": [],
   "source": []
  },
  {
   "cell_type": "markdown",
   "id": "3b05f0d2",
   "metadata": {
    "deletable": false,
    "editable": false
   },
   "source": [
    "### Read the CSV data into dataframe"
   ]
  },
  {
   "cell_type": "markdown",
   "id": "949221a0",
   "metadata": {
    "deletable": false,
    "editable": false
   },
   "source": [
    "**Dataset location:** datasets/nursery.csv\n",
    "\n",
    "**Save to dataframe:** nursery_data "
   ]
  },
  {
   "cell_type": "code",
   "execution_count": null,
   "id": "e233a1e1",
   "metadata": {
    "datawhys": {
     "response_id": 2,
     "student_response": true
    },
    "deletable": false,
    "editable": true
   },
   "outputs": [],
   "source": []
  },
  {
   "cell_type": "markdown",
   "id": "28cfc6bc",
   "metadata": {
    "deletable": false,
    "editable": false
   },
   "source": [
    "### View nursery_data"
   ]
  },
  {
   "cell_type": "code",
   "execution_count": null,
   "id": "4781028a",
   "metadata": {
    "datawhys": {
     "response_id": 3,
     "student_response": true
    },
    "deletable": false,
    "editable": true
   },
   "outputs": [],
   "source": []
  },
  {
   "cell_type": "markdown",
   "id": "375973a1",
   "metadata": {
    "deletable": false,
    "editable": false
   },
   "source": [
    "### Get column names of dataframe"
   ]
  },
  {
   "cell_type": "markdown",
   "id": "6a17af11",
   "metadata": {
    "deletable": false,
    "editable": false
   },
   "source": [
    "\n",
    "<details>\n",
    "<summary> Blockly Instructions(click triangle to expand) </summary>\n",
    "<br>\n",
    "\n",
    "- From `VARIABLES`, click on `from nursery_data..get` block.\n",
    "- click on `get` and select the `columns` option.    \n",
    "- Click on \"Blocks to Code\" at the bottom of the blockly palette.\n",
    "\n",
    "Run the python code cell.\n",
    "</details>"
   ]
  },
  {
   "cell_type": "code",
   "execution_count": null,
   "id": "75e222cf",
   "metadata": {
    "datawhys": {
     "response_id": 4,
     "student_response": true
    },
    "deletable": false,
    "editable": true
   },
   "outputs": [],
   "source": []
  },
  {
   "cell_type": "markdown",
   "id": "d008ad7d",
   "metadata": {
    "deletable": false,
    "editable": false
   },
   "source": [
    "Lets look at the columns. From these features, first, we want to look at the nurseries which are affordable. So, we look at the `finance` column and find the ones which are `convenient`."
   ]
  },
  {
   "cell_type": "markdown",
   "id": "eacd13f7",
   "metadata": {
    "deletable": false,
    "editable": false
   },
   "source": [
    "\n",
    "<details>\n",
    "<summary> Blockly Instructions(click triangle to expand) </summary>\n",
    "<br>\n",
    "\n",
    "- from `LISTS`, click on `{dictvariable}[]`. place `nursery_data` inplace of `dictvariable`.\n",
    "get a text block `\" \"`. write \"finance\" in the `\" \"` block. drag it inside `nursery_data`.\n",
    "- from `LOGIC` block, click on `equals` block. on the left side of it, put the `nursery_data list with finance`. On the right side put a TEXT `\" \"` block. put `convenient` on it.\n",
    "- from `LISTS`, click on `{dictvariable}[]`. place `nursery_data` inplace of `dictvariable`.Put the logic block inside the new `nursery_data` block.\n",
    "- From `VARIABLES`create a variable `convenient_places`. click on set `convenient_places to` and connect to the `nursery_data` block.\n",
    "- From `VARIABLES` block, click the `convenient_places` block.    \n",
    "- Click on \"Blocks to Code\" at the bottom of the blockly palette.\n",
    "\n",
    "Run the python code cell.\n",
    "</details>"
   ]
  },
  {
   "cell_type": "code",
   "execution_count": null,
   "id": "003100f1",
   "metadata": {
    "datawhys": {
     "response_id": 5,
     "student_response": true
    },
    "deletable": false,
    "editable": true
   },
   "outputs": [],
   "source": []
  },
  {
   "cell_type": "markdown",
   "id": "b9caf35a",
   "metadata": {
    "deletable": false,
    "editable": false
   },
   "source": [
    "Now we are concerned about the rank of the nurseries. We don't want the ones which are not recommended. So, filter out the `not recommended` ones from our list."
   ]
  },
  {
   "cell_type": "markdown",
   "id": "1a627bb6",
   "metadata": {
    "deletable": false,
    "editable": false
   },
   "source": [
    "\n",
    "<details>\n",
    "<summary> Blockly Instructions(click triangle to expand) </summary>\n",
    "<br>\n",
    "\n",
    "- from `LISTS`, click on `{dictvariable}[]`. place `convenient_places` inplace of `dictvariable`.\n",
    "get a text block `\" \"`. write \"rank\" in the `\" \"` block. drag it inside `convenient_places`.\n",
    "- from `LOGIC` block, click on `equals` block. on the left side of it, put the `convenient_places list with rank`. On the right side put a TEXT `\" \"` block. put `not_recom` on it. \n",
    "- Click the middle of the logic block and select `!=` option.\n",
    "- from `LISTS`, click on `{dictvariable}[]`. place `convenient_places` inplace of `dictvariable`.Put the logic block inside the new `convenient_places` block.\n",
    "- From `VARIABLES`create a variable `ranked`. click on `set ranked to` and connect to the `convenient_places` block.\n",
    "- From `VARIABLES` block, click the `ranked` block.    \n",
    "- Click on \"Blocks to Code\" at the bottom of the blockly palette.\n",
    "\n",
    "Run the python code cell.\n",
    "</details>"
   ]
  },
  {
   "cell_type": "code",
   "execution_count": null,
   "id": "f29222b7",
   "metadata": {
    "datawhys": {
     "response_id": 6,
     "student_response": true
    },
    "deletable": false,
    "editable": true
   },
   "outputs": [],
   "source": []
  },
  {
   "cell_type": "markdown",
   "id": "1b969ef4",
   "metadata": {
    "deletable": false,
    "editable": false
   },
   "source": [
    "Now, from our new list, we want nurseries with good housing qualities. But, there are some nurseries in `critical` condition, so we need to remove those from our list."
   ]
  },
  {
   "cell_type": "markdown",
   "id": "c2ce0ab8",
   "metadata": {
    "deletable": false,
    "editable": false
   },
   "source": [
    "\n",
    "<details>\n",
    "<summary> Blockly Instructions(click triangle to expand) </summary>\n",
    "<br>\n",
    "\n",
    "- from `LISTS`, click on `{dictvariable}[]`. place `ranked` inplace of `dictvariable`.\n",
    "get a text block `\" \"`. write \"housing\" in the `\" \"` block. drag it inside `ranked`.\n",
    "- from `LOGIC` block, click on `equals` block. on the left side of it, put the `ranked list with housing`. On the right side put a TEXT `\" \"` block. put `critical` on it. \n",
    "- Click the middle of the logic block and select `!=` option.\n",
    "- from `LISTS`, click on `{dictvariable}[]`. place `ranked` inplace of `dictvariable`.Put the logic block inside the new `ranked` block.\n",
    "- From `VARIABLES`create a variable `good_housing`. click on `set good_housing to` and connect to the `ranked` block.\n",
    "- From `VARIABLES` block, click the `good_housing` block.    \n",
    "- Click on \"Blocks to Code\" at the bottom of the blockly palette.\n",
    "\n",
    "Run the python code cell.\n",
    "</details>"
   ]
  },
  {
   "cell_type": "code",
   "execution_count": null,
   "id": "9ddca1f7",
   "metadata": {
    "datawhys": {
     "response_id": 7,
     "student_response": true
    },
    "deletable": false,
    "editable": true
   },
   "outputs": [],
   "source": []
  },
  {
   "cell_type": "markdown",
   "id": "c5356d69",
   "metadata": {
    "deletable": false,
    "editable": false
   },
   "source": [
    "For our next step, choose the nurseries which have adequate nurses in them to ensure `proper` care.\n"
   ]
  },
  {
   "cell_type": "markdown",
   "id": "b1ef1558",
   "metadata": {
    "deletable": false,
    "editable": false
   },
   "source": [
    "\n",
    "<details>\n",
    "<summary> Blockly Instructions(click triangle to expand) </summary>\n",
    "<br>\n",
    "\n",
    "- from `LISTS`, click on `{dictvariable}[]`. place `good_housing` inplace of `dictvariable`.\n",
    "get a text block `\" \"`. write \"has_nurs\" in the `\" \"` block. drag it inside `good_housing`.\n",
    "- from `LOGIC` block, click on `equals` block. on the left side of it, put the `good_housing list with has_nurs`. On the right side put a TEXT `\" \"` block. put `proper` on it. \n",
    "- from `LISTS`, click on `{dictvariable}[]`. place `good_housing` inplace of `dictvariable`.Put the logic block inside the new `good_housing` block.\n",
    "- From `VARIABLES`create a variable `proper_nurse`. click on `set proper_nurse to` and connect to the `good_housing` block.\n",
    "- From `VARIABLES` block, click the `proper_nurse` block.    \n",
    "- Click on \"Blocks to Code\" at the bottom of the blockly palette.\n",
    "\n",
    "Run the python code cell.\n",
    "</details>"
   ]
  },
  {
   "cell_type": "code",
   "execution_count": null,
   "id": "bf35649f",
   "metadata": {
    "datawhys": {
     "response_id": 8,
     "student_response": true
    },
    "deletable": false,
    "editable": true
   },
   "outputs": [],
   "source": []
  },
  {
   "cell_type": "markdown",
   "id": "ccbba21e",
   "metadata": {
    "deletable": false,
    "editable": false
   },
   "source": [
    "Now, our final criteria is we want a nursery where there are more children which will help a child to get better at communication and also learn to share with each other. So, filter the nurseries which have `more` children."
   ]
  },
  {
   "cell_type": "markdown",
   "id": "d4aa8627",
   "metadata": {
    "deletable": false,
    "editable": false
   },
   "source": [
    "\n",
    "<details>\n",
    "<summary> Blockly Instructions(click triangle to expand) </summary>\n",
    "<br>\n",
    "\n",
    "- from `LISTS`, click on `{dictvariable}[]`. place `proper_nurse` inplace of `dictvariable`.\n",
    "get a text block `\" \"`. write \"children\" in the `\" \"` block. drag it inside `proper_nurse`.\n",
    "- from `LOGIC` block, click on `equals` block. on the left side of it, put the `proper_nurse list with children`. On the right side put a TEXT `\" \"` block. put `more` on it. \n",
    "- from `LISTS`, click on `{dictvariable}[]`. place `proper_nurse` inplace of `dictvariable`.Put the logic block inside the new `proper_nurse` block.\n",
    "- From `VARIABLES`create a variable `more_children`. click on `set more_children to` and connect to the `proper_nurse` block.\n",
    "- From `VARIABLES` block, click the `more_children` block.    \n",
    "- Click on \"Blocks to Code\" at the bottom of the blockly palette.\n",
    "\n",
    "Run the python code cell.\n",
    "</details>"
   ]
  },
  {
   "cell_type": "code",
   "execution_count": null,
   "id": "339e880f",
   "metadata": {
    "datawhys": {
     "response_id": 9,
     "student_response": true
    },
    "deletable": false,
    "editable": true
   },
   "outputs": [],
   "source": []
  },
  {
   "cell_type": "markdown",
   "id": "1699d7eb",
   "metadata": {
    "deletable": false,
    "editable": false
   },
   "source": [
    "## Get the final output row counts"
   ]
  },
  {
   "cell_type": "markdown",
   "id": "eb18b778",
   "metadata": {
    "deletable": false,
    "editable": false
   },
   "source": [
    "\n",
    "<details>\n",
    "<summary> Blockly Instructions(click triangle to expand) </summary>\n",
    "<br>\n",
    "    \n",
    "- from `VARIABLES` block, click on `from more_children...get`.\n",
    "- click on `get` and select `shape` option.    \n",
    "- Click on \"Blocks to Code\" at the bottom of the blockly palette.\n",
    "\n",
    "Run the python code cell.\n",
    "</details>"
   ]
  },
  {
   "cell_type": "code",
   "execution_count": null,
   "id": "383217a7",
   "metadata": {
    "datawhys": {
     "response_id": 10,
     "student_response": true
    },
    "deletable": false,
    "editable": true
   },
   "outputs": [],
   "source": []
  },
  {
   "cell_type": "markdown",
   "id": "0bb82e1c",
   "metadata": {
    "deletable": false,
    "editable": false
   },
   "source": [
    "How many rows did we finally get in the final result?\n"
   ]
  },
  {
   "cell_type": "markdown",
   "id": "da7e659a",
   "metadata": {
    "deletable": false,
    "editable": false
   },
   "source": [
    "Ans: "
   ]
  }
 ],
 "metadata": {
  "kernelspec": {
   "display_name": "xpython",
   "language": "python",
   "name": "xpython"
  },
  "language_info": {
   "file_extension": ".py",
   "mimetype": "text/x-python",
   "name": "python",
   "version": "3.7.6"
  }
 },
 "nbformat": 4,
 "nbformat_minor": 5
}
