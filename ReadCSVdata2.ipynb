{
 "cells": [
  {
   "cell_type": "markdown",
   "id": "d97da3d6",
   "metadata": {
    "deletable": false,
    "editable": false
   },
   "source": [
    "## Read CSV data into dataframe(2)\n",
    "\n"
   ]
  },
  {
   "cell_type": "markdown",
   "id": "547636b9",
   "metadata": {
    "deletable": false,
    "editable": false
   },
   "source": [
    "Lets go into further analysis for our dataset. First as a review, lets read the `gre_data.csv` from previous day and view the stored data. "
   ]
  },
  {
   "cell_type": "markdown",
   "id": "f861d3ae",
   "metadata": {
    "deletable": false,
    "editable": false
   },
   "source": [
    "### Import the pandas library"
   ]
  },
  {
   "cell_type": "markdown",
   "id": "b9dbcaa4",
   "metadata": {
    "deletable": false,
    "editable": false
   },
   "source": [
    "<details>\n",
    "<summary>Blockly instructions: (click triangle to expand)</summary>\n",
    "<br>    \n",
    "    \n",
    "- Using the IMPORT menu in the Blockly palette, click on an import block `import some library as variable name`:\n",
    "- After clicking , the block drops into blockly workspace. Change `some library` to `pandas` by typing into that box.\n",
    "- Click on the `variable name` dropdown, choose `Rename variable...`, and type `pd` into the box that pops up.\n",
    "- Click on \"Blocks to Code\" at the bottom of the blockly palette.      \n",
    "    \n",
    "Run the python cell by pressing Shift+Enter.    \n",
    "</details>\n"
   ]
  },
  {
   "cell_type": "code",
   "execution_count": null,
   "id": "03f47695",
   "metadata": {
    "datawhys": {
     "response_id": 1,
     "student_response": true
    },
    "deletable": false,
    "editable": true
   },
   "outputs": [],
   "source": []
  },
  {
   "cell_type": "markdown",
   "id": "9fdfe5c4",
   "metadata": {
    "deletable": false,
    "editable": false
   },
   "source": [
    "### Read csv data into a dataframe"
   ]
  },
  {
   "cell_type": "markdown",
   "id": "e92abe8c",
   "metadata": {
    "deletable": false,
    "editable": false
   },
   "source": [
    "<details>\n",
    "<summary>Blockly instructions: (click triangle to expand)</summary>\n",
    "<br>\n",
    "    \n",
    "- Go to the VARIABLES menu in the Blockly palette and click on the `with pd do ...` block.\n",
    "- After it drops into the Blockly workspace, wait a second until the dropdown stops loading, and then click on it and select `read_csv`.\n",
    "- Then get a `\" \"` block from TEXT, drop it on the workspace, drag it to the `using` part of the first block, and type the file path `datasets/gre_data.csv` into it.\n",
    "        \n",
    "</details>\n"
   ]
  },
  {
   "cell_type": "markdown",
   "id": "d87779ca",
   "metadata": {
    "deletable": false,
    "editable": false
   },
   "source": [
    "<details>\n",
    "<summary>Blockly instructions: (click triangle to expand)</summary>\n",
    "<br>\n",
    "\n",
    "- Using VARIABLES menu in the Blockly palette, click on `Create variable...` and type `gredata` into the pop up window.\n",
    "- Then click on the `set gredata to` block \n",
    "- Connect `set gredata` block to previous `with pd do...` block.\n",
    "- Click on \"Blocks to Code\" at the bottom of the blockly palette.\n",
    "    \n",
    "Run the python cell by pressing Shift+Enter.    \n",
    "</details>"
   ]
  },
  {
   "cell_type": "code",
   "execution_count": null,
   "id": "f1ed9dcf",
   "metadata": {
    "datawhys": {
     "response_id": 2,
     "student_response": true
    },
    "deletable": false,
    "editable": true
   },
   "outputs": [],
   "source": []
  },
  {
   "cell_type": "markdown",
   "id": "3d7e782f",
   "metadata": {
    "deletable": false,
    "editable": false
   },
   "source": [
    "### View the dataframe"
   ]
  },
  {
   "cell_type": "markdown",
   "id": "36f01cd6",
   "metadata": {
    "deletable": false,
    "editable": false
   },
   "source": [
    "<details>\n",
    "<summary>Blockly instructions: (click triangle to expand)</summary>\n",
    "<br>\n",
    "    \n",
    "- Click the variable block  `gredata` in the blockly workspace.\n",
    "- Click on \"Blocks to Code\" at the bottom of the blockly palette.     \n",
    "    \n",
    "Execute the code using Shift+Enter in the python file.\n",
    "</details>\n"
   ]
  },
  {
   "cell_type": "code",
   "execution_count": null,
   "id": "f575122e",
   "metadata": {
    "datawhys": {
     "response_id": 3,
     "student_response": true
    },
    "deletable": false,
    "editable": true
   },
   "outputs": [],
   "source": []
  },
  {
   "cell_type": "markdown",
   "id": "1c452efb",
   "metadata": {
    "deletable": false,
    "editable": false
   },
   "source": [
    "## Know the dataset\n",
    "### Find the Columns(features) in the dataset\n"
   ]
  },
  {
   "cell_type": "markdown",
   "id": "586c6cd2",
   "metadata": {
    "deletable": false,
    "editable": false
   },
   "source": [
    "Now that we have stored our data in the dataframe, let's get some more information from it. Usually, before starting working in a dataset, we need to know the features (columns) in it. To know the columns, we do the following: "
   ]
  },
  {
   "cell_type": "markdown",
   "id": "bed549a4",
   "metadata": {
    "deletable": false,
    "editable": false
   },
   "source": [
    "\n",
    "<details>\n",
    "<summary> Blockly Instructions(click triangle to expand) </summary>\n",
    "<br>\n",
    "    \n",
    "- From `variables` tab, click `from gredata get...` block into the workspace.\n",
    "- In the block, click on get and select the option `columns`.\n",
    "- Click on \"Blocks to Code\" at the bottom of the blockly palette.\n",
    "\n",
    "Run the python code cell.\n",
    "</details>"
   ]
  },
  {
   "cell_type": "markdown",
   "id": "a411df66",
   "metadata": {
    "deletable": false,
    "editable": false
   },
   "source": [
    "The step is abbreviated as:\n",
    " - `from gredata get the column names`"
   ]
  },
  {
   "cell_type": "code",
   "execution_count": null,
   "id": "1b3cef10",
   "metadata": {
    "datawhys": {
     "response_id": 4,
     "student_response": true
    },
    "deletable": false,
    "editable": true
   },
   "outputs": [],
   "source": []
  },
  {
   "cell_type": "markdown",
   "id": "1f749559",
   "metadata": {
    "deletable": false,
    "editable": false
   },
   "source": [
    "### Find the size of the dataset\n"
   ]
  },
  {
   "cell_type": "markdown",
   "id": "4f5705ba",
   "metadata": {
    "deletable": false,
    "editable": false
   },
   "source": [
    "Sometimes, we need to know the size of the dataset for analysis convenience. And by analysis, we mean the rows and columns in the dataset. We can know the size of the dataset (rows and columns) by using the `shape` method. "
   ]
  },
  {
   "cell_type": "markdown",
   "id": "4a4cd019",
   "metadata": {
    "deletable": false,
    "editable": false
   },
   "source": [
    "\n",
    "<details>\n",
    "<summary> Blockly Instructions </summary>\n",
    "<br>\n",
    "    \n",
    "- From `variables` tab, click `from gredata get...` block into the workspace.\n",
    "- In the block, click on get and select the option `shape`.\n",
    "- Click on \"Blocks to Code\" at the bottom of the blockly palette.\n",
    "    \n",
    "Run the python code cell.\n",
    "</details>"
   ]
  },
  {
   "cell_type": "code",
   "execution_count": null,
   "id": "54d3135e",
   "metadata": {
    "datawhys": {
     "response_id": 5,
     "student_response": true
    },
    "deletable": false,
    "editable": true
   },
   "outputs": [],
   "source": []
  },
  {
   "cell_type": "markdown",
   "id": "d84ed672",
   "metadata": {
    "deletable": false,
    "editable": false
   },
   "source": [
    "### Selecting specific data in a dataset\n",
    "\n",
    "We can use the dataframe data mainly in 2 ways\n",
    " - Row wise\n",
    " - Column wise   \n",
    " "
   ]
  },
  {
   "cell_type": "markdown",
   "id": "afddf0bc",
   "metadata": {
    "deletable": false,
    "editable": false
   },
   "source": [
    "### Row access\n",
    "From above example of gredata, the numbers 0,1,... define the rows in the dataset. These numbers are called index of the rows. Rows are basically the datapoints of our dataset. In some cases, we might need to access some range of row data but not all the rows. In order to access the row wise data using the blockly palette, we use the following steps:"
   ]
  },
  {
   "cell_type": "markdown",
   "id": "eb4770b3",
   "metadata": {
    "deletable": false,
    "editable": false
   },
   "source": [
    "<details>\n",
    "<summary> Blockly Instructions </summary>\n",
    "<br>    \n",
    "    \n",
    "- Using the LIST menu in the Blockly palette, click on the `in list listVariable get sub-list from to`. \n",
    "- Next change `listVariable` to `gredata`, the first `#` to `first`, and drop a number block `123` from MATH in the second `#`, then \n",
    "- change the value of the number block to `3`.\n",
    "- Click on \"Blocks to Code\" at the bottom of the blockly palette.\n",
    "\n",
    "Run the python code cell.\n",
    "</details>\n",
    "  \n"
   ]
  },
  {
   "cell_type": "code",
   "execution_count": null,
   "id": "c5c95174",
   "metadata": {
    "datawhys": {
     "response_id": 6,
     "student_response": true
    },
    "deletable": false,
    "editable": true
   },
   "outputs": [],
   "source": []
  },
  {
   "cell_type": "markdown",
   "id": "4bcc8c9c",
   "metadata": {
    "deletable": false,
    "editable": false
   },
   "source": [
    "As you can see, the output is only the first 3 row of the dataframe (index 0,1,2)."
   ]
  },
  {
   "cell_type": "markdown",
   "id": "29d3fbb3",
   "metadata": {
    "deletable": false,
    "editable": false
   },
   "source": [
    "## Selecting a single column from dataframe"
   ]
  },
  {
   "cell_type": "markdown",
   "id": "ce6b2b8c",
   "metadata": {
    "deletable": false,
    "editable": false
   },
   "source": [
    "Selecting columns is a bit different from selecting rows. Unlike rows, dataset columns have their own names. (see the column names above). The values under a column are presented as a list. So we can think of a column as a list of values.\n",
    "\n",
    "First , lets create a list by using blockly."
   ]
  },
  {
   "cell_type": "markdown",
   "id": "25a84f5b",
   "metadata": {
    "deletable": false,
    "editable": false
   },
   "source": [
    "<details>\n",
    "<summary> Blockly Instructions </summary>\n",
    "<br>    \n",
    "    \n",
    "- Using the LISTS menu in the Blockly palette, click on `create empty list`.\n",
    "  Then click on the + sign.\n",
    "  \n",
    "- To add an element to the list, drag a text block and connect it with the list block.\n",
    "\n",
    "- Inside the text block , we write `GPA`.\n",
    "    \n",
    "- Using the LISTS menu in the Blockly palette, click on the `{dictVariable}[ ]` block, change `{dictVariable}` to `gredata`, and drop a `create list with [\"GPA\"]` inside it.\n",
    "- Click on \"Blocks to Code\" at the bottom of the blockly palette.    \n",
    "\n",
    "    \n",
    "Run the python code cell.    "
   ]
  },
  {
   "cell_type": "markdown",
   "id": "04167426",
   "metadata": {
    "deletable": false,
    "editable": false
   },
   "source": [
    "In other words:\n",
    "\n",
    "- `gredata[` using a list containing `\"GPA\"` `]`\n",
    "</details>\n",
    "\n",
    "  "
   ]
  },
  {
   "cell_type": "code",
   "execution_count": null,
   "id": "8a1e552a",
   "metadata": {
    "datawhys": {
     "response_id": 7,
     "student_response": true
    },
    "deletable": false,
    "editable": true
   },
   "outputs": [],
   "source": []
  },
  {
   "cell_type": "markdown",
   "id": "7ac4f3ff",
   "metadata": {
    "deletable": false,
    "editable": false
   },
   "source": [
    "## Selecting multiple columns from dataframe "
   ]
  },
  {
   "cell_type": "markdown",
   "id": "e7f593d2",
   "metadata": {
    "deletable": false,
    "editable": false
   },
   "source": [
    "Just like selecting multiple rows, we can also select multiple columns from a datframe.\n",
    "\n",
    "For selecting multiple columns, we follow the same process as selecting a single column."
   ]
  },
  {
   "cell_type": "markdown",
   "id": "b4395da7",
   "metadata": {
    "deletable": false,
    "editable": false
   },
   "source": [
    "<details>\n",
    "<summary> Blockly Instructions </summary>\n",
    "<br>    \n",
    "    \n",
    "- Follow the previous steps for `selecting a single column`. \n",
    "- Add another element to the list by using the + sign to add `\"GRE\"` to the list: \n",
    "- Click on \"Blocks to Code\" at the bottom of the blockly palette.\n",
    "    \n",
    "Run the python code cell.    \n",
    "</details>\n"
   ]
  },
  {
   "cell_type": "markdown",
   "id": "5bb63276",
   "metadata": {
    "deletable": false,
    "editable": false
   },
   "source": [
    "In other words:\n",
    "- `gredata[` using a list containing `\"GPA\"` and `\"GRE\"` `]`\n",
    "\n",
    "Which looks like this: (add image)"
   ]
  },
  {
   "cell_type": "code",
   "execution_count": null,
   "id": "6112bdc7",
   "metadata": {
    "datawhys": {
     "response_id": 8,
     "student_response": true
    },
    "deletable": false,
    "editable": true
   },
   "outputs": [],
   "source": []
  }
 ],
 "metadata": {
  "kernelspec": {
   "display_name": "xpython",
   "language": "python",
   "name": "xpython"
  },
  "language_info": {
   "file_extension": ".py",
   "mimetype": "text/x-python",
   "name": "python",
   "version": "3.7.6"
  }
 },
 "nbformat": 4,
 "nbformat_minor": 5
}
