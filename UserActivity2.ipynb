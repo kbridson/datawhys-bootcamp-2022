{
 "cells": [
  {
   "cell_type": "markdown",
   "id": "eee528f9",
   "metadata": {
    "deletable": false,
    "editable": false
   },
   "source": [
    "### User Activity (read csv2)\n"
   ]
  },
  {
   "cell_type": "markdown",
   "id": "19fc54ba",
   "metadata": {
    "deletable": false,
    "editable": false
   },
   "source": [
    "In our activity, we have this dataset about books called `goodreadsbooks.csv`. We want to explore more about the dataset and know about its features. \n",
    "\n",
    "For this task, we read the dataset data into a dataframe named `book_data`. \n",
    "\n",
    "For next steps, we want to achieve the following tasks:\n",
    "- know about the columns in `book_data`\n",
    "- know about the shape of `book_data`\n",
    "- select the `BookName` column from `book_data`\n",
    "- select the `AuthorName`,`Score` columns from `book_data`"
   ]
  },
  {
   "cell_type": "markdown",
   "id": "477009f7",
   "metadata": {
    "deletable": false,
    "editable": false
   },
   "source": [
    "### Import pandas library"
   ]
  },
  {
   "cell_type": "markdown",
   "id": "00820250",
   "metadata": {
    "deletable": false,
    "editable": false
   },
   "source": [
    "<details>\n",
    "<summary>Blockly instructions: (click triangle to expand)</summary>\n",
    "<br>    \n",
    "    \n",
    "- Using the IMPORT menu in the Blockly palette, click on an import block `import some library as variable name`:\n",
    "- After clicking , the block drops into blockly workspace. Change `some library` to `pandas` by typing into that box.\n",
    "- Click on the `variable name` dropdown, choose `Rename variable...`, and type `pd` into the box that pops up.\n",
    "- Click on \"Blocks to Code\" at the bottom of the blockly palette.      \n",
    "    \n",
    "Run the python cell by pressing Shift+Enter.    \n",
    "</details>\n"
   ]
  },
  {
   "cell_type": "code",
   "execution_count": null,
   "id": "6e5d7443",
   "metadata": {
    "datawhys": {
     "response_id": 1,
     "student_response": true
    },
    "deletable": false,
    "editable": true
   },
   "outputs": [],
   "source": []
  },
  {
   "cell_type": "markdown",
   "id": "dc7bc839",
   "metadata": {
    "deletable": false,
    "editable": false
   },
   "source": [
    "### Read CSV data into the dataframe"
   ]
  },
  {
   "cell_type": "markdown",
   "id": "362b7744",
   "metadata": {
    "deletable": false,
    "editable": false
   },
   "source": [
    "<details>\n",
    "<summary>Blockly instructions: (click triangle to expand)</summary>\n",
    "<br>\n",
    "    \n",
    "- Go to the VARIABLES menu in the Blockly palette and click on the `with pd do ...` block.\n",
    "- After it drops into the Blockly workspace, wait a second until the dropdown stops loading, and then click on it and select `read_csv`.\n",
    "- Then get a `\" \"` block from TEXT, drop it on the workspace, drag it to the `using` part of the first block, and type the file path `datasets/goodreadsbooks.csv` into it.\n",
    "        \n",
    "</details>"
   ]
  },
  {
   "cell_type": "markdown",
   "id": "c383dcbd",
   "metadata": {
    "deletable": false,
    "editable": false
   },
   "source": [
    "<details>\n",
    "<summary>Blockly instructions: (click triangle to expand)</summary>\n",
    "<br>\n",
    "\n",
    "- Using VARIABLES menu in the Blockly palette, click on `Create variable...` and type `book_data` into the pop up window.\n",
    "- Then click on the `set book_data to` block \n",
    "- Connect `set book_data` block to previous `with pd do...` block.\n",
    "- Click on \"Blocks to Code\" at the bottom of the blockly palette.\n",
    "    \n",
    "Run the python cell by pressing Shift+Enter.    \n",
    "</details>"
   ]
  },
  {
   "cell_type": "code",
   "execution_count": null,
   "id": "2dfdd86e",
   "metadata": {
    "datawhys": {
     "response_id": 2,
     "student_response": true
    },
    "deletable": false,
    "editable": true
   },
   "outputs": [],
   "source": []
  },
  {
   "cell_type": "markdown",
   "id": "d91230ea",
   "metadata": {
    "deletable": false,
    "editable": false
   },
   "source": [
    "### View the dataframe"
   ]
  },
  {
   "cell_type": "markdown",
   "id": "c03f91ca",
   "metadata": {
    "deletable": false,
    "editable": false
   },
   "source": [
    "<details>\n",
    "<summary>Blockly instructions: (click triangle to expand)</summary>\n",
    "<br>\n",
    "    \n",
    "- Click the variable block  `book_data` in the blockly workspace.\n",
    "- Click on \"Blocks to Code\" at the bottom of the blockly palette.     \n",
    "    \n",
    "Execute the code using Shift+Enter in the python file.\n",
    "</details>"
   ]
  },
  {
   "cell_type": "code",
   "execution_count": null,
   "id": "7d14b0d0",
   "metadata": {
    "datawhys": {
     "response_id": 3,
     "student_response": true
    },
    "deletable": false,
    "editable": true
   },
   "outputs": [],
   "source": []
  },
  {
   "cell_type": "markdown",
   "id": "f7581bfb",
   "metadata": {
    "deletable": false,
    "editable": false
   },
   "source": [
    "### Columns(features) in food_data"
   ]
  },
  {
   "cell_type": "markdown",
   "id": "f3d0f1db",
   "metadata": {
    "deletable": false,
    "editable": false
   },
   "source": [
    "\n",
    "<details>\n",
    "<summary> Blockly Instructions(click triangle to expand) </summary>\n",
    "<br>\n",
    "    \n",
    "- From `variables` tab, click `from book_data get...` block into the workspace.\n",
    "- In the block, click on get and select the option `columns`.\n",
    "- Click on \"Blocks to Code\" at the bottom of the blockly palette.\n",
    "\n",
    "Run the python code cell.\n",
    "</details>"
   ]
  },
  {
   "cell_type": "code",
   "execution_count": null,
   "id": "e8c15eae",
   "metadata": {
    "datawhys": {
     "response_id": 4,
     "student_response": true
    },
    "deletable": false,
    "editable": true
   },
   "outputs": [],
   "source": []
  },
  {
   "cell_type": "markdown",
   "id": "c28b36f7",
   "metadata": {
    "deletable": false,
    "editable": false
   },
   "source": [
    "### Size of dataset"
   ]
  },
  {
   "cell_type": "markdown",
   "id": "ec28c4ac",
   "metadata": {
    "deletable": false,
    "editable": false
   },
   "source": [
    "<details>\n",
    "<summary> Blockly Instructions </summary>\n",
    "<br>\n",
    "    \n",
    "- From `variables` tab, click `from book_data get...` block into the workspace.\n",
    "- In the block, click on get and select the option `shape`.\n",
    "- Click on \"Blocks to Code\" at the bottom of the blockly palette.\n",
    "    \n",
    "Run the python code cell.\n",
    "</details>"
   ]
  },
  {
   "cell_type": "code",
   "execution_count": null,
   "id": "f6c71f2b",
   "metadata": {
    "datawhys": {
     "response_id": 5,
     "student_response": true
    },
    "deletable": false,
    "editable": true
   },
   "outputs": [],
   "source": []
  },
  {
   "cell_type": "markdown",
   "id": "fa2c8bde",
   "metadata": {
    "deletable": false,
    "editable": false
   },
   "source": [
    "### Selecting column 'BookName' in food_data"
   ]
  },
  {
   "cell_type": "markdown",
   "id": "13648773",
   "metadata": {
    "deletable": false,
    "editable": false
   },
   "source": [
    "<details>\n",
    "<summary> Blockly Instructions </summary>\n",
    "<br>    \n",
    "    \n",
    "- Using the LISTS menu in the Blockly palette, click on `create empty list`.\n",
    "  Then click on the + sign.\n",
    "  \n",
    "- To add an element to the list, drag a text block and connect it with the list block.\n",
    "\n",
    "- Inside the text block , we write `BookName`.\n",
    "    \n",
    "- Using the LISTS menu in the Blockly palette, click on the `{dictVariable}[ ]` block, change `{dictVariable}` to `book_data`, and drop a `create list with [\"BookName\"]` inside it.\n",
    "- Click on \"Blocks to Code\" at the bottom of the blockly palette.    \n",
    "\n",
    "    \n",
    "Run the python code cell.    "
   ]
  },
  {
   "cell_type": "code",
   "execution_count": null,
   "id": "e8f1dc70",
   "metadata": {
    "datawhys": {
     "response_id": 6,
     "student_response": true
    },
    "deletable": false,
    "editable": true
   },
   "outputs": [],
   "source": []
  },
  {
   "cell_type": "markdown",
   "id": "4c0182d9",
   "metadata": {
    "deletable": false,
    "editable": false
   },
   "source": [
    "### Selecting columns 'AuthorName' and 'Score' from food_data"
   ]
  },
  {
   "cell_type": "markdown",
   "id": "396a047b",
   "metadata": {
    "deletable": false,
    "editable": false
   },
   "source": [
    "<details>\n",
    "<summary> Blockly Instructions </summary>\n",
    "<br>    \n",
    "    \n",
    "- Follow the previous steps for `selecting a single column`. \n",
    "- Add elements to the list by using the + sign to add `\"AuthorName\" and \"Score\" ` to the list: \n",
    "- Click on \"Blocks to Code\" at the bottom of the blockly palette.\n",
    "    \n",
    "Run the python code cell.    \n",
    "</details>\n",
    "\n"
   ]
  },
  {
   "cell_type": "code",
   "execution_count": null,
   "id": "13b92353",
   "metadata": {
    "datawhys": {
     "response_id": 7,
     "student_response": true
    },
    "deletable": false,
    "editable": true
   },
   "outputs": [],
   "source": []
  }
 ],
 "metadata": {
  "kernelspec": {
   "display_name": "xpython",
   "language": "python",
   "name": "xpython"
  },
  "language_info": {
   "file_extension": ".py",
   "mimetype": "text/x-python",
   "name": "python",
   "version": "3.7.6"
  }
 },
 "nbformat": 4,
 "nbformat_minor": 5
}
