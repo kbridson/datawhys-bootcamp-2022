{
 "cells": [
  {
   "cell_type": "markdown",
   "metadata": {
    "deletable": false,
    "editable": false
   },
   "source": [
    "# Plotting 2: Chart Styling with Plotly (Exercise 2)"
   ]
  },
  {
   "cell_type": "markdown",
   "metadata": {
    "deletable": false,
    "editable": false
   },
   "source": [
    "## Question. &nbsp;&nbsp; For different species of tree, how does the volume of timber change with height?"
   ]
  },
  {
   "cell_type": "markdown",
   "metadata": {
    "deletable": false,
    "editable": false
   },
   "source": [
    "Dataset: Measurements of the girth, height and volume of timber in cherry and plum trees\n",
    "\n",
    "Columns:\n",
    "- Girth (in)\n",
    "- Height (ft)\n",
    "- Volume (cubic ft)\n",
    "- Type (cherry, plum)"
   ]
  },
  {
   "cell_type": "markdown",
   "metadata": {
    "deletable": false,
    "editable": false
   },
   "source": [
    "## Pre-programming Discussion"
   ]
  },
  {
   "cell_type": "markdown",
   "metadata": {
    "deletable": false,
    "editable": false
   },
   "source": [
    "<div class=\"alert alert-block alert-danger\">\n",
    "Q1. Which columns from the dataset will be used in the plot?",
    "\n</div>"
   ]
  },
  {
   "cell_type": "markdown",
   "metadata": {
    "datawhys": {
     "response_id": 1,
     "student_response": true
    },
    "deletable": false,
    "editable": true
   },
   "source": [
    "<div class=\"alert alert-block alert-info\">\n",
    "<!-- YOUR ANSWER BEGIN -->\n",
    "\n",
    "\n",
    "\n",
    "\n",
    "\n",
    "<!-- YOUR ANSWER END -->\n",
    "</div>"
   ]
  },
  {
   "cell_type": "markdown",
   "metadata": {
    "deletable": false,
    "editable": false
   },
   "source": [
    "<div class=\"alert alert-block alert-danger\">\n",
    "Q2. Which column will go on the x-axis?",
    "\n</div>"
   ]
  },
  {
   "cell_type": "markdown",
   "metadata": {
    "datawhys": {
     "response_id": 2,
     "student_response": true
    },
    "deletable": false,
    "editable": true
   },
   "source": [
    "<div class=\"alert alert-block alert-info\">\n",
    "<!-- YOUR ANSWER BEGIN -->\n",
    "\n",
    "\n",
    "\n",
    "\n",
    "\n",
    "<!-- YOUR ANSWER END -->\n",
    "</div>"
   ]
  },
  {
   "cell_type": "markdown",
   "metadata": {
    "deletable": false,
    "editable": false
   },
   "source": [
    "<div class=\"alert alert-block alert-danger\">\n",
    "Q3. Which column will go on the y-axis?",
    "\n</div>"
   ]
  },
  {
   "cell_type": "markdown",
   "metadata": {
    "datawhys": {
     "response_id": 3,
     "student_response": true
    },
    "deletable": false,
    "editable": true
   },
   "source": [
    "<div class=\"alert alert-block alert-info\">\n",
    "<!-- YOUR ANSWER BEGIN -->\n",
    "\n",
    "\n",
    "\n",
    "\n",
    "\n",
    "<!-- YOUR ANSWER END -->\n",
    "</div>"
   ]
  },
  {
   "cell_type": "markdown",
   "metadata": {
    "deletable": false,
    "editable": false
   },
   "source": [
    "<div class=\"alert alert-block alert-danger\">\n",
    "Q4. Which column will be used for coloring the points?",
    "\n</div>"
   ]
  },
  {
   "cell_type": "markdown",
   "metadata": {
    "datawhys": {
     "response_id": 4,
     "student_response": true
    },
    "deletable": false,
    "editable": true
   },
   "source": [
    "<div class=\"alert alert-block alert-info\">\n",
    "<!-- YOUR ANSWER BEGIN -->\n",
    "\n",
    "\n",
    "\n",
    "\n",
    "\n",
    "<!-- YOUR ANSWER END -->\n",
    "</div>"
   ]
  },
  {
   "cell_type": "markdown",
   "metadata": {
    "deletable": false,
    "editable": false
   },
   "source": [
    "## Programming Activity: Creating a Scatterplot of Volume vs Height for Different Tree Species with Styling Options"
   ]
  },
  {
   "cell_type": "markdown",
   "metadata": {
    "deletable": false,
    "editable": false
   },
   "source": [
    "<span><h3>\n",
    " Step 1. &nbsp;&nbsp;&nbsp; Read CSV Data into Pandas Dataframe",
    "\n</h3></span>"
   ]
  },
  {
   "cell_type": "markdown",
   "metadata": {
    "deletable": false,
    "editable": false
   },
   "source": [
    "<span><h4>\n",
    " Substep. &nbsp;&nbsp; Import Pandas Library (if Needed)",
    "\n</h4></span>"
   ]
  },
  {
   "cell_type": "markdown",
   "metadata": {
    "deletable": false,
    "editable": false
   },
   "source": [
    "- Create variable &nbsp;`pd`\n",
    "- `import pandas` &nbsp;as&nbsp; `pd`\n",
    "\n",
    "<br>\n",
    "<details>\n",
    "  <summary>Blockly Hints</summary>\n",
    "  <ul>\n",
    "    <li><code>import .. as</code> block found under IMPORT</li>\n",
    "    <li>Variable <code>pd</code> must be created under VARIABLES before it appears in the <code>as</code> dropdown</li>\n",
    "  </ul>\n",
    "</details>"
   ]
  },
  {
   "cell_type": "code",
   "execution_count": null,
   "metadata": {
    "datawhys": {
     "response_id": 5,
     "student_response": true
    },
    "deletable": false,
    "editable": true
   },
   "outputs": [],
   "source": []
  },
  {
   "cell_type": "markdown",
   "metadata": {
    "deletable": false,
    "editable": false
   },
   "source": [
    "<span><h4>\n",
    " Substep. &nbsp;&nbsp; Read CSV data and Save in Variable",
    "\n</h4></span>"
   ]
  },
  {
   "cell_type": "markdown",
   "metadata": {
    "deletable": false,
    "editable": false
   },
   "source": [
    "- Create variable &nbsp;`df`\n",
    "- `Set df to` &nbsp;:&nbsp; `with pd do read_csv` &nbsp;using&nbsp; `datasets/trees2.csv`\n",
    "  \n",
    "\n",
    "<br>\n",
    "<details>\n",
    "  <summary>Blockly Hints</summary>\n",
    "  <ul>\n",
    "    <li>Variable <code>df</code> must be created under VARIABLES before it can be used</li>\n",
    "    <li><code>set .. to</code> block found under VARIABLES</li>\n",
    "    <li><code>with .. do .. using</code> block found under VARIABLES</li>\n",
    "    <li>If <code>do</code> dropdown in <code>with .. do .. using</code> block will not populate, try \"Run All Above Selected Cell\" from the \"Run\" menu and make sure there were no errors.</li>\n",
    "    <li>You need a <code>\"..\"</code> block found under TEXT to fill in the <code>using</code> part of the <code>with .. do .. using</code> block</li>\n",
    "    <li>If <code>with .. do .. using</code> block does not want to snap together nicely with the <code>set .. to</code> block, try dragging the <code>set .. to</code> block instead.</li>\n",
    "  </ul>\n",
    "</details>"
   ]
  },
  {
   "cell_type": "code",
   "execution_count": null,
   "metadata": {
    "datawhys": {
     "response_id": 6,
     "student_response": true
    },
    "deletable": false,
    "editable": true
   },
   "outputs": [],
   "source": []
  },
  {
   "cell_type": "markdown",
   "metadata": {
    "deletable": false,
    "editable": false
   },
   "source": [
    "<span><h4>\n",
    " Substep. &nbsp;&nbsp; Display Dataframe Contents",
    "\n</h4></span>"
   ]
  },
  {
   "cell_type": "markdown",
   "metadata": {
    "deletable": false,
    "editable": false
   },
   "source": [
    "\n",
    "- Place a &nbsp;`df`&nbsp; block (VARIABLES)"
   ]
  },
  {
   "cell_type": "code",
   "execution_count": null,
   "metadata": {
    "datawhys": {
     "response_id": 7,
     "student_response": true
    },
    "deletable": false,
    "editable": true
   },
   "outputs": [],
   "source": []
  },
  {
   "cell_type": "markdown",
   "metadata": {
    "deletable": false,
    "editable": false
   },
   "source": [
    "<span><h3>\n",
    " Step 2. &nbsp;&nbsp;&nbsp; Generate Plotly Scatterplot",
    "\n</h3></span>"
   ]
  },
  {
   "cell_type": "markdown",
   "metadata": {
    "deletable": false,
    "editable": false
   },
   "source": [
    "<span><h4>\n",
    " Substep. &nbsp;&nbsp; Import Plotly Express Library\n",
    "\n</h4></span>"
   ]
  },
  {
   "cell_type": "markdown",
   "metadata": {
    "deletable": false,
    "editable": false
   },
   "source": [
    "- `import plotly.express` &nbsp;as&nbsp; `px`\n",
    "\n",
    "<br>\n",
    "<details>\n",
    "  <summary>Blockly Hints</summary>\n",
    "  <ol>\n",
    "    <li><code>import .. as</code> block found under IMPORT</li>\n",
    "    <li>Variable <code>px</code> must be created under VARIABLES before it appears in the <code>as</code> dropdown</li>\n",
    "  </ol>\n",
    "</details>"
   ]
  },
  {
   "cell_type": "code",
   "execution_count": null,
   "metadata": {
    "datawhys": {
     "response_id": 8,
     "student_response": true
    },
    "deletable": false,
    "editable": true
   },
   "outputs": [],
   "source": []
  },
  {
   "cell_type": "markdown",
   "metadata": {
    "deletable": false,
    "editable": false
   },
   "source": [
    "<span><h4>\n",
    " Substep. &nbsp;&nbsp; Set Columns as x and y\n",
    "\n</h4></span>"
   ]
  },
  {
   "cell_type": "markdown",
   "metadata": {
    "deletable": false,
    "editable": false
   },
   "source": [
    "- Create variable &nbsp;`x`\n",
    "- `Set x to` &nbsp;:&nbsp; `\" Height \"`\n",
    "- Create variable &nbsp;`y`\n",
    "- `Set y to` &nbsp;:&nbsp; `\" Volume \"`\n",
    "\n",
    "\n",
    "<br>\n",
    "<details>\n",
    "  <summary>Blockly Hints</summary>\n",
    "  <ol>\n",
    "    <li>Variable <code>x</code> must be created under VARIABLES before it can be used</li>\n",
    "    <li>Variable <code>y</code> must be created under VARIABLES before it can be used</li>\n",
    "    <li><code>set .. to</code> block found under VARIABLES</li>\n",
    "    <li>You need a <code>\" .. \"</code> block found under TEXT to connect to the <code>set .. to</code> block</li>\n",
    "    <li>If <code>\" .. \"</code> block does not want to snap together nicely with the <code>set .. to</code> block, try dragging the <code>set .. to</code> block instead.</li>\n",
    "  </ol>\n",
    "</details>"
   ]
  },
  {
   "cell_type": "code",
   "execution_count": null,
   "metadata": {
    "datawhys": {
     "response_id": 9,
     "student_response": true
    },
    "deletable": false,
    "editable": true
   },
   "outputs": [],
   "source": []
  },
  {
   "cell_type": "markdown",
   "metadata": {
    "deletable": false,
    "editable": false
   },
   "source": [
    "<span><h4>\n",
    " Substep. &nbsp;&nbsp; Set Additional Plot Options",
    "\n</h4></span>"
   ]
  },
  {
   "cell_type": "markdown",
   "metadata": {
    "deletable": false,
    "editable": false
   },
   "source": [
    "- Create variable &nbsp;`color`\n",
    "- `Set color to` &nbsp;:&nbsp; `\" Type \"`\n",
    "\n",
    "\n",
    "<br>\n",
    "<details>\n",
    "  <summary>Blockly Hints</summary>\n",
    "  <ul>\n",
    "    <li>Variable <code>color</code> must be created under VARIABLES before it can be used</li>\n",
    "    <li><code>set .. to</code> block found under VARIABLES</li>\n",
    "    <li>The <code>\" .. \"</code> block is found under TEXT</li>\n",
    "  </ul>\n",
    "</details>"
   ]
  },
  {
   "cell_type": "code",
   "execution_count": null,
   "metadata": {
    "datawhys": {
     "response_id": 10,
     "student_response": true
    },
    "deletable": false,
    "editable": true
   },
   "outputs": [],
   "source": []
  },
  {
   "cell_type": "markdown",
   "metadata": {
    "deletable": false,
    "editable": false
   },
   "source": [
    "- Create variable &nbsp;`labels`\n",
    "- Get a `create list with` and inside that block put:\n",
    "  - Get a second `create list with` block and inside that block put:\n",
    "    - a `( .. , .. )` block with a `\" .. \"` block containing `Height` in the first slot and a `\" .. \"` block containing `Height (ft)` in the second slot\n",
    "    - a `( .. , .. )` block with a `\" .. \"` block containing `Volume` in the first slot and a `\" .. \"` block containing `Volume of Lumber (cubic ft)` in the second slot\n",
    "    - a `( .. , .. )` block with a `\" .. \"` block containing `Type` in the first slot and a `\" .. \"` block containing `Species of Tree` in the second slot\n",
    "- Get a `dict ..` block and put the nested list inside it\n",
    "- `Set labels to` &nbsp;:&nbsp; `dict ..` with nested list\n",
    "\n",
    "\n",
    "<br>\n",
    "<details>\n",
    "  <summary>Blockly Hints</summary>\n",
    "  <ul>\n",
    "    <li>Variable <code>labels</code> must be created under VARIABLES before it can be used</li>\n",
    "    <li><code>set .. to</code> block found under VARIABLES</li>\n",
    "    <li>The <code>\" .. \"</code> block is found under TEXT</li>\n",
    "    <li>The <code>create list with</code> block is found under LISTS</li>\n",
    "    <li>There should be no empty slots in the <code>create list with</code> block. Use the <code>+ -</code> buttons to change the number of slots</li>\n",
    "    <li>The <code>dict ..</code> block is found under LISTS</li>\n",
    "    <li>The <code>( .. , .. )</code> block is found under LISTS</li>\n",
    "    <li>If <code>\" .. \"</code> block does not want to snap together nicely with the <code>set .. to</code> block, try dragging the <code>set .. to</code> block instead.</li>\n",
    "  </ul>\n",
    "</details>"
   ]
  },
  {
   "cell_type": "code",
   "execution_count": null,
   "metadata": {
    "datawhys": {
     "response_id": 11,
     "student_response": true
    },
    "deletable": false,
    "editable": true
   },
   "outputs": [],
   "source": []
  },
  {
   "cell_type": "markdown",
   "metadata": {
    "deletable": false,
    "editable": false
   },
   "source": [
    "- Create variable &nbsp;`title`\n",
    "- `Set title to` &nbsp;:&nbsp; `\" Volume of Lumber vs Height for Cherry and Plum Trees \"`\n",
    "\n",
    "<br>\n",
    "<details>\n",
    "  <summary>Blockly Hints</summary>\n",
    "  <ul>\n",
    "    <li>Variable <code>title</code> must be created under VARIABLES before it can be used</li>\n",
    "    <li><code>set .. to</code> block found under VARIABLES</li>\n",
    "    <li>The <code>\" .. \"</code> block is found under TEXT</li>\n",
    "  </ul>\n",
    "</details>"
   ]
  },
  {
   "cell_type": "code",
   "execution_count": null,
   "metadata": {
    "datawhys": {
     "response_id": 12,
     "student_response": true
    },
    "deletable": false,
    "editable": true
   },
   "outputs": [],
   "source": []
  },
  {
   "cell_type": "markdown",
   "metadata": {
    "deletable": false,
    "editable": false
   },
   "source": [
    "<span><h4>\n",
    " Substep. &nbsp;&nbsp; Generate Scatterplot",
    "\n</h4></span>"
   ]
  },
  {
   "cell_type": "markdown",
   "metadata": {
    "deletable": false,
    "editable": false
   },
   "source": [
    "- Get a &nbsp;`with px do scatter using`&nbsp; block\n",
    "- Inside that block put a &nbsp;`create list with`&nbsp; block, and inside that block put\n",
    "    - `df`&nbsp; (from VARIABLES)\n",
    "    - a freestyle block with &nbsp;`x=x`&nbsp; in it\n",
    "    - a freestyle block with &nbsp;`y=y`&nbsp; in it\n",
    "    - a freestyle block with &nbsp;`color=color`&nbsp; in it\n",
    "    - a freestyle block with &nbsp;`labels=labels`&nbsp; in it\n",
    "    - a freestyle block with &nbsp;`title=title`&nbsp; in it\n",
    "\n",
    "<br>\n",
    "<details>\n",
    "  <summary>Blockly Hints</summary>\n",
    "  <ol>\n",
    "    <li>If <code>do</code> dropdown in <code>with .. do .. using</code> block will not populate, try \"Run All Above Selected Cell\" from the \"Run\" menu in top-left.</li>\n",
    "    <li>You need a <code>create list with</code> block found under LISTS to fill in the <code>using</code> part of the <code>with .. do .. using</code> block</li>\n",
    "    <li>The <code>create list with</code> block should not have any empty rows. You can use the <code>+ -</code> controls on the block to change the number of rows.</li>\n",
    "  </ol>\n",
    "</details>"
   ]
  },
  {
   "cell_type": "code",
   "execution_count": null,
   "metadata": {
    "datawhys": {
     "response_id": 13,
     "student_response": true
    },
    "deletable": false,
    "editable": true
   },
   "outputs": [],
   "source": []
  }
 ],
 "metadata": {
  "interpreter": {
   "hash": "be14b4e913c6f2457a185c22af60a9db8729a2914b48dcc2c5e42fe4e4a2ce08"
  },
  "kernelspec": {
   "display_name": "xpython",
   "language": "python",
   "name": "xpython"
  },
  "language_info": {
   "codemirror_mode": {
    "name": "ipython",
    "version": 3
   },
   "file_extension": ".py",
   "mimetype": "text/x-python",
   "name": "python",
   "nbconvert_exporter": "python",
   "pygments_lexer": "ipython3",
   "version": "3.9.7"
  }
 },
 "nbformat": 4,
 "nbformat_minor": 4
}
