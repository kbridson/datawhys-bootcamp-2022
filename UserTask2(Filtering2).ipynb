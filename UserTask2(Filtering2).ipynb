{
 "cells": [
  {
   "cell_type": "markdown",
   "id": "a6765678",
   "metadata": {
    "deletable": false,
    "editable": false
   },
   "source": [
    "## User Activity2 (Filtering2)"
   ]
  },
  {
   "cell_type": "markdown",
   "id": "d6eb456e",
   "metadata": {
    "deletable": false,
    "editable": false
   },
   "source": [
    "We have a dataset named `diabetes.csv`. This dataset contains some features that are medical predictors of diabetes. It also has a features named `outcome` which predicts if a person has diabetes or not (0 or 1)."
   ]
  },
  {
   "cell_type": "markdown",
   "id": "c86122b7",
   "metadata": {
    "deletable": false,
    "editable": false
   },
   "source": [
    "Using this dataset, we want to analyze the data of people who have diabetes and people who don't and try to find out the glucose level of diabetic and non-diabetic people."
   ]
  },
  {
   "cell_type": "markdown",
   "id": "570064eb",
   "metadata": {
    "deletable": false,
    "editable": false
   },
   "source": [
    "### import pandas library"
   ]
  },
  {
   "cell_type": "code",
   "execution_count": null,
   "id": "a6952d07",
   "metadata": {
    "datawhys": {
     "response_id": 1,
     "student_response": true
    },
    "deletable": false,
    "editable": true
   },
   "outputs": [],
   "source": []
  },
  {
   "cell_type": "markdown",
   "id": "3518af1c",
   "metadata": {
    "deletable": false,
    "editable": false
   },
   "source": [
    "### Read the datasest into a dataframe"
   ]
  },
  {
   "cell_type": "code",
   "execution_count": null,
   "id": "098cda62",
   "metadata": {
    "datawhys": {
     "response_id": 2,
     "student_response": true
    },
    "deletable": false,
    "editable": true
   },
   "outputs": [],
   "source": []
  },
  {
   "cell_type": "markdown",
   "id": "2f4eafbd",
   "metadata": {
    "deletable": false,
    "editable": false
   },
   "source": [
    "### View the dataframe"
   ]
  },
  {
   "cell_type": "code",
   "execution_count": null,
   "id": "2e392eb2",
   "metadata": {
    "datawhys": {
     "response_id": 3,
     "student_response": true
    },
    "deletable": false,
    "editable": true
   },
   "outputs": [],
   "source": []
  },
  {
   "cell_type": "markdown",
   "id": "575b5cf2",
   "metadata": {
    "deletable": false,
    "editable": false
   },
   "source": [
    "### What are the columns"
   ]
  },
  {
   "cell_type": "markdown",
   "id": "bfb5bd09",
   "metadata": {
    "deletable": false,
    "editable": false
   },
   "source": [
    "<details>\n",
    "<summary> Blockly Instructions(click triangle to expand) </summary>\n",
    "<br>\n",
    "    \n",
    "- From `variables` tab, click `from diabetes_data get...` block into the workspace.\n",
    "- In the block, click on get and select the option `columns`.\n",
    "- Click on \"Blocks to Code\" at the bottom of the blockly palette.\n",
    "\n",
    "Run the python code cell.\n",
    "</details>"
   ]
  },
  {
   "cell_type": "code",
   "execution_count": null,
   "id": "c041f1de",
   "metadata": {
    "datawhys": {
     "response_id": 4,
     "student_response": true
    },
    "deletable": false,
    "editable": true
   },
   "outputs": [],
   "source": []
  },
  {
   "cell_type": "markdown",
   "id": "157e6520",
   "metadata": {
    "deletable": false,
    "editable": false
   },
   "source": [
    "### Get the required Columns (Glucose, BMI, BloodPressure)"
   ]
  },
  {
   "cell_type": "markdown",
   "id": "edb1aa6d",
   "metadata": {
    "deletable": false,
    "editable": false
   },
   "source": [
    "<details>\n",
    "<summary> Blockly Instructions(click triangle to expand) </summary>\n",
    "<br>\n",
    "\n",
    "\n",
    "- From `LISTS` block , click on `{dictVariable} [ ]` block. Put `diabetes_data` in place of {dictVariable}. \n",
    "- From `LISTS`, click on `create list with` block.Click on + sign on the list block 4 times. Take 4 `\" \"` block from `TEXT` block.\n",
    "write `Glucose, BMI, BloodPressure, Outcome` in the text blocks. Drag them inside `create list with` block.\n",
    "- Drag the `create list with` block inside `diabetes_data`\n",
    "- Create a variable `filtered_diabetes`. click on set `filtered_diabetes` to and connect to the `diabetes_data` block.\n",
    "- From `VARIABLES` block, click the `filtered_diabetes` block.     \n",
    "- Click on \"Blocks to Code\" at the bottom of the blockly palette.\n",
    "\n",
    "Run the python code cell.\n",
    "</details>"
   ]
  },
  {
   "cell_type": "code",
   "execution_count": null,
   "id": "570e42ef",
   "metadata": {
    "datawhys": {
     "response_id": 5,
     "student_response": true
    },
    "deletable": false,
    "editable": true
   },
   "outputs": [],
   "source": []
  },
  {
   "cell_type": "markdown",
   "id": "012b2bde",
   "metadata": {
    "deletable": false,
    "editable": false
   },
   "source": [
    "### Diabetic Group data"
   ]
  },
  {
   "cell_type": "markdown",
   "id": "8e1e6b3c",
   "metadata": {
    "deletable": false,
    "editable": false
   },
   "source": [
    "<details>\n",
    "<summary> Blockly Instructions(click triangle to expand) </summary>\n",
    "<br>\n",
    "\n",
    "- from `LISTS`, click on `{dictvariable}[]`. place `filtered_diabetes` inplace of `dictvariable`.\n",
    "get a text block `\" \"`. write \"Outcome\" in the `\" \"` block. drag it inside `filtered_diabetes`.\n",
    "- from `LOGIC` block, click on `equals` block. on the left side of it, put the `filtered_diabetes list with Outcome`. On the right side put a MATH  `123` block. put `1` on it.\n",
    "- from lists, click on `{dictvariable}[]`. place `filtered_diabetes` inplace of `dictvariable`.Put the logic block inside the new `filtered_diabetes` block.\n",
    "- create a variable `diabetic_group`. click on set `diabetic_group to` and connect to the `filtered_diabetes` block.\n",
    "- From `VARIABLES` block, click the `diabetic_group` block.    \n",
    "- Click on \"Blocks to Code\" at the bottom of the blockly palette.\n",
    "\n",
    "Run the python code cell.\n",
    "</details>"
   ]
  },
  {
   "cell_type": "code",
   "execution_count": null,
   "id": "5d55af54",
   "metadata": {
    "datawhys": {
     "response_id": 6,
     "student_response": true
    },
    "deletable": false,
    "editable": true
   },
   "outputs": [],
   "source": []
  },
  {
   "cell_type": "markdown",
   "id": "ef1f3250",
   "metadata": {
    "deletable": false,
    "editable": false
   },
   "source": [
    "### Calculate mean glucose level of diabetic group"
   ]
  },
  {
   "cell_type": "markdown",
   "id": "a4640313",
   "metadata": {
    "deletable": false,
    "editable": false
   },
   "source": [
    "<details>\n",
    "<summary> Blockly Instructions(click triangle to expand) </summary>\n",
    "<br>\n",
    "\n",
    "- from `LISTS`, click on `{dictvariable}[]`. place `diabetic_group` inplace of `dictvariable`.\n",
    "get a text block `\" \"`. write \"Glucose\" in the `\" \"` block. drag it inside `diabetic_group`.\n",
    "- create a variable `mean_glucose_diabetic`. click on set `mean_glucose_diabetic to` and connect to the `diabetic_group` block.\n",
    "- From `VARIABLES` block, click the `mean_glucose_diabetic` block.    \n",
    "- Click on \"Blocks to Code\" at the bottom of the blockly palette.\n",
    "\n",
    "Run the python code cell.\n",
    "</details>"
   ]
  },
  {
   "cell_type": "code",
   "execution_count": null,
   "id": "ba06ffcf",
   "metadata": {
    "datawhys": {
     "response_id": 7,
     "student_response": true
    },
    "deletable": false,
    "editable": true
   },
   "outputs": [],
   "source": []
  },
  {
   "cell_type": "markdown",
   "id": "d38103f9",
   "metadata": {
    "deletable": false,
    "editable": false
   },
   "source": [
    "<details>\n",
    "<summary> Blockly Instructions(click triangle to expand) </summary>\n",
    "<br>\n",
    "\n",
    "- From `VARIABLES` block, click the `with mean_glucose_diabetic do ...using` block. \n",
    "- From do , select `mean` option.    \n",
    "- Click on \"Blocks to Code\" at the bottom of the blockly palette.\n",
    "\n",
    "Run the python code cell.\n",
    "</details>"
   ]
  },
  {
   "cell_type": "code",
   "execution_count": null,
   "id": "067cbf08",
   "metadata": {
    "datawhys": {
     "response_id": 8,
     "student_response": true
    },
    "deletable": false,
    "editable": true
   },
   "outputs": [],
   "source": []
  },
  {
   "cell_type": "markdown",
   "id": "d786e8bd",
   "metadata": {
    "deletable": false,
    "editable": false
   },
   "source": [
    "### Non Diabetic Group data"
   ]
  },
  {
   "cell_type": "markdown",
   "id": "582d978c",
   "metadata": {
    "deletable": false,
    "editable": false
   },
   "source": [
    "<details>\n",
    "<summary> Blockly Instructions(click triangle to expand) </summary>\n",
    "<br>\n",
    "\n",
    "- from `LISTS`, click on `{dictvariable}[]`. place `filtered_diabetes` inplace of `dictvariable`.\n",
    "get a text block `\" \"`. write \"Outcome\" in the `\" \"` block. drag it inside `filtered_diabetes`.\n",
    "- from `LOGIC` block, click on `equals` block. on the left side of it, put the `filtered_diabetes list with Outcome`. On the right side put a MATH  `123` block. put `0` on it.\n",
    "- from lists, click on `{dictvariable}[]`. place `filtered_diabetes` inplace of `dictvariable`.Put the logic block inside the new `filtered_diabetes` block.\n",
    "- create a variable `nondiabetic_group`. click on set `nondiabetic_group to` and connect to the `filtered_diabetes` block.\n",
    "- From `VARIABLES` block, click the `nondiabetic_group` block.    \n",
    "- Click on \"Blocks to Code\" at the bottom of the blockly palette.\n",
    "\n",
    "Run the python code cell.\n",
    "</details>"
   ]
  },
  {
   "cell_type": "code",
   "execution_count": null,
   "id": "7a57ae2b",
   "metadata": {
    "datawhys": {
     "response_id": 9,
     "student_response": true
    },
    "deletable": false,
    "editable": true
   },
   "outputs": [],
   "source": []
  },
  {
   "cell_type": "markdown",
   "id": "7003a1ed",
   "metadata": {
    "deletable": false,
    "editable": false
   },
   "source": [
    "### Calculate mean glucose level of non-diabetic group"
   ]
  },
  {
   "cell_type": "markdown",
   "id": "8f41e0b9",
   "metadata": {
    "deletable": false,
    "editable": false
   },
   "source": [
    "<details>\n",
    "<summary> Blockly Instructions(click triangle to expand) </summary>\n",
    "<br>\n",
    "\n",
    "- from `LISTS`, click on `{dictvariable}[]`. place `nondiabetic_group` inplace of `dictvariable`.\n",
    "get a text block `\" \"`. write \"Glucose\" in the `\" \"` block. drag it inside `nondiabetic_group`.\n",
    "- create a variable `mean_nondiabetic`. click on set `mean_nondiabetic to` and connect to the `nondiabetic_group` block.\n",
    "- From `VARIABLES` block, click the `mean_nondiabetic` block.    \n",
    "- Click on \"Blocks to Code\" at the bottom of the blockly palette.\n",
    "\n",
    "Run the python code cell.\n",
    "</details>"
   ]
  },
  {
   "cell_type": "code",
   "execution_count": null,
   "id": "7bf958e3",
   "metadata": {
    "datawhys": {
     "response_id": 10,
     "student_response": true
    },
    "deletable": false,
    "editable": true
   },
   "outputs": [],
   "source": []
  },
  {
   "cell_type": "markdown",
   "id": "f54daf1a",
   "metadata": {
    "deletable": false,
    "editable": false
   },
   "source": [
    "<details>\n",
    "<summary> Blockly Instructions(click triangle to expand) </summary>\n",
    "<br>\n",
    "\n",
    "- From `VARIABLES` block, click the `with mean_nondiabetic do ...using` block. \n",
    "- From do , select `mean` option.    \n",
    "- Click on \"Blocks to Code\" at the bottom of the blockly palette.\n",
    "\n",
    "Run the python code cell.\n",
    "</details>"
   ]
  },
  {
   "cell_type": "code",
   "execution_count": null,
   "id": "b1498c08",
   "metadata": {
    "datawhys": {
     "response_id": 11,
     "student_response": true
    },
    "deletable": false,
    "editable": true
   },
   "outputs": [],
   "source": []
  },
  {
   "cell_type": "markdown",
   "id": "cb3460db",
   "metadata": {
    "deletable": false,
    "editable": false
   },
   "source": [
    "What are the mean glucose level for both the diabetic and non-diabetic groups?"
   ]
  },
  {
   "cell_type": "markdown",
   "id": "f076e254",
   "metadata": {
    "datawhys": {
     "response_id": 12,
     "student_response": true
    },
    "deletable": false,
    "editable": true
   },
   "source": [
    "<div class=\"alert alert-block alert-info\">\n",
    "<!-- YOUR ANSWER BEGIN -->\n",
    "\n",
    "\n",
    "\n",
    "\n",
    "\n",
    "<!-- YOUR ANSWER END -->\n",
    "</div>"
   ]
  }
 ],
 "metadata": {
  "kernelspec": {
   "display_name": "xpython",
   "language": "python",
   "name": "xpython"
  },
  "language_info": {
   "file_extension": ".py",
   "mimetype": "text/x-python",
   "name": "python",
   "version": "3.7.6"
  }
 },
 "nbformat": 4,
 "nbformat_minor": 5
}
