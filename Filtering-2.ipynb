{
 "cells": [
  {
   "cell_type": "markdown",
   "id": "13d494ee",
   "metadata": {
    "deletable": false,
    "editable": false
   },
   "source": [
    "### Filtering-2 "
   ]
  },
  {
   "cell_type": "markdown",
   "id": "852a8438",
   "metadata": {
    "deletable": false,
    "editable": false
   },
   "source": [
    "Consider the 'student performance on exam' dataset. This dataset has data on several students exam performance. The dataset has the following columns:\n",
    "**gender,\n",
    "race/ethnicity,\n",
    " parental level of education,\n",
    " lunch,\n",
    " test preparation course,\n",
    " math score,\n",
    "reading score,\n",
    "writing score.**\n",
    "\n",
    "Our task to analyze the students' exam score performance based on different criteria which focuses on different types of students. To do an in-depth analysis, we will need to do some filtering to focus on the data required to do this performance analysis.\n",
    "\n",
    "First, we read the dataset using pandas library and store it in a dataframe."
   ]
  },
  {
   "cell_type": "markdown",
   "id": "13ee3757",
   "metadata": {
    "deletable": false,
    "editable": false
   },
   "source": [
    "#### Daily activity:\n",
    "    "
   ]
  },
  {
   "cell_type": "code",
   "execution_count": null,
   "id": "b5b57ff3",
   "metadata": {
    "datawhys": {
     "response_id": 1,
     "student_response": true
    },
    "deletable": false,
    "editable": true
   },
   "outputs": [],
   "source": []
  },
  {
   "cell_type": "markdown",
   "id": "c12b0612",
   "metadata": {
    "deletable": false,
    "editable": false
   },
   "source": [
    "### Read the dataset and store in a dataframe\n",
    "\n",
    "**File location:** datasets/StudentsPerformance.csv\n",
    "\n",
    "**dataframe:** student_data"
   ]
  },
  {
   "cell_type": "code",
   "execution_count": null,
   "id": "52306c1a",
   "metadata": {
    "datawhys": {
     "response_id": 2,
     "student_response": true
    },
    "deletable": false,
    "editable": true
   },
   "outputs": [],
   "source": []
  },
  {
   "cell_type": "markdown",
   "id": "2bb71fa6",
   "metadata": {
    "deletable": false,
    "editable": false
   },
   "source": [
    "### View the dataframe"
   ]
  },
  {
   "cell_type": "code",
   "execution_count": null,
   "id": "a380af39",
   "metadata": {
    "datawhys": {
     "response_id": 3,
     "student_response": true
    },
    "deletable": false,
    "editable": true
   },
   "outputs": [],
   "source": []
  },
  {
   "cell_type": "markdown",
   "id": "b5af5c58",
   "metadata": {
    "deletable": false,
    "editable": false
   },
   "source": [
    "#### Add new columns in dataset\n",
    "\n",
    "In the dataset, there are 3 scores of students' exam performance shown. We are interested in comparing their performance on their overall score. So, to get their overall score, we add all these scores together in a new variable 'total score' and store them in 'student_data' dataframe as shown below."
   ]
  },
  {
   "cell_type": "markdown",
   "id": "5beca650",
   "metadata": {
    "deletable": false,
    "editable": false
   },
   "source": [
    "<details>\n",
    "<summary>Blockly instructions: (click triangle to expand)</summary>\n",
    "<br>    \n",
    "    \n",
    "- From `LISTS`, get the `{dictVariable} []` block.\n",
    "Make 2 duplicate copies of it. Replace {dictVariable} with `student_data`.    \n",
    "- From `TEXT`, get 3 `\" \"` blocks. Write `math score`,`reading score`,`writing score` in them. Put them inside the `student_data[]` blocks.\n",
    "- From `LISTS`, get `create list with` block. Add 3 `student_data` blocks into that.\n",
    "_ From `MATH`, get `sum of list` block. Connect it to `create list with` block.     \n",
    "- Click on \"Blocks to Code\" at the bottom of the blockly palette.   \n",
    "    \n",
    "- After blocks to code, in the code cell, type `student_data['total_score']=`existing code   \n",
    "    \n",
    "Run the python cell by pressing Shift+Enter.    \n",
    "</details>\n"
   ]
  },
  {
   "cell_type": "code",
   "execution_count": null,
   "id": "7995ab5d",
   "metadata": {
    "datawhys": {
     "response_id": 4,
     "student_response": true
    },
    "deletable": false,
    "editable": true
   },
   "outputs": [],
   "source": []
  },
  {
   "cell_type": "markdown",
   "id": "0fbf64ba",
   "metadata": {
    "deletable": false,
    "editable": false
   },
   "source": [
    "### View the new column"
   ]
  },
  {
   "cell_type": "markdown",
   "id": "3266d6f6",
   "metadata": {
    "deletable": false,
    "editable": false
   },
   "source": [
    "<details>\n",
    "<summary>Blockly instructions: (click triangle to expand)</summary>\n",
    "<br>\n",
    "    \n",
    "- Click the variable block  `student_data` in the blockly workspace.\n",
    "- Click on \"Blocks to Code\" at the bottom of the blockly palette.     \n",
    "    \n",
    "Execute the code using Shift+Enter in the python file.\n",
    "</details>"
   ]
  },
  {
   "cell_type": "code",
   "execution_count": null,
   "id": "b75c5bf0",
   "metadata": {
    "datawhys": {
     "response_id": 5,
     "student_response": true
    },
    "deletable": false,
    "editable": true
   },
   "outputs": [],
   "source": []
  },
  {
   "cell_type": "markdown",
   "id": "6c9cd9de",
   "metadata": {
    "deletable": false,
    "editable": false
   },
   "source": [
    "### Find out column values count"
   ]
  },
  {
   "cell_type": "markdown",
   "id": "e48f1343",
   "metadata": {
    "deletable": false,
    "editable": false
   },
   "source": [
    "<details>\n",
    "<summary>Blockly instructions: (click triangle to expand)</summary>\n",
    "<br>\n",
    "    \n",
    "- From `LISTS`, get `{dictVariable}[ ]` block.\n",
    "- Replace `dictVariable` with `student_data`.\n",
    "- From `TEXT`, get `\" \"` block. Put `race/ethnicity` inside it and drag inside `student_data` block.\n",
    "- Click `Blocks to Code`.\n",
    "    \n",
    "- In the code cell, write - existing code.`value_counts()`.    \n",
    "    \n",
    "Execute the code using Shift+Enter in the python file.\n",
    "</details>"
   ]
  },
  {
   "cell_type": "code",
   "execution_count": null,
   "id": "ff9a84c6",
   "metadata": {
    "datawhys": {
     "response_id": 6,
     "student_response": true
    },
    "deletable": false,
    "editable": true
   },
   "outputs": [],
   "source": []
  },
  {
   "cell_type": "markdown",
   "id": "46303b8d",
   "metadata": {
    "deletable": false,
    "editable": false
   },
   "source": [
    "Now , we are only interested in a special group(from 'race/ethnicity' column) which is group D. "
   ]
  },
  {
   "cell_type": "markdown",
   "id": "82c6a857",
   "metadata": {
    "deletable": false,
    "editable": false
   },
   "source": [
    "### Filter 'Group D' data"
   ]
  },
  {
   "cell_type": "markdown",
   "id": "a699fe3c",
   "metadata": {
    "deletable": false,
    "editable": false
   },
   "source": [
    "<details>\n",
    "<summary> Blockly Instructions(click triangle to expand) </summary>\n",
    "<br>\n",
    "\n",
    "- from `LISTS`, click on `{dictvariable}[]`. place `student_data` inplace of `dictvariable`.\n",
    "get a text block `\" \"`. write \"race/ethnicity\" in the `\" \"` block. drag it inside `student_data`.\n",
    "- from `LOGIC` block, click on `equals` block. on the left side of it, put the `student_data list with race/ethnicity`. On the right side put a `TEXT` block. put `group D` on it.\n",
    "- from lists, click on `{dictvariable}[]`. place `student_data` inplace of `dictvariable`.Put the logic block inside the new `student_data` block.\n",
    "- create a variable `group_D`. click on set `group_D` to and connect the `student_data` block.\n",
    "- From `VARIABLES` block, click the `group_D` block.    \n",
    "- Click on \"Blocks to Code\" at the bottom of the blockly palette.\n",
    "\n",
    "Run the python code cell.\n",
    "</details>"
   ]
  },
  {
   "cell_type": "code",
   "execution_count": null,
   "id": "f450c23d",
   "metadata": {
    "datawhys": {
     "response_id": 7,
     "student_response": true
    },
    "deletable": false,
    "editable": true
   },
   "outputs": [],
   "source": []
  },
  {
   "cell_type": "markdown",
   "id": "282715fb",
   "metadata": {
    "deletable": false,
    "editable": false
   },
   "source": [
    "### Filter required Columns"
   ]
  },
  {
   "cell_type": "markdown",
   "id": "f4f4c015",
   "metadata": {
    "deletable": false,
    "editable": false
   },
   "source": [
    "Now that we have group_D specific data, we dive into more deeper exploration of this group data.\n",
    "We want to know only about the students' `gender, test preparation course, parental education and total score`.\n",
    "\n"
   ]
  },
  {
   "cell_type": "markdown",
   "id": "da3d3e0e",
   "metadata": {
    "deletable": false,
    "editable": false
   },
   "source": [
    "<details>\n",
    "<summary> Blockly Instructions(click triangle to expand) </summary>\n",
    "<br>\n",
    "\n",
    "\n",
    "- From `LISTS` block , click on `{dictVariable} [ ]` block. Put `group_D` in place of {dictVariable}. \n",
    "- From `LISTS`, click on `create list with` block.Click on + sign on the list block 4 times. Take 4 `\" \"` block from `TEXT` block.\n",
    "write `gender, parental level of education, test preparation course, total_score` in the text blocks. Drag them inside `create list with` block.\n",
    "- Drag the `create list with` block inside `group_D`\n",
    "- Create a variable `new_data`. click on set `new_data` to and connect to the `group_D` block.\n",
    "- From `VARIABLES` block, click the `new_data` block.     \n",
    "- Click on \"Blocks to Code\" at the bottom of the blockly palette.\n",
    "\n",
    "Run the python code cell.\n",
    "</details>"
   ]
  },
  {
   "cell_type": "code",
   "execution_count": null,
   "id": "d3efebc7",
   "metadata": {
    "datawhys": {
     "response_id": 8,
     "student_response": true
    },
    "deletable": false,
    "editable": true
   },
   "outputs": [],
   "source": []
  },
  {
   "cell_type": "markdown",
   "id": "fe652665",
   "metadata": {
    "deletable": false,
    "editable": false
   },
   "source": [
    "### Completed prep student scores\n"
   ]
  },
  {
   "cell_type": "markdown",
   "id": "7ecb8385",
   "metadata": {
    "deletable": false,
    "editable": false
   },
   "source": [
    "For the next step, we find out the scores of the students who had taken the exam preparation course.\n"
   ]
  },
  {
   "cell_type": "markdown",
   "id": "78d495a4",
   "metadata": {
    "deletable": false,
    "editable": false
   },
   "source": [
    "<details>\n",
    "<summary> Blockly Instructions(click triangle to expand) </summary>\n",
    "<br>\n",
    "\n",
    "- from `LISTS`, click on `{dictvariable}[]`. place `newdata` inplace of `dictvariable`.\n",
    "get a text block `\" \"`. write \"test preparation course\" in the `\" \"` block. drag it inside `newdata`.\n",
    "- from `LOGIC` block, click on `equals` block. on the left side of it, put the `newdata list with test preparation course`. On the right side put a `\" \"` block. put `completed` on it.\n",
    "- from lists, click on `{dictvariable}[]`. place `newdata` inplace of `dictvariable`.Put the logic block inside the new `newdata` block.\n",
    "- create a variable `complete_prep`. click on set `complete_prep to` and connect to the `newdata` block.\n",
    "- From `VARIABLES` block, click the `complete_prep` block.    \n",
    "- Click on \"Blocks to Code\" at the bottom of the blockly palette.\n",
    "\n",
    "Run the python code cell.\n",
    "</details>"
   ]
  },
  {
   "cell_type": "code",
   "execution_count": null,
   "id": "b346792c",
   "metadata": {
    "datawhys": {
     "response_id": 9,
     "student_response": true
    },
    "deletable": false,
    "editable": true
   },
   "outputs": [],
   "source": []
  },
  {
   "cell_type": "markdown",
   "id": "2591aad9",
   "metadata": {
    "deletable": false,
    "editable": false
   },
   "source": [
    "### Calculate mean of complete prep scores"
   ]
  },
  {
   "cell_type": "markdown",
   "id": "27170c76",
   "metadata": {
    "deletable": false,
    "editable": false
   },
   "source": [
    "<details>\n",
    "<summary> Blockly Instructions(click triangle to expand) </summary>\n",
    "<br>\n",
    "\n",
    "- from `LISTS`, click on `{dictvariable}[]`. place `complete_prep` inplace of `dictvariable`.\n",
    "get a text block `\" \"`. write \"total_score\" in the `\" \"` block. drag it inside `complete_prep`.\n",
    "- create a variable `mean_complete_prep`. click on set `mean_complete_prep to` and connect to the `complete_prep` block.\n",
    "- From `VARIABLES` block, click the `mean_complete_prep` block.    \n",
    "- Click on \"Blocks to Code\" at the bottom of the blockly palette.\n",
    "\n",
    "Run the python code cell.\n",
    "</details>"
   ]
  },
  {
   "cell_type": "code",
   "execution_count": null,
   "id": "9ed3dbec",
   "metadata": {
    "datawhys": {
     "response_id": 10,
     "student_response": true
    },
    "deletable": false,
    "editable": true
   },
   "outputs": [],
   "source": []
  },
  {
   "cell_type": "markdown",
   "id": "07bf5dbd",
   "metadata": {
    "deletable": false,
    "editable": false
   },
   "source": [
    "<details>\n",
    "<summary> Blockly Instructions(click triangle to expand) </summary>\n",
    "<br>\n",
    "\n",
    "- From `VARIABLES` block, click the `with mean_complete_prep do ...using` block. \n",
    "- From do , select `mean` option.    \n",
    "- Click on \"Blocks to Code\" at the bottom of the blockly palette.\n",
    "\n",
    "Run the python code cell.\n",
    "</details>"
   ]
  },
  {
   "cell_type": "code",
   "execution_count": null,
   "id": "95b4a131",
   "metadata": {
    "datawhys": {
     "response_id": 11,
     "student_response": true
    },
    "deletable": false,
    "editable": true
   },
   "outputs": [],
   "source": []
  },
  {
   "cell_type": "markdown",
   "id": "f538ef8b",
   "metadata": {
    "deletable": false,
    "editable": false
   },
   "source": [
    "Now , we want to compare scores for students who didnt prepare well for the exam.\n",
    "For that, we filter data for students who had not completed prep for exam.\n",
    "To do that, we filter from newdata since that had all completed and incomplete data."
   ]
  },
  {
   "cell_type": "markdown",
   "id": "766f60b9",
   "metadata": {
    "deletable": false,
    "editable": false
   },
   "source": [
    "### Incomplete prep student scores"
   ]
  },
  {
   "cell_type": "markdown",
   "id": "08520c05",
   "metadata": {
    "deletable": false,
    "editable": false
   },
   "source": [
    "<details>\n",
    "<summary> Blockly Instructions(click triangle to expand) </summary>\n",
    "<br>\n",
    "\n",
    "- from `LISTS`, click on `{dictvariable}[]`. place `newdata` inplace of `dictvariable`.\n",
    "get a text block `\" \"`. write \"test preparation course\" in the `\" \"` block. drag it inside `newdata`.\n",
    "- from `LOGIC` block, click on `equals` block. on the left side of it, put the `newdata list with test preparation course`. On the right side put a `\" \"` block. put `none` on it.\n",
    "- from `LISTS`, click on `{dictvariable}[]`. place `newdata` inplace of `dictvariable`.Put the logic block inside the new `newdata` block.\n",
    "- create a variable `incomplete_prep`. click on set `incomplete_prep to` and connect to the `newdata` block.\n",
    "- From `VARIABLES` block, click the `incomplete_prep` block.    \n",
    "- Click on \"Blocks to Code\" at the bottom of the blockly palette.\n",
    "\n",
    "Run the python code cell.\n",
    "</details>"
   ]
  },
  {
   "cell_type": "code",
   "execution_count": null,
   "id": "41ae85f2",
   "metadata": {
    "datawhys": {
     "response_id": 12,
     "student_response": true
    },
    "deletable": false,
    "editable": true
   },
   "outputs": [],
   "source": []
  },
  {
   "cell_type": "markdown",
   "id": "5580807d",
   "metadata": {
    "deletable": false,
    "editable": false
   },
   "source": [
    "### Calculate mean of incomplete prep scores"
   ]
  },
  {
   "cell_type": "markdown",
   "id": "0a19e603",
   "metadata": {
    "deletable": false,
    "editable": false
   },
   "source": [
    "<details>\n",
    "<summary> Blockly Instructions(click triangle to expand) </summary>\n",
    "<br>\n",
    "\n",
    "- from `LISTS`, click on `{dictvariable}[]`. place `incomplete_prep` inplace of `dictvariable`.\n",
    "get a text block `\" \"`. write \"total_score\" in the `\" \"` block. drag it inside `incomplete_prep`.\n",
    "- create a variable `mean_incomplete_prep`. click on set `mean_incomplete_prep to` and connect to the `incomplete_prep` block.\n",
    "- From `VARIABLES` block, click the `mean_incomplete_prep` block.    \n",
    "- Click on \"Blocks to Code\" at the bottom of the blockly palette.\n",
    "\n",
    "Run the python code cell.\n",
    "</details>"
   ]
  },
  {
   "cell_type": "code",
   "execution_count": null,
   "id": "3dd7e6c3",
   "metadata": {
    "datawhys": {
     "response_id": 13,
     "student_response": true
    },
    "deletable": false,
    "editable": true
   },
   "outputs": [],
   "source": []
  },
  {
   "cell_type": "markdown",
   "id": "c65462de",
   "metadata": {
    "deletable": false,
    "editable": false
   },
   "source": [
    "<details>\n",
    "<summary> Blockly Instructions(click triangle to expand) </summary>\n",
    "<br>\n",
    "\n",
    "- From `VARIABLES` block, click the `with mean_incomplete_prep do ...using` block. \n",
    "- From do , select `mean` option.    \n",
    "- Click on \"Blocks to Code\" at the bottom of the blockly palette.\n",
    "\n",
    "Run the python code cell.\n",
    "</details>"
   ]
  },
  {
   "cell_type": "code",
   "execution_count": null,
   "id": "b0e05234",
   "metadata": {
    "datawhys": {
     "response_id": 14,
     "student_response": true
    },
    "deletable": false,
    "editable": true
   },
   "outputs": [],
   "source": []
  },
  {
   "cell_type": "markdown",
   "id": "5d98968e",
   "metadata": {
    "deletable": false,
    "editable": false
   },
   "source": [
    "Which of the 2 groups performed better in terms of mean score??"
   ]
  },
  {
   "cell_type": "markdown",
   "id": "cf533ea9",
   "metadata": {
    "deletable": false,
    "editable": false
   },
   "source": [
    "<details>\n",
    "<summary> Best Performing Group : </summary>\n",
    "<br>\n",
    "\n",
    "We can see the comparison of results from students who completely prepared for the exam oppose to those who didn't.\n",
    "From the data, we observe that people who completed their preparation had a better mean score than the people who didn't.\n",
    "\n",
    "</details>\n",
    "\n"
   ]
  }
 ],
 "metadata": {
  "kernelspec": {
   "display_name": "xpython",
   "language": "python",
   "name": "xpython"
  },
  "language_info": {
   "file_extension": ".py",
   "mimetype": "text/x-python",
   "name": "python",
   "version": "3.7.6"
  }
 },
 "nbformat": 4,
 "nbformat_minor": 5
}
