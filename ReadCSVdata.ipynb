{
 "cells": [
  {
   "cell_type": "markdown",
   "id": "489ac6bc",
   "metadata": {
    "deletable": false,
    "editable": false
   },
   "source": [
    "# Reading CSV data file"
   ]
  },
  {
   "cell_type": "markdown",
   "id": "c90dc363",
   "metadata": {
    "deletable": false,
    "editable": false
   },
   "source": [
    "From our previous lesson, we have learned about tabular data and CSV files that store data for our analysis. Today, we will learn an integral topic that is very much essential to work with data, which is **dataframes**. "
   ]
  },
  {
   "cell_type": "markdown",
   "id": "f26e633d",
   "metadata": {
    "deletable": false,
    "editable": false
   },
   "source": [
    "### Dataframes"
   ]
  },
  {
   "cell_type": "markdown",
   "id": "d29494f7",
   "metadata": {
    "deletable": false,
    "editable": false
   },
   "source": [
    "In order to work with data in a notebook, first, we need to load our csv data somewhere. This enables us to repeatedly use that storage for further data analysis. That storage is called a **dataframe**. Data scientists load their csv data into a dataframe to perform a deeper analysis of the data. It's basically a variable that stores the tabular data (having rows, columns, headers, etc).   "
   ]
  },
  {
   "cell_type": "markdown",
   "id": "dcc54173",
   "metadata": {
    "deletable": false,
    "editable": false
   },
   "source": [
    "### Libraries"
   ]
  },
  {
   "cell_type": "markdown",
   "id": "82100ab1",
   "metadata": {
    "deletable": false,
    "editable": false
   },
   "source": [
    "For analysis of data, sometimes data scientists rely on libraries to make it easier to work with data. For example, we need to do the square root of a number or square of a number or permutation from a set of numbers. So, instead doing these tasks from scratch, we can use the MATH library to do these tasks for us. This helps us to focus on the much broader tasks that we are asked to do. For data science work, a very common and useful library is **pandas**. In our next sections, we will use both **pandas** and **dataframes** and see how they work."
   ]
  },
  {
   "cell_type": "markdown",
   "id": "00d5725b",
   "metadata": {
    "deletable": false,
    "editable": false
   },
   "source": [
    "### Import Pandas Library"
   ]
  },
  {
   "cell_type": "markdown",
   "id": "18310fb5",
   "metadata": {
    "deletable": false,
    "editable": false
   },
   "source": [
    "As we know, we will use Blockly for our coding. For the first step, we need to read the data from a data source, i.e., a csv data file. First of all, we import the pandas library before reading the data. Click on Blockly instructions and follow the steps: "
   ]
  },
  {
   "cell_type": "markdown",
   "id": "43649ecf",
   "metadata": {
    "deletable": false,
    "editable": false
   },
   "source": [
    "<details>\n",
    "<summary>Blockly instructions: (click triangle to expand)</summary>\n",
    "<br>    \n",
    "    \n",
    "- Using the IMPORT menu in the Blockly palette, click on an import block `import some library as variable name`:\n",
    "- After clicking , the block drops into blockly workspace. Change `some library` to `pandas` by typing into that box.\n",
    "- Click on the `variable name` dropdown, choose `Rename variable...`, and type `pd` into the box that pops up.\n",
    "- Click on \"Blocks to Code\" at the bottom of the blockly palette.      \n",
    "    \n",
    "Run the python cell by pressing Shift+Enter.    \n",
    "</details>\n"
   ]
  },
  {
   "cell_type": "markdown",
   "id": "c389618c",
   "metadata": {
    "deletable": false,
    "editable": false
   },
   "source": [
    "This imports the `pandas` dataframe library and gives it the variable name, or alias, `pd`.\n",
    "The steps we just did can be abbreviated as:\n",
    "\n",
    "- `import pandas as pd`\n",
    "\n",
    " "
   ]
  },
  {
   "cell_type": "code",
   "execution_count": null,
   "id": "8e6152bc",
   "metadata": {
    "datawhys": {
     "response_id": 1,
     "student_response": true
    },
    "deletable": false,
    "editable": true
   },
   "outputs": [],
   "source": []
  },
  {
   "cell_type": "markdown",
   "id": "340b096f",
   "metadata": {
    "deletable": false,
    "editable": false
   },
   "source": [
    "### Read the CSV data into a dataframe"
   ]
  },
  {
   "cell_type": "markdown",
   "id": "2d64eae6",
   "metadata": {
    "deletable": false,
    "editable": false
   },
   "source": [
    "Now that we have imported the library, we can read our data file.\n",
    "\n",
    "We can use `pd` from now on to read files. \n",
    "Our file is called `gre_data.csv` and it is in the `datasets` folder.\n",
    "That means the **path** from this notebook (the one you're reading) to the data is `datasets/gre_data.csv`.\n",
    "\n",
    "\n"
   ]
  },
  {
   "cell_type": "markdown",
   "id": "42da7c59",
   "metadata": {
    "deletable": false,
    "editable": false
   },
   "source": [
    "<details>\n",
    "<summary>Blockly instructions: (click triangle to expand)</summary>\n",
    "<br>\n",
    "    \n",
    "- Go to the VARIABLES menu in the Blockly palette and click on the `with pd do ...` block.\n",
    "- After it drops into the Blockly workspace, wait a second until the dropdown stops loading, and then click on it and select `read_csv`.\n",
    "- Then get a `\" \"` block from TEXT, drop it on the workspace, drag it to the `using` part of the first block, and type the file path `datasets/gre_data.csv` into it.\n",
    "        \n",
    "</details>\n"
   ]
  },
  {
   "cell_type": "markdown",
   "id": "f695a2b0",
   "metadata": {
    "deletable": false,
    "editable": false
   },
   "source": [
    "This step is abbreviated as:\n",
    "\n",
    "- `with pd do read_csv using \"datasets/gre_data.csv\"`\n",
    "\n"
   ]
  },
  {
   "cell_type": "markdown",
   "id": "ae993636",
   "metadata": {
    "deletable": false,
    "editable": false
   },
   "source": [
    "Now , we have read our data from the dataset. But we haven't saved it anywhere. To access this data frequently, we need to save it somewhere. We use the concept of `dataframe` here. We save our data in a `dataframe`."
   ]
  },
  {
   "cell_type": "markdown",
   "id": "2d47e8c7",
   "metadata": {
    "deletable": false,
    "editable": false
   },
   "source": [
    "<details>\n",
    "<summary>Blockly instructions: (click triangle to expand)</summary>\n",
    "<br>\n",
    "\n",
    "- Using VARIABLES menu in the Blockly palette, click on `Create variable...` and type `gretest` into the pop up window.\n",
    "- Then click on the `set gretest to` block \n",
    "- Connect `set gretest` block to previous `with pd do...` block.\n",
    "- Click on \"Blocks to Code\" at the bottom of the blockly palette.\n",
    "    \n",
    "Run the python cell by pressing Shift+Enter.    \n",
    "</details>"
   ]
  },
  {
   "cell_type": "markdown",
   "id": "8f646ec5",
   "metadata": {
    "deletable": false,
    "editable": false
   },
   "source": [
    "In the future, we will abbreviate these steps as:\n",
    "\n",
    "- Create `gretest` and set it to `with pd do read_csv using \"datasets/gre_data.csv\"`\n",
    "\n"
   ]
  },
  {
   "cell_type": "code",
   "execution_count": null,
   "id": "2b2d5c3d",
   "metadata": {
    "datawhys": {
     "response_id": 2,
     "student_response": true
    },
    "deletable": false,
    "editable": true
   },
   "outputs": [],
   "source": []
  },
  {
   "cell_type": "markdown",
   "id": "a856aeba",
   "metadata": {
    "deletable": false,
    "editable": false
   },
   "source": [
    "### View the dataframe "
   ]
  },
  {
   "cell_type": "markdown",
   "id": "02f31a00",
   "metadata": {
    "deletable": false,
    "editable": false
   },
   "source": [
    "Finally we view our saved data in the dataframe."
   ]
  },
  {
   "cell_type": "markdown",
   "id": "fb18d2ec",
   "metadata": {
    "deletable": false,
    "editable": false
   },
   "source": [
    "<details>\n",
    "<summary>Blockly instructions: (click triangle to expand)</summary>\n",
    "<br>\n",
    "    \n",
    "- Click the variable block  `gretest` in the blockly workspace.\n",
    "- Click on \"Blocks to Code\" at the bottom of the blockly palette.     \n",
    "    \n",
    "Execute the code using Shift+Enter in the python file.\n",
    "</details>\n"
   ]
  },
  {
   "cell_type": "code",
   "execution_count": null,
   "id": "e2ae4cae",
   "metadata": {
    "datawhys": {
     "response_id": 3,
     "student_response": true
    },
    "deletable": false,
    "editable": true
   },
   "outputs": [],
   "source": []
  }
 ],
 "metadata": {
  "kernelspec": {
   "display_name": "xpython",
   "language": "python",
   "name": "xpython"
  },
  "language_info": {
   "file_extension": ".py",
   "mimetype": "text/x-python",
   "name": "python",
   "version": "3.7.6"
  }
 },
 "nbformat": 4,
 "nbformat_minor": 5
}
