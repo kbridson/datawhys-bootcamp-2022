{
 "cells": [
  {
   "cell_type": "markdown",
   "id": "cc09a72f",
   "metadata": {
    "deletable": false,
    "editable": false
   },
   "source": [
    "# Data Filtering\n",
    "## Learning Goals:\n",
    "After completing this tutorial , the interns will be able to\n",
    "   - Know the definition of filtering\n",
    "       - What filtering means in terms of data manipulation\n",
    "       - The need for filtering in a dataset\n",
    "   - Filter csv data by columns\n",
    "       - select single or multiple columns\n",
    "   - Filter csv data by range of rows\n",
    "   - Store filtered data in a variable and view them\n",
    "   - Filter data by specific feature/column conditions\n",
    "       - filter data by specific column values\n",
    "       - filter data by logical operators (> < =)\n",
    "   - Filter data by conditional operators (and/or)\n",
    "    \n",
    "    "
   ]
  },
  {
   "cell_type": "markdown",
   "id": "26c94379",
   "metadata": {
    "deletable": false,
    "editable": false
   },
   "source": [
    "### Activity\n",
    "\n",
    "Suppose we have some data on gpa, gre and gender. we want to see the students performance based on gender (male/female).\n",
    "\n",
    "| GRE         | GPA         | Gender |\n",
    "| ----------- | ----------- | ------ |\n",
    "| 316         |  3.4        |    M   |\n",
    "| 308         |  3.1        |    M   |\n",
    "| 327         |  3.7        |    F   |\n",
    "| 310         |  3.33       |    F   |\n",
    "| 305         |  3.45       |    M   |\n",
    "| 322         |  3.18       |    F   |\n",
    "| 316         |  3.25       |    M   |\n",
    "| 300         |  3.4        |    F   |\n",
    "| 310         |  3.6        |    F   |\n"
   ]
  },
  {
   "cell_type": "markdown",
   "id": "0e1e9def",
   "metadata": {
    "deletable": false,
    "editable": false
   },
   "source": [
    "#### lets say we want to find the following information:\n",
    "    - what is the average gre score in both the gender groups? which group has a better average score?\n",
    "    - what is the average GPA in both the gender groups? which group has a better average GPA?\n",
    "    - what is the maximum GPA from the males?\n",
    "    - what is the minimum gre score among the females?\n",
    "    \n",
    "How can we find these information from the given data?    "
   ]
  },
  {
   "cell_type": "markdown",
   "id": "7b477334",
   "metadata": {
    "deletable": false,
    "editable": false
   },
   "source": [
    "### Extended example\n",
    "\n",
    "##### suppose we have this dataset named mpg.csv where we have information about cars. First we load the dataset into a datafrmae and see its contents."
   ]
  },
  {
   "cell_type": "code",
   "execution_count": 1,
   "id": "52f61544",
   "metadata": {
    "deletable": false,
    "editable": false
   },
   "outputs": [],
   "source": [
    "import pandas as pd"
   ]
  },
  {
   "cell_type": "code",
   "execution_count": 2,
   "id": "9e3746f7",
   "metadata": {
    "deletable": false,
    "editable": false
   },
   "outputs": [],
   "source": [
    "car_data= pd.read_csv(\"../datawhys-intern-notebooks-2021/datasets/mpg.csv\")\n",
    "car_data"
   ]
  },
  {
   "cell_type": "markdown",
   "id": "590e4181",
   "metadata": {
    "deletable": false,
    "editable": false
   },
   "source": [
    "##### We have lots of data in this dataset. But we want to get a brief overview of it, we want to see only the first few rows of this data. We can do it by defining range of the data by rows..."
   ]
  },
  {
   "cell_type": "code",
   "execution_count": 4,
   "id": "f9f2cb39",
   "metadata": {
    "deletable": false,
    "editable": false
   },
   "outputs": [],
   "source": [
    "car_data[0:10]"
   ]
  },
  {
   "cell_type": "markdown",
   "id": "092c9142",
   "metadata": {
    "deletable": false,
    "editable": false
   },
   "source": [
    "#### Selecting Columns\n"
   ]
  },
  {
   "cell_type": "markdown",
   "id": "1537bc73",
   "metadata": {
    "deletable": false,
    "editable": false
   },
   "source": [
    "##### Here ,we can see there are 9 features for cars (mpg, cylinders,....name). Now, we want a single feature from these."
   ]
  },
  {
   "cell_type": "code",
   "execution_count": 28,
   "id": "f4111a64",
   "metadata": {
    "deletable": false,
    "editable": false
   },
   "outputs": [],
   "source": [
    "car_data[['weight']]"
   ]
  },
  {
   "cell_type": "markdown",
   "id": "0e63acf4",
   "metadata": {
    "deletable": false,
    "editable": false
   },
   "source": [
    "##### If we want select multiple features , we pass a list of the features into the dataframe."
   ]
  },
  {
   "cell_type": "code",
   "execution_count": 6,
   "id": "fabdf216",
   "metadata": {
    "deletable": false,
    "editable": false
   },
   "outputs": [],
   "source": [
    "car_data[['mpg','acceleration']]"
   ]
  },
  {
   "cell_type": "markdown",
   "id": "e90a58a6",
   "metadata": {
    "deletable": false,
    "editable": false
   },
   "source": [
    "##### After looking at the car features in car_data, lets suppose as a customer we want to buy cars with only 4 cylinders(assuming higher cylinder cars are more expensive). So we filter our car data by only the cars having 4 cylinders and store them in a variable."
   ]
  },
  {
   "cell_type": "code",
   "execution_count": 7,
   "id": "312be211",
   "metadata": {
    "deletable": false,
    "editable": false
   },
   "outputs": [],
   "source": [
    "car_cylinder4= car_data[car_data['cylinders']==4]\n",
    "\n",
    "car_cylinder4"
   ]
  },
  {
   "cell_type": "code",
   "execution_count": null,
   "id": "3d443d5b",
   "metadata": {
    "deletable": false,
    "editable": false
   },
   "outputs": [],
   "source": [
    "# Activity\n",
    "# What if i want to buy cars with 6 or 8 cylinders???\n"
   ]
  },
  {
   "cell_type": "markdown",
   "id": "b83ebc49",
   "metadata": {
    "deletable": false,
    "editable": false
   },
   "source": [
    "After finding out at the 4 cylinder cars from the list, we are interesting in buying a 'toyota corolla' car,which we are a huge fan. So from our 4 cylinder list , we filter out available 'toyota corolla' cars there and store them in a new variable. "
   ]
  },
  {
   "cell_type": "code",
   "execution_count": 10,
   "id": "bce3d19a",
   "metadata": {
    "deletable": false,
    "editable": false
   },
   "outputs": [],
   "source": [
    "toyota_cars= car_cylinder4[car_cylinder4['name']=='toyota corolla']\n",
    "\n",
    "toyota_cars"
   ]
  },
  {
   "cell_type": "code",
   "execution_count": null,
   "id": "33677ef3",
   "metadata": {
    "deletable": false,
    "editable": false
   },
   "outputs": [],
   "source": [
    "# Activity\n",
    "## what if we want to find cars of other choices( like a ford ranger)\n"
   ]
  },
  {
   "cell_type": "markdown",
   "id": "39c4ec38",
   "metadata": {
    "deletable": false,
    "editable": false
   },
   "source": [
    "There are lots of information shown about the car(mpg, cylinders..).But we are interested in only a few of the information here. We want information about mpg,acceleration,model_year of the cars. SO we filter only those required information next."
   ]
  },
  {
   "cell_type": "code",
   "execution_count": 12,
   "id": "94ff37ce",
   "metadata": {
    "deletable": false,
    "editable": false
   },
   "outputs": [],
   "source": [
    "toyota_info= toyota_cars[['name','mpg','model_year','acceleration']]\n",
    "\n",
    "toyota_info"
   ]
  },
  {
   "cell_type": "code",
   "execution_count": null,
   "id": "3f5c54ae",
   "metadata": {
    "deletable": false,
    "editable": false
   },
   "outputs": [],
   "source": [
    "## how about some other features someone is interested in (horsepower, weight, displacement)??\n",
    "\n",
    "## write code here...."
   ]
  },
  {
   "cell_type": "markdown",
   "id": "82845e16",
   "metadata": {
    "deletable": false,
    "editable": false
   },
   "source": [
    "Now, We heard that cars with mpg(miles per gallon)> 30 are the most fuel efficient cars.From our new filterd data (toyota_info), we find out the cars which have mpg >30 ."
   ]
  },
  {
   "cell_type": "code",
   "execution_count": 33,
   "id": "94b622e0",
   "metadata": {
    "deletable": false,
    "editable": false
   },
   "outputs": [],
   "source": [
    "good_milage= toyota_info[toyota_info.mpg> 30.0]\n",
    "\n",
    "good_milage"
   ]
  },
  {
   "cell_type": "markdown",
   "id": "5fbae658",
   "metadata": {
    "deletable": false,
    "editable": false
   },
   "source": [
    "Finally , after filtering by our requirements to buy a preffered car, we have a list of 3 cars with the required features from an initial list of almost 400 cars. By using filtering in a big dataset, we can easily find our data.\n",
    "\n",
    "\n"
   ]
  },
  {
   "cell_type": "markdown",
   "id": "9b3059cc",
   "metadata": {
    "deletable": false,
    "editable": false
   },
   "source": [
    "### Scratch"
   ]
  },
  {
   "cell_type": "code",
   "execution_count": null,
   "id": "110b3000",
   "metadata": {
    "deletable": false,
    "editable": false
   },
   "outputs": [],
   "source": [
    "car_cylinder4.sort_values(by='mpg',ascending=False) ## need to think"
   ]
  },
  {
   "cell_type": "code",
   "execution_count": 13,
   "id": "e14e7c2a",
   "metadata": {
    "deletable": false,
    "editable": false
   },
   "outputs": [],
   "source": [
    "aa=toyota_info['mpg'].max()\n",
    "toyota_info[toyota_info['mpg']==aa]"
   ]
  }
 ],
 "metadata": {
  "kernelspec": {
   "display_name": "xpython",
   "language": "python",
   "name": "xpython"
  },
  "language_info": {
   "file_extension": ".py",
   "mimetype": "text/x-python",
   "name": "python",
   "version": "3.7.6"
  }
 },
 "nbformat": 4,
 "nbformat_minor": 5
}
