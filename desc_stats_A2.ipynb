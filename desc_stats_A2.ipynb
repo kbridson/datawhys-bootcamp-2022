{
 "cells": [
  {
   "cell_type": "markdown",
   "id": "8aea6cc0",
   "metadata": {
    "deletable": false,
    "editable": false
   },
   "source": [
    "# Descriptive Statistics Activity 2"
   ]
  },
  {
   "cell_type": "markdown",
   "id": "45b7730f",
   "metadata": {
    "deletable": false,
    "editable": false
   },
   "source": [
    "## Import libraries\n",
    "\n",
    "We can calculate measures of central tendency and spread using `pandas dataframes`.\n",
    "\n",
    "First thing you need to do is import `pandas` below."
   ]
  },
  {
   "cell_type": "code",
   "execution_count": null,
   "id": "efba100b",
   "metadata": {
    "datawhys": {
     "response_id": 1,
     "student_response": true
    },
    "deletable": false,
    "editable": true
   },
   "outputs": [],
   "source": []
  },
  {
   "cell_type": "markdown",
   "id": "cdec48df",
   "metadata": {
    "deletable": false,
    "editable": false
   },
   "source": [
    "## Load data\n",
    "\n",
    "We're going to work with data on cars. \n",
    "\n",
    "Load the CSV file `\"datasets/mpg-na-hidden.csv\"` into a dataframe and display it."
   ]
  },
  {
   "cell_type": "code",
   "execution_count": null,
   "id": "1ff109e8",
   "metadata": {
    "datawhys": {
     "response_id": 2,
     "student_response": true
    },
    "deletable": false,
    "editable": true
   },
   "outputs": [],
   "source": []
  },
  {
   "cell_type": "markdown",
   "id": "b14620c5",
   "metadata": {
    "deletable": false,
    "editable": false
   },
   "source": [
    "## Car mean/median/mode\n",
    "\n",
    "In the next three cells, use the dataframe to calculate the mean, median, and mode values for the `mpg`, `cylinders`, `weight` and `acceleration` columns."
   ]
  },
  {
   "cell_type": "code",
   "execution_count": null,
   "id": "4b8f4306",
   "metadata": {
    "datawhys": {
     "response_id": 3,
     "student_response": true
    },
    "deletable": false,
    "editable": true
   },
   "outputs": [],
   "source": []
  },
  {
   "cell_type": "code",
   "execution_count": null,
   "id": "a2737c56",
   "metadata": {
    "datawhys": {
     "response_id": 4,
     "student_response": true
    },
    "deletable": false,
    "editable": true
   },
   "outputs": [],
   "source": []
  },
  {
   "cell_type": "code",
   "execution_count": null,
   "id": "e49b8f4c",
   "metadata": {
    "datawhys": {
     "response_id": 5,
     "student_response": true
    },
    "deletable": false,
    "editable": true
   },
   "outputs": [],
   "source": []
  },
  {
   "cell_type": "markdown",
   "id": "e6befa6e",
   "metadata": {
    "deletable": false,
    "editable": false
   },
   "source": [
    "**QUESTION:**\n",
    "\n",
    "For each column, record the mean, median, and mode and compare them. How are they similar or different for each column?   \n",
    "\n",
    "Write your answer in the cell below."
   ]
  },
  {
   "cell_type": "markdown",
   "id": "601e2508",
   "metadata": {
    "datawhys": {
     "response_id": 6,
     "student_response": true
    },
    "deletable": false,
    "editable": true
   },
   "source": [
    "<div class=\"alert alert-block alert-info\">\n",
    "<!-- YOUR ANSWER BEGIN -->\n",
    "\n",
    "\n",
    "\n",
    "\n",
    "\n",
    "<!-- YOUR ANSWER END -->\n",
    "</div>"
   ]
  },
  {
   "cell_type": "markdown",
   "id": "7d231258",
   "metadata": {
    "deletable": false,
    "editable": false
   },
   "source": [
    "**QUESTION:**\n",
    "\n",
    "What is the significance of the two rows `0` and `1` in the mode table?  \n",
    "\n",
    "Write your answer in the cell below."
   ]
  },
  {
   "cell_type": "markdown",
   "id": "d91f82de",
   "metadata": {
    "datawhys": {
     "response_id": 7,
     "student_response": true
    },
    "deletable": false,
    "editable": true
   },
   "source": [
    "<div class=\"alert alert-block alert-info\">\n",
    "<!-- YOUR ANSWER BEGIN -->\n",
    "\n",
    "\n",
    "\n",
    "\n",
    "\n",
    "<!-- YOUR ANSWER END -->\n",
    "</div>"
   ]
  }
 ],
 "metadata": {
  "kernelspec": {
   "display_name": "xpython",
   "language": "python",
   "name": "xpython"
  },
  "language_info": {
   "codemirror_mode": {
    "name": "ipython",
    "version": 3
   },
   "file_extension": ".py",
   "mimetype": "text/x-python",
   "name": "python",
   "nbconvert_exporter": "python",
   "pygments_lexer": "ipython3",
   "version": "3.9.7"
  },
  "vscode": {
   "interpreter": {
    "hash": "be14b4e913c6f2457a185c22af60a9db8729a2914b48dcc2c5e42fe4e4a2ce08"
   }
  }
 },
 "nbformat": 4,
 "nbformat_minor": 5
}
