{
 "cells": [
  {
   "cell_type": "markdown",
   "id": "a0f383cd",
   "metadata": {
    "deletable": false,
    "editable": false
   },
   "source": [
    "# Descriptive Statistics Activity 2"
   ]
  },
  {
   "cell_type": "markdown",
   "id": "06b9a674",
   "metadata": {
    "deletable": false,
    "editable": false
   },
   "source": [
    "Dataset: Data containing informations on car's name, origin, model, model year, cylinders etc.\n",
    "\n",
    "Columns:\n",
    "- mpg,\n",
    "- cylinders,\n",
    "- displacement,\n",
    "- horsepower,\n",
    "- weight,\n",
    "- acceleration,\n",
    "- model_year,\n",
    "- origin,\n",
    "- name"
   ]
  },
  {
   "cell_type": "markdown",
   "id": "2d99e15c",
   "metadata": {
    "deletable": false,
    "editable": false
   },
   "source": [
    "## Import libraries\n",
    "\n",
    "We can calculate measures of central tendency and spread using `pandas dataframes`.\n",
    "\n",
    "First thing you need to do is import `pandas` below."
   ]
  },
  {
   "cell_type": "markdown",
   "id": "890530a8",
   "metadata": {
    "deletable": false,
    "editable": false
   },
   "source": [
    "<span><h3>\n",
    " Step 1. &nbsp;&nbsp;&nbsp; Read CSV Data into Pandas Dataframe",
    "\n</h3></span>"
   ]
  },
  {
   "cell_type": "markdown",
   "id": "9a19d125",
   "metadata": {
    "deletable": false,
    "editable": false
   },
   "source": [
    "- Create variable &nbsp;`pd`\n",
    "- `import pandas as pd`"
   ]
  },
  {
   "cell_type": "markdown",
   "id": "44fd6a61",
   "metadata": {
    "deletable": false,
    "editable": false
   },
   "source": [
    "<br><details><summary>Blockly Hints</summary><ul><li>Blocks<ul><li><code>import .. as ..</code><ul><li>The <code>import .. as ..</code> block is found under IMPORT.</li> <li>A variable must have been created before it will appear in the dropdown.</li></ul></li></ul></li></ul></details>"
   ]
  },
  {
   "cell_type": "code",
   "execution_count": null,
   "id": "85dd59f7",
   "metadata": {
    "datawhys": {
     "response_id": 1,
     "student_response": true
    },
    "deletable": false,
    "editable": true
   },
   "outputs": [],
   "source": []
  },
  {
   "cell_type": "markdown",
   "id": "92b484c8",
   "metadata": {
    "deletable": false,
    "editable": false
   },
   "source": [
    "<span><h4>\n",
    " Substep. &nbsp;&nbsp; Read CSV data and Save in Variable\n\nWe're going to work with data on cars. \n\nLoad the CSV file `\"datasets/mpg-na-hidden.csv\"` into a dataframe and display it.",
    "\n</h4></span>"
   ]
  },
  {
   "cell_type": "markdown",
   "id": "4090ffb2",
   "metadata": {
    "deletable": false,
    "editable": false
   },
   "source": [
    "- Create variable &nbsp;`df`\n",
    "- `set df to` &nbsp;:&nbsp; `with pd do read_csv using` &nbsp;<-&nbsp; `\"datasets/mpg-na-hidden.csv\"`"
   ]
  },
  {
   "cell_type": "markdown",
   "id": "7a26eeee",
   "metadata": {
    "deletable": false,
    "editable": false
   },
   "source": [
    "<details>\n",
    "  <summary>Blockly Hints</summary>\n",
    "  <ol>\n",
    "    <li>Variable <code>dataframe</code> must be created under VARIABLES before it can be used</li>\n",
    "    <li><code>set .. to</code> block found under VARIABLES</li>\n",
    "    <li><code>with .. do .. using</code> block found under VARIABLES</li>\n",
    "    <li>If <code>do</code> dropdown in <code>with .. do .. using</code> block will not populate, try \"Run All Above Selected Cell\" from the \"Run\" menu in top-left.</li>\n",
    "    <li>You need a <code>\"..\"</code> block found under TEXT to fill in the <code>using</code> part of the <code>with .. do .. using</code> block</li>\n",
    "    <li>If <code>with .. do .. using</code> block does not want to snap together nicely with the <code>set .. to</code> block, try dragging the <code>set .. to</code> block instead.</li>\n",
    "      <li>From <code>VARIABLES</code>, get the <code>dataframe</code> block</li>\n",
    "  </ol>\n",
    "</details>"
   ]
  },
  {
   "cell_type": "code",
   "execution_count": null,
   "id": "8258f4e5",
   "metadata": {
    "datawhys": {
     "response_id": 2,
     "student_response": true
    },
    "deletable": false,
    "editable": true
   },
   "outputs": [],
   "source": []
  },
  {
   "cell_type": "markdown",
   "id": "2dc5b456",
   "metadata": {
    "deletable": false,
    "editable": false
   },
   "source": [
    "## Car mean/median/mode\n",
    "\n",
    "In the next three cells, use the dataframe to calculate the mean, median, and mode values for the `mpg`, `cylinders`, `weight` and `acceleration` columns."
   ]
  },
  {
   "cell_type": "markdown",
   "id": "78d58472",
   "metadata": {
    "deletable": false,
    "editable": false
   },
   "source": [
    "<span><h4>\n",
    " Substep. Compute the mean  \n",
    "\n</h4></span>"
   ]
  },
  {
   "cell_type": "markdown",
   "id": "39d3e862",
   "metadata": {
    "deletable": false,
    "editable": false
   },
   "source": [
    "Blockly Hints:\n",
    "- create variable `mean_comp`\n",
    "- `Set mean_comp to` : `dataframe[ .. ]` <- `create list with`:\n",
    "    - \"mpg\"\n",
    "    - \"cylinders\"\n",
    "    - \"weight\"\n",
    "    - \"acceleration\"\n",
    "- `with mean_comp do mode using`"
   ]
  },
  {
   "cell_type": "code",
   "execution_count": null,
   "id": "4d8f7208",
   "metadata": {
    "datawhys": {
     "response_id": 3,
     "student_response": true
    },
    "deletable": false,
    "editable": true
   },
   "outputs": [],
   "source": []
  },
  {
   "cell_type": "markdown",
   "id": "3a36f0cb",
   "metadata": {
    "datawhys": {
     "response_id": 4,
     "student_response": true
    },
    "deletable": false,
    "editable": true
   },
   "source": [
    "<div class=\"alert alert-block alert-info\">\n",
    "<!-- YOUR ANSWER BEGIN -->\n",
    "\n",
    "\n",
    "\n",
    "\n",
    "\n",
    "<!-- YOUR ANSWER END -->\n",
    "</div>"
   ]
  },
  {
   "cell_type": "markdown",
   "id": "cad199cd",
   "metadata": {
    "deletable": false,
    "editable": false
   },
   "source": [
    "<span><h4>\n",
    " Substep. Compute the median  \n\nUsing the same approach, compute the median. \n",
    "\n</h4></span>"
   ]
  },
  {
   "cell_type": "markdown",
   "id": "4928268d",
   "metadata": {
    "deletable": false,
    "editable": false
   },
   "source": [
    "Blockly Hints:\n",
    "- create variable `median_comp`\n",
    "- `Set median_comp to` : `dataframe[ .. ]` <- `create list with`:\n",
    "    - \"mpg\"\n",
    "    - \"cylinders\"\n",
    "    - \"weight\"\n",
    "    - \"acceleration\"\n",
    "- `with median_comp do mode using`"
   ]
  },
  {
   "cell_type": "code",
   "execution_count": null,
   "id": "66278c97",
   "metadata": {
    "datawhys": {
     "response_id": 5,
     "student_response": true
    },
    "deletable": false,
    "editable": true
   },
   "outputs": [],
   "source": []
  },
  {
   "cell_type": "markdown",
   "id": "3720933c",
   "metadata": {
    "datawhys": {
     "response_id": 6,
     "student_response": true
    },
    "deletable": false,
    "editable": true
   },
   "source": [
    "<div class=\"alert alert-block alert-info\">\n",
    "<!-- YOUR ANSWER BEGIN -->\n",
    "\n",
    "\n",
    "\n",
    "\n",
    "\n",
    "<!-- YOUR ANSWER END -->\n",
    "</div>"
   ]
  },
  {
   "cell_type": "markdown",
   "id": "74a6bb23",
   "metadata": {
    "deletable": false,
    "editable": false
   },
   "source": [
    "<span><h4>\n",
    " Substep. Compute the mode  \n\nUsing the same approach, compute the mode. ",
    "\n</h4></span>"
   ]
  },
  {
   "cell_type": "markdown",
   "id": "2efca788",
   "metadata": {
    "deletable": false,
    "editable": false
   },
   "source": [
    "Blockly Hints:\n",
    "- create variable `mode_comp`\n",
    "- `Set mode_comp to` : `dataframe[ .. ]` <- `create list with`:\n",
    "    - \"mpg\"\n",
    "    - \"cylinders\"\n",
    "    - \"weight\"\n",
    "    - \"acceleration\"\n",
    "- `with mode_comp do mode using`"
   ]
  },
  {
   "cell_type": "code",
   "execution_count": null,
   "id": "3d88cefb",
   "metadata": {
    "datawhys": {
     "response_id": 7,
     "student_response": true
    },
    "deletable": false,
    "editable": true
   },
   "outputs": [],
   "source": []
  },
  {
   "cell_type": "markdown",
   "id": "984877d4",
   "metadata": {
    "datawhys": {
     "response_id": 8,
     "student_response": true
    },
    "deletable": false,
    "editable": true
   },
   "source": [
    "<div class=\"alert alert-block alert-info\">\n",
    "<!-- YOUR ANSWER BEGIN -->\n",
    "\n",
    "\n",
    "\n",
    "\n",
    "\n",
    "<!-- YOUR ANSWER END -->\n",
    "</div>"
   ]
  },
  {
   "cell_type": "markdown",
   "id": "0f9e54eb",
   "metadata": {
    "deletable": false,
    "editable": false
   },
   "source": [
    "### What is the significance of the two rows `0` and `1` in the mode table?  \n",
    "\n",
    "Write your answer in the cell below."
   ]
  },
  {
   "cell_type": "markdown",
   "id": "a05e9ad3",
   "metadata": {
    "datawhys": {
     "response_id": 9,
     "student_response": true
    },
    "deletable": false,
    "editable": true
   },
   "source": [
    "<div class=\"alert alert-block alert-info\">\n",
    "<!-- YOUR ANSWER BEGIN -->\n",
    "\n",
    "\n",
    "\n",
    "\n",
    "\n",
    "<!-- YOUR ANSWER END -->\n",
    "</div>"
   ]
  }
 ],
 "metadata": {
  "kernelspec": {
   "display_name": "xpython",
   "language": "python",
   "name": "xpython"
  },
  "language_info": {
   "codemirror_mode": {
    "name": "ipython",
    "version": 3
   },
   "file_extension": ".py",
   "mimetype": "text/x-python",
   "name": "python",
   "nbconvert_exporter": "python",
   "pygments_lexer": "ipython3",
   "version": "3.7.12"
  },
  "vscode": {
   "interpreter": {
    "hash": "be14b4e913c6f2457a185c22af60a9db8729a2914b48dcc2c5e42fe4e4a2ce08"
   }
  }
 },
 "nbformat": 4,
 "nbformat_minor": 5
}
