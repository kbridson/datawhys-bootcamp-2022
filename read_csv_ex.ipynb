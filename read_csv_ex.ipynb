{
 "cells": [
  {
   "cell_type": "markdown",
   "id": "548c5ab9",
   "metadata": {
    "deletable": false,
    "editable": false
   },
   "source": [
    "# Reading CSV data file"
   ]
  },
  {
   "cell_type": "markdown",
   "id": "280e358d",
   "metadata": {
    "deletable": false,
    "editable": false
   },
   "source": [
    "From our previous lesson, we have learnt about tabular data and CSV files that store data for our analysis. Today, we will learn an to work with the CSV data in python using pandas, a python library that creates **dataframes** to view tabular data such as CSVs"
   ]
  },
  {
   "cell_type": "markdown",
   "id": "d36252ef",
   "metadata": {
    "deletable": false,
    "editable": false
   },
   "source": [
    "### Import Pandas Library"
   ]
  },
  {
   "cell_type": "markdown",
   "id": "1955915d",
   "metadata": {
    "deletable": false,
    "editable": false
   },
   "source": [
    "- Create variable &nbsp;`pd`\n",
    "- `import pandas as pd`"
   ]
  },
  {
   "cell_type": "markdown",
   "id": "5906161c",
   "metadata": {
    "deletable": false,
    "editable": false
   },
   "source": [
    "Here's how:\n",
    "\n",
    "1. From IMPORT, grab `import .. as ..`\n",
    "2. Replace text `some library` with `pandas`\n",
    "3. From VARIABLES, click `Create Variable...`, enter `pd`, click OK\n",
    "4. Select `pd` from `variable name` dropdown in `import .. as ..`\n",
    "5. Click Blocks to Code and run cell\n",
    "\n",
    "<br>\n",
    "<details>\n",
    "    <summary>Blockly Hints</summary>\n",
    "    <ul>\n",
    "        <li>Blocks\n",
    "            <ul>\n",
    "                <li>\n",
    "                    <code>import .. as ..</code>\n",
    "                    <ul>\n",
    "                        <li>The <code>import .. as ..</code> block is found under IMPORT.</li> \n",
    "                        <li>A variable must have been created before it will appear in the dropdown.</li>\n",
    "                    </ul>\n",
    "                </li>\n",
    "            </ul>\n",
    "        </li>\n",
    "    </ul>\n",
    "</details>\n"
   ]
  },
  {
   "cell_type": "code",
   "execution_count": null,
   "id": "7c0406a4",
   "metadata": {
    "deletable": false,
    "editable": false
   },
   "outputs": [],
   "source": [
    "import pandas as pd\n",
    "\n",
    "#<xml xmlns=\"https://developers.google.com/blockly/xml\"><variables><variable id=\"uqx(TKsr#CtwD?]k(d*i\">pd</variable></variables><block type=\"importAs_Python\" id=\"EX@`g]/}rc,/^`nt~SWd\" x=\"-164\" y=\"-601\"><field name=\"libraryName\">pandas</field><field name=\"libraryAlias\" id=\"uqx(TKsr#CtwD?]k(d*i\">pd</field></block></xml>"
   ]
  },
  {
   "cell_type": "markdown",
   "id": "dfc094fe",
   "metadata": {
    "deletable": false,
    "editable": false
   },
   "source": [
    "### Read the CSV data into a dataframe"
   ]
  },
  {
   "cell_type": "markdown",
   "id": "fa47ffcf",
   "metadata": {
    "deletable": false,
    "editable": false
   },
   "source": [
    "Now that we have imported the library, we can read our data file."
   ]
  },
  {
   "cell_type": "markdown",
   "id": "3d1fb0b8",
   "metadata": {
    "deletable": false,
    "editable": false
   },
   "source": [
    "- Create variable &nbsp;`greatest`\n",
    "- `with pd do read_csv using` &nbsp;<-&nbsp; `\" datasets/gre_data.csv \"`"
   ]
  },
  {
   "cell_type": "markdown",
   "id": "e0fb6bfb",
   "metadata": {
    "deletable": false,
    "editable": false
   },
   "source": [
    "Here's how:\n",
    "\n",
    "1. From VARIABLES, grab `with .. do .. using ..`\n",
    "2. Make sure `pd` is selected in dropdown after with\n",
    "3. Select `read_csv` from dropdown after do\n",
    "4. From TEXT, grab `\" .. \"`\n",
    "5. Type `datasets/gre_data.csv` into `\" .. \"`\n",
    "6. Drag the `\" .. \"` into the space after using in `with .. do .. using ..`\n",
    "7. From VARIABLES, click `Create Variable...`, enter `greatest`, click OK\n",
    "8. From VARIABLES, grab `set .. to`\n",
    "9. Change dropdown after set to `greatest`\n",
    "10. Connect `set .. to` and `with .. do .. using ..`\n",
    "11. Click Blocks to Code and run cell"
   ]
  },
  {
   "cell_type": "markdown",
   "id": "73cd7647",
   "metadata": {
    "deletable": false,
    "editable": false
   },
   "source": [
    "<br><details><summary>Blockly Hints (Click triangle to expand)</summary><ul><li>Notation<ul><li><code>A</code> &nbsp;:&nbsp; <code>B</code>&nbsp; means snap blocks A and B together.</li><li><code>A</code> &nbsp;&lt;-&nbsp; <code>B</code>&nbsp; means insert block B into the hole in block A.</li></ul></li><li>Blocks<ul><li><code>set .. to</code><ul><li>The <code>set .. to</code> block is found under VARIABLES.</li> <li>A variable must have been created before it will appear in the dropdown.</li></ul></li><li><code>with .. do .. using ..</code><ul><li>The <code>with .. do .. using ..</code> block is found under VARIABLES.</li> <li>If <code>do</code> dropdown says \"!Not populated until you execute code\", click anywhere in the notebook tab, then click try \"Run All Above Selected Cell\" from the \"Run\" menu.</li> <li>If <code>with .. do .. using ..</code> block does not want to snap together nicely with the <code>set .. to</code> block, try dragging the <code>set .. to</code> block instead.</li></ul></li><li><code>\" .. \"</code><ul><li>The <code>\" .. \"</code> block is found under TEXT.</li></ul></li></ul></li></ul></details>"
   ]
  },
  {
   "cell_type": "code",
   "execution_count": null,
   "id": "538d5327",
   "metadata": {
    "deletable": false,
    "editable": false
   },
   "outputs": [],
   "source": [
    "greatest = pd.read_csv('datasets/gre_data.csv')\n",
    "\n",
    "#<xml xmlns=\"https://developers.google.com/blockly/xml\"><variables><variable id=\"?#7/iqxir_kA,Ck.u^})\">gretest</variable><variable id=\"uqx(TKsr#CtwD?]k(d*i\">pd</variable></variables><block type=\"variables_set\" id=\"Mo)O9RVZS[Mi#PER|F-P\" x=\"-230\" y=\"-492\"><field name=\"VAR\" id=\"?#7/iqxir_kA,Ck.u^})\">gretest</field><value name=\"VALUE\"><block type=\"varDoMethod_Python\" id=\"@Y$ftlm]Ylga7/ApiH~v\"><field name=\"VAR\" id=\"uqx(TKsr#CtwD?]k(d*i\">pd</field><field name=\"MEMBER\">read_csv</field><data>pd:read_csv</data><value name=\"INPUT\"><block type=\"text\" id=\"{*2a,l3m27x:ZNFyik,f\"><field name=\"TEXT\">datasets/gre_data.csv</field></block></value></block></value></block></xml>"
   ]
  },
  {
   "cell_type": "markdown",
   "id": "2808ab15",
   "metadata": {
    "deletable": false,
    "editable": false
   },
   "source": [
    "### View the dataframe "
   ]
  },
  {
   "cell_type": "markdown",
   "id": "5acfc70b",
   "metadata": {
    "deletable": false,
    "editable": false
   },
   "source": [
    "Finally we view our saved data in the dataframe."
   ]
  },
  {
   "cell_type": "markdown",
   "id": "15c6f9de",
   "metadata": {
    "deletable": false,
    "editable": false
   },
   "source": [
    "- variable `greatest`"
   ]
  },
  {
   "cell_type": "markdown",
   "id": "7a8cd92f",
   "metadata": {
    "deletable": false,
    "editable": false
   },
   "source": [
    "Here's how:\n",
    "\n",
    "1. From VARIABLES, grab `car_data`\n",
    "2. Click Blocks to Code and run cell"
   ]
  },
  {
   "cell_type": "markdown",
   "id": "987e1eda",
   "metadata": {
    "deletable": false,
    "editable": false
   },
   "source": [
    "<br>\n",
    "<details>\n",
    "    <summary>Blockly Hints (Click on triangle to expand)</summary>\n",
    "    <ul>\n",
    "        <li>Blocks\n",
    "            <ul>\n",
    "                <li>variable\n",
    "                    <ul>\n",
    "                        <li>After it is created, each variable has its own block at the end of the VARIABLES menu.</li>\n",
    "                    </ul>\n",
    "                </li>\n",
    "            </ul>\n",
    "        </li>\n",
    "    </ul>\n",
    "</details>\n"
   ]
  },
  {
   "cell_type": "code",
   "execution_count": null,
   "id": "53e3543c",
   "metadata": {
    "deletable": false,
    "editable": false
   },
   "outputs": [],
   "source": [
    "greatest\n",
    "\n",
    "#<xml xmlns=\"https://developers.google.com/blockly/xml\"><variables><variable id=\"?#7/iqxir_kA,Ck.u^})\">gretest</variable></variables><block type=\"variables_get\" id=\"OsS159K|J`6Ts0sHsHuM\" x=\"-130\" y=\"-270\"><field name=\"VAR\" id=\"?#7/iqxir_kA,Ck.u^})\">gretest</field></block></xml>"
   ]
  },
  {
   "cell_type": "code",
   "execution_count": null,
   "id": "cbcf92cc",
   "metadata": {
    "deletable": false,
    "editable": false
   },
   "outputs": [],
   "source": []
  }
 ],
 "metadata": {
  "kernelspec": {
   "display_name": "xpython",
   "language": "python",
   "name": "xpython"
  },
  "language_info": {
   "codemirror_mode": {
    "name": "ipython",
    "version": 3
   },
   "file_extension": ".py",
   "mimetype": "text/x-python",
   "name": "python",
   "nbconvert_exporter": "python",
   "pygments_lexer": "ipython3",
   "version": "3.7.12"
  }
 },
 "nbformat": 4,
 "nbformat_minor": 5
}
