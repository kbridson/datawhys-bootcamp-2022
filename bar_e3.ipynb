{
 "cells": [
  {
   "cell_type": "markdown",
   "metadata": {
    "deletable": false,
    "editable": false
   },
   "source": [
    "# Plotting 3: Creating Bar Graphs with Plotly (Exercise 3)"
   ]
  },
  {
   "cell_type": "markdown",
   "metadata": {
    "deletable": false,
    "editable": false
   },
   "source": [
    "## Question. &nbsp;&nbsp; Based on the average number of birds to appear each day, what kind of birdseed do they like best?"
   ]
  },
  {
   "cell_type": "markdown",
   "metadata": {
    "deletable": false,
    "editable": false
   },
   "source": [
    "Dataset: Count of birds to appear a feeder each day with the type of birdseed the feeder contained.\n",
    "\n",
    "Columns:\n",
    "- birdfeed\n",
    "- day1\n",
    "- day2\n",
    "- day3\n",
    "- day4\n",
    "- day5\n",
    "- daily_avg"
   ]
  },
  {
   "cell_type": "markdown",
   "metadata": {
    "deletable": false,
    "editable": false
   },
   "source": [
    "## Pre-programming Discussion"
   ]
  },
  {
   "cell_type": "markdown",
   "metadata": {
    "deletable": false,
    "editable": false
   },
   "source": [
    "<div class=\"alert alert-block alert-danger\">\n",
    "Q1. Which columns from the dataset will be used in the plot?",
    "\n</div>"
   ]
  },
  {
   "cell_type": "markdown",
   "metadata": {
    "datawhys": {
     "response_id": 1,
     "student_response": true
    },
    "deletable": false,
    "editable": true
   },
   "source": [
    "<div class=\"alert alert-block alert-info\">\n",
    "<!-- YOUR ANSWER BEGIN -->\n",
    "\n",
    "\n",
    "\n",
    "\n",
    "\n",
    "<!-- YOUR ANSWER END -->\n",
    "</div>"
   ]
  },
  {
   "cell_type": "markdown",
   "metadata": {
    "deletable": false,
    "editable": false
   },
   "source": [
    "<div class=\"alert alert-block alert-danger\">\n",
    "Q2. Which column contains the category?",
    "\n</div>"
   ]
  },
  {
   "cell_type": "markdown",
   "metadata": {
    "datawhys": {
     "response_id": 2,
     "student_response": true
    },
    "deletable": false,
    "editable": true
   },
   "source": [
    "<div class=\"alert alert-block alert-info\">\n",
    "<!-- YOUR ANSWER BEGIN -->\n",
    "\n",
    "\n",
    "\n",
    "\n",
    "\n",
    "<!-- YOUR ANSWER END -->\n",
    "</div>"
   ]
  },
  {
   "cell_type": "markdown",
   "metadata": {
    "deletable": false,
    "editable": false
   },
   "source": [
    "<div class=\"alert alert-block alert-danger\">\n",
    "Q3. Which column contains the values for each category?",
    "\n</div>"
   ]
  },
  {
   "cell_type": "markdown",
   "metadata": {
    "datawhys": {
     "response_id": 3,
     "student_response": true
    },
    "deletable": false,
    "editable": true
   },
   "source": [
    "<div class=\"alert alert-block alert-info\">\n",
    "<!-- YOUR ANSWER BEGIN -->\n",
    "\n",
    "\n",
    "\n",
    "\n",
    "\n",
    "<!-- YOUR ANSWER END -->\n",
    "</div>"
   ]
  },
  {
   "cell_type": "markdown",
   "metadata": {
    "deletable": false,
    "editable": false
   },
   "source": [
    "<div class=\"alert alert-block alert-danger\">\n",
    "Q4. What column makes the most sense to sort by? Why?",
    "\n</div>"
   ]
  },
  {
   "cell_type": "markdown",
   "metadata": {
    "datawhys": {
     "response_id": 4,
     "student_response": true
    },
    "deletable": false,
    "editable": true
   },
   "source": [
    "<div class=\"alert alert-block alert-info\">\n",
    "<!-- YOUR ANSWER BEGIN -->\n",
    "\n",
    "\n",
    "\n",
    "\n",
    "\n",
    "<!-- YOUR ANSWER END -->\n",
    "</div>"
   ]
  },
  {
   "cell_type": "markdown",
   "metadata": {
    "deletable": false,
    "editable": false
   },
   "source": [
    "<div class=\"alert alert-block alert-danger\">\n",
    "Screenshot your answers.",
    "\n</div>"
   ]
  },
  {
   "cell_type": "markdown",
   "metadata": {
    "deletable": false,
    "editable": false
   },
   "source": [
    "## Programming Activity: Creating a Bar Chart of Most Popular Types of Birdseed Based on Birds Attracted"
   ]
  },
  {
   "cell_type": "markdown",
   "metadata": {
    "deletable": false,
    "editable": false
   },
   "source": [
    "<span><h3>\n",
    " Step 1. &nbsp;&nbsp;&nbsp; Read CSV Data into Pandas Dataframe",
    "\n</h3></span>"
   ]
  },
  {
   "cell_type": "markdown",
   "metadata": {
    "deletable": false,
    "editable": false
   },
   "source": [
    "<span><h4>\n",
    " Substep. &nbsp;&nbsp; Import Pandas Library (if Needed)",
    "\n</h4></span>"
   ]
  },
  {
   "cell_type": "code",
   "execution_count": null,
   "metadata": {
    "datawhys": {
     "response_id": 5,
     "student_response": true
    },
    "deletable": false,
    "editable": true
   },
   "outputs": [],
   "source": []
  },
  {
   "cell_type": "markdown",
   "metadata": {
    "deletable": false,
    "editable": false
   },
   "source": [
    "<span><h4>\n",
    " Substep. &nbsp;&nbsp; Read CSV data and Save in Variable",
    "\n</h4></span>"
   ]
  },
  {
   "cell_type": "markdown",
   "metadata": {
    "deletable": false,
    "editable": false
   },
   "source": [
    "<div class=\"alert alert-block alert-danger\">\n",
    "The path to the dataset is `datasets/birdfeed.csv`.",
    "\n</div>"
   ]
  },
  {
   "cell_type": "code",
   "execution_count": null,
   "metadata": {
    "datawhys": {
     "response_id": 6,
     "student_response": true
    },
    "deletable": false,
    "editable": true
   },
   "outputs": [],
   "source": []
  },
  {
   "cell_type": "markdown",
   "metadata": {
    "deletable": false,
    "editable": false
   },
   "source": [
    "<span><h4>\n",
    " Substep. &nbsp;&nbsp; Sort Data",
    "\n</h4></span>"
   ]
  },
  {
   "cell_type": "code",
   "execution_count": null,
   "metadata": {
    "datawhys": {
     "response_id": 7,
     "student_response": true
    },
    "deletable": false,
    "editable": true
   },
   "outputs": [],
   "source": []
  },
  {
   "cell_type": "markdown",
   "metadata": {
    "deletable": false,
    "editable": false
   },
   "source": [
    "<span><h4>\n",
    " Substep. &nbsp;&nbsp; Display Dataframe Contents",
    "\n</h4></span>"
   ]
  },
  {
   "cell_type": "code",
   "execution_count": null,
   "metadata": {
    "datawhys": {
     "response_id": 8,
     "student_response": true
    },
    "deletable": false,
    "editable": true
   },
   "outputs": [],
   "source": []
  },
  {
   "cell_type": "markdown",
   "metadata": {
    "deletable": false,
    "editable": false
   },
   "source": [
    "<span><h3>\n",
    " Step 2. &nbsp;&nbsp;&nbsp; Generate Plotly Bar Graph",
    "\n</h3></span>"
   ]
  },
  {
   "cell_type": "markdown",
   "metadata": {
    "deletable": false,
    "editable": false
   },
   "source": [
    "<span><h4>\n",
    " Substep. &nbsp;&nbsp; Import Plotly Express Library\n",
    "\n</h4></span>"
   ]
  },
  {
   "cell_type": "code",
   "execution_count": null,
   "metadata": {
    "datawhys": {
     "response_id": 9,
     "student_response": true
    },
    "deletable": false,
    "editable": true
   },
   "outputs": [],
   "source": []
  },
  {
   "cell_type": "markdown",
   "metadata": {
    "deletable": false,
    "editable": false
   },
   "source": [
    "<span><h4>\n",
    " Substep. &nbsp;&nbsp; Set Columns as Category and Value\n",
    "\n</h4></span>"
   ]
  },
  {
   "cell_type": "code",
   "execution_count": null,
   "metadata": {
    "datawhys": {
     "response_id": 10,
     "student_response": true
    },
    "deletable": false,
    "editable": true
   },
   "outputs": [],
   "source": []
  },
  {
   "cell_type": "markdown",
   "metadata": {
    "deletable": false,
    "editable": false
   },
   "source": [
    "<span><h4>\n",
    " Substep. &nbsp;&nbsp; Set Additional Plot Options",
    "\n</h4></span>"
   ]
  },
  {
   "cell_type": "markdown",
   "metadata": {
    "deletable": false,
    "editable": false
   },
   "source": [
    "<div class=\"alert alert-block alert-danger\">\n",
    "Change the following labels:\n\n- \"birdfeed\" should be \"Birdseed\" (without quotes).\n- \"daily_avg\" should be \"Average Number of Birds Each Day\" (without quotes).",
    "\n</div>"
   ]
  },
  {
   "cell_type": "code",
   "execution_count": null,
   "metadata": {
    "datawhys": {
     "response_id": 11,
     "student_response": true
    },
    "deletable": false,
    "editable": true
   },
   "outputs": [],
   "source": []
  },
  {
   "cell_type": "markdown",
   "metadata": {
    "deletable": false,
    "editable": false
   },
   "source": [
    "<div class=\"alert alert-block alert-danger\">\n",
    "Set title of plot to \"Most Popular Types of Birdseed by Average Number of Birds Attracted\" (without quotes).",
    "\n</div>"
   ]
  },
  {
   "cell_type": "code",
   "execution_count": null,
   "metadata": {
    "datawhys": {
     "response_id": 12,
     "student_response": true
    },
    "deletable": false,
    "editable": true
   },
   "outputs": [],
   "source": []
  },
  {
   "cell_type": "markdown",
   "metadata": {
    "deletable": false,
    "editable": false
   },
   "source": [
    "<span><h4>\n",
    " Substep. &nbsp;&nbsp; Generate Bar Graph",
    "\n</h4></span>"
   ]
  },
  {
   "cell_type": "code",
   "execution_count": null,
   "metadata": {
    "datawhys": {
     "response_id": 13,
     "student_response": true
    },
    "deletable": false,
    "editable": true
   },
   "outputs": [],
   "source": []
  },
  {
   "cell_type": "markdown",
   "metadata": {
    "deletable": false,
    "editable": false
   },
   "source": [
    "<div class=\"alert alert-block alert-danger\">\n",
    "Screenshot the chart.",
    "\n</div>"
   ]
  },
  {
   "cell_type": "markdown",
   "metadata": {
    "deletable": false,
    "editable": false
   },
   "source": [
    "<div class=\"alert alert-block alert-danger\">\n",
    "Generate a second copy of the chart, but this time with a horizontal orientation, by setting `x=values` and `y=category`.",
    "\n</div>"
   ]
  },
  {
   "cell_type": "code",
   "execution_count": null,
   "metadata": {
    "datawhys": {
     "response_id": 14,
     "student_response": true
    },
    "deletable": false,
    "editable": true
   },
   "outputs": [],
   "source": []
  },
  {
   "cell_type": "markdown",
   "metadata": {
    "deletable": false,
    "editable": false
   },
   "source": [
    "<div class=\"alert alert-block alert-danger\">\n",
    "Screenshot the horizontal version of the chart.",
    "\n</div>"
   ]
  }
 ],
 "metadata": {
  "interpreter": {
   "hash": "be14b4e913c6f2457a185c22af60a9db8729a2914b48dcc2c5e42fe4e4a2ce08"
  },
  "kernelspec": {
   "display_name": "xpython",
   "language": "python",
   "name": "xpython"
  },
  "language_info": {
   "codemirror_mode": {
    "name": "ipython",
    "version": 3
   },
   "file_extension": ".py",
   "mimetype": "text/x-python",
   "name": "python",
   "nbconvert_exporter": "python",
   "pygments_lexer": "ipython3",
   "version": "3.9.7"
  }
 },
 "nbformat": 4,
 "nbformat_minor": 4
}
