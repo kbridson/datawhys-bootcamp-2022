{
 "cells": [
  {
   "cell_type": "markdown",
   "id": "46c8e0c2",
   "metadata": {
    "deletable": false,
    "editable": false
   },
   "source": [
    "### User Activity (Filtering-2) "
   ]
  },
  {
   "cell_type": "markdown",
   "id": "85cfe1cf",
   "metadata": {
    "deletable": false,
    "editable": false
   },
   "source": [
    "Consider the 'student performance on exam' dataset. This dataset has data on several students' exam performance. The dataset has the following columns:\n",
    "**gender,\n",
    "race/ethnicity,\n",
    " parental level of education,\n",
    " lunch,\n",
    " test preparation course,\n",
    " math score,\n",
    "reading score,\n",
    "writing score.**\n",
    "\n",
    "Our task to analyze the students exam score performance based on different criteria which focuses on different types of students. To do an in-depth analysis, we will analyze data of the male and female groups in terms of their total test score.\n",
    "\n",
    "First, we read the dataset using pandas library and store it in a dataframe."
   ]
  },
  {
   "cell_type": "markdown",
   "id": "1a706ec3",
   "metadata": {
    "deletable": false,
    "editable": false
   },
   "source": [
    "### import pandas library"
   ]
  },
  {
   "cell_type": "code",
   "execution_count": null,
   "id": "31bbc455",
   "metadata": {
    "datawhys": {
     "response_id": 1,
     "student_response": true
    },
    "deletable": false,
    "editable": true
   },
   "outputs": [],
   "source": []
  },
  {
   "cell_type": "markdown",
   "id": "885b981e",
   "metadata": {
    "deletable": false,
    "editable": false
   },
   "source": [
    "### Read the dataset and store in a dataframe\n",
    "\n",
    "**File location:** datasets/StudentsPerformance.csv\n",
    "\n",
    "**dataframe:** student_data"
   ]
  },
  {
   "cell_type": "code",
   "execution_count": null,
   "id": "49140077",
   "metadata": {
    "datawhys": {
     "response_id": 2,
     "student_response": true
    },
    "deletable": false,
    "editable": true
   },
   "outputs": [],
   "source": []
  },
  {
   "cell_type": "markdown",
   "id": "de698182",
   "metadata": {
    "deletable": false,
    "editable": false
   },
   "source": [
    "### View the dataframe"
   ]
  },
  {
   "cell_type": "code",
   "execution_count": null,
   "id": "b208ee0b",
   "metadata": {
    "datawhys": {
     "response_id": 3,
     "student_response": true
    },
    "deletable": false,
    "editable": true
   },
   "outputs": [],
   "source": []
  },
  {
   "cell_type": "markdown",
   "id": "b7400168",
   "metadata": {
    "deletable": false,
    "editable": false
   },
   "source": [
    "### Add new columns in dataset\n",
    "\n",
    "In the dataset, there are 3 scores of students' exam performance shown. We are interested in comparing their performance on their overall score. So, to get their overall score, we add all these scores in a new variable 'total score' and store them in 'student_data' dataframe as shown below."
   ]
  },
  {
   "cell_type": "markdown",
   "id": "80d96d92",
   "metadata": {
    "deletable": false,
    "editable": false
   },
   "source": [
    "<details>\n",
    "<summary>Blockly instructions: (click triangle to expand)</summary>\n",
    "<br>    \n",
    "    \n",
    "- From `LISTS`, get the `{dictVariable} []` block.\n",
    "Make 2 duplicate copies of it. Replace {dictVariable} with `student_data`.    \n",
    "- From `TEXT`, get 3 `\" \"` blocks. Write `math score`,`reading score`,`writing score` in them. Put them inside the `student_data[]` blocks.\n",
    "- From `LISTS`, get `create list with` block. Add 3 `student_data` blocks into that.\n",
    "_ From `MATH`, get `sum of list` block. Connect it to `create list with` block.     \n",
    "- Click on \"Blocks to Code\" at the bottom of the blockly palette.   \n",
    "    \n",
    "- After blocks to code, in the code cell, type `student_data['total_score']=`existing code   \n",
    "    \n",
    "Run the python cell by pressing Shift+Enter.    \n",
    "</details>\n"
   ]
  },
  {
   "cell_type": "code",
   "execution_count": null,
   "id": "0e5ebe61",
   "metadata": {
    "datawhys": {
     "response_id": 4,
     "student_response": true
    },
    "deletable": false,
    "editable": true
   },
   "outputs": [],
   "source": []
  },
  {
   "cell_type": "markdown",
   "id": "d35693f6",
   "metadata": {
    "deletable": false,
    "editable": false
   },
   "source": [
    "### View the new column"
   ]
  },
  {
   "cell_type": "markdown",
   "id": "09cfac92",
   "metadata": {
    "deletable": false,
    "editable": false
   },
   "source": [
    "<details>\n",
    "<summary>Blockly instructions: (click triangle to expand)</summary>\n",
    "<br>\n",
    "    \n",
    "- Click the variable block  `student_data` in the blockly workspace.\n",
    "- Click on \"Blocks to Code\" at the bottom of the blockly palette.     \n",
    "    \n",
    "Execute the code using Shift+Enter in the python file.\n",
    "</details>"
   ]
  },
  {
   "cell_type": "code",
   "execution_count": null,
   "id": "a0a6a26b",
   "metadata": {
    "datawhys": {
     "response_id": 5,
     "student_response": true
    },
    "deletable": false,
    "editable": true
   },
   "outputs": [],
   "source": []
  },
  {
   "cell_type": "markdown",
   "id": "3f3c7427",
   "metadata": {
    "deletable": false,
    "editable": false
   },
   "source": [
    "### Find out column values count"
   ]
  },
  {
   "cell_type": "markdown",
   "id": "e678d23f",
   "metadata": {
    "deletable": false,
    "editable": false
   },
   "source": [
    "<details>\n",
    "<summary>Blockly instructions: (click triangle to expand)</summary>\n",
    "<br>\n",
    "    \n",
    "- From `LISTS`, get `{dictVariable}[ ]` block.\n",
    "- Replace `dictVariable` with `student_data`.\n",
    "- From `TEXT`, get `\" \"` block. Put `race/ethnicity` inside it and drag inside `student_data` block.\n",
    "- Click `Blocks to Code`.\n",
    "    \n",
    "- In the code cell, write - existing code.`value_counts()`.    \n",
    "    \n",
    "Execute the code using Shift+Enter in the python file.\n",
    "</details>"
   ]
  },
  {
   "cell_type": "code",
   "execution_count": null,
   "id": "5f6a3c91",
   "metadata": {
    "datawhys": {
     "response_id": 6,
     "student_response": true
    },
    "deletable": false,
    "editable": true
   },
   "outputs": [],
   "source": []
  },
  {
   "cell_type": "markdown",
   "id": "dd651319",
   "metadata": {
    "deletable": false,
    "editable": false
   },
   "source": [
    "### Filter 'Group D' data"
   ]
  },
  {
   "cell_type": "markdown",
   "id": "26f70b78",
   "metadata": {
    "deletable": false,
    "editable": false
   },
   "source": [
    "Now , we are only interested in a special group(from 'race/ethnicity' column) which is group D. "
   ]
  },
  {
   "cell_type": "markdown",
   "id": "9b2f8189",
   "metadata": {
    "deletable": false,
    "editable": false
   },
   "source": [
    "<details>\n",
    "<summary> Blockly Instructions(click triangle to expand) </summary>\n",
    "<br>\n",
    "\n",
    "- from `LISTS`, click on `{dictvariable}[]`. place `student_data` inplace of `dictvariable`.\n",
    "get a text block `\" \"`. write \"race/ethnicity\" in the `\" \"` block. drag it inside `student_data`.\n",
    "- from `LOGIC` block, click on `equals` block. on the left side of it, put the `student_data list with race/ethnicity`. On the right side put a `TEXT` block. put `group D` on it.\n",
    "- from lists, click on `{dictvariable}[]`. place `student_data` inplace of `dictvariable`.Put the logic block inside the new `student_data` block.\n",
    "- create a variable `group_D`. click on set `group_D` to and connect the `student_data` block.\n",
    "- From `VARIABLES` block, click the `group_D` block.    \n",
    "- Click on \"Blocks to Code\" at the bottom of the blockly palette.\n",
    "\n",
    "Run the python code cell.\n",
    "</details>"
   ]
  },
  {
   "cell_type": "code",
   "execution_count": null,
   "id": "aff3e867",
   "metadata": {
    "datawhys": {
     "response_id": 7,
     "student_response": true
    },
    "deletable": false,
    "editable": true
   },
   "outputs": [],
   "source": []
  },
  {
   "cell_type": "markdown",
   "id": "629a1db5",
   "metadata": {
    "deletable": false,
    "editable": false
   },
   "source": [
    "### Filter required Columns"
   ]
  },
  {
   "cell_type": "markdown",
   "id": "af79eabe",
   "metadata": {
    "deletable": false,
    "editable": false
   },
   "source": [
    "Now that we have group_D specific data, we dive into more deeper exploration of this group data.\n",
    "we want to know only about the students `gender, test preparation course, parental education and total score`.\n",
    "\n"
   ]
  },
  {
   "cell_type": "markdown",
   "id": "b3a40b14",
   "metadata": {
    "deletable": false,
    "editable": false
   },
   "source": [
    "<details>\n",
    "<summary> Blockly Instructions(click triangle to expand) </summary>\n",
    "<br>\n",
    "\n",
    "\n",
    "- From `LISTS` block , click on `{dictVariable} [ ]` block. Put `group_D` in place of {dictVariable}. \n",
    "- From `LISTS`, click on `create list with` block.Click on + sign on the list block 4 times. Take 4 `\" \"` block from `TEXT` block.\n",
    "write `gender, parental level of education, test preparation course, total_score` in the text blocks. Drag them inside `create list with` block.\n",
    "- Drag the `create list with` block inside `group_D`\n",
    "- Create a variable `new_data`. click on set `new_data` to and connect to the `group_D` block.\n",
    "- From `VARIABLES` block, click the `new_data` block.     \n",
    "- Click on \"Blocks to Code\" at the bottom of the blockly palette.\n",
    "\n",
    "Run the python code cell.\n",
    "</details>"
   ]
  },
  {
   "cell_type": "code",
   "execution_count": null,
   "id": "03606cac",
   "metadata": {
    "datawhys": {
     "response_id": 8,
     "student_response": true
    },
    "deletable": false,
    "editable": true
   },
   "outputs": [],
   "source": []
  },
  {
   "cell_type": "markdown",
   "id": "fe5fb701",
   "metadata": {
    "deletable": false,
    "editable": false
   },
   "source": [
    "### Male student scores\n"
   ]
  },
  {
   "cell_type": "markdown",
   "id": "0b33da8c",
   "metadata": {
    "deletable": false,
    "editable": false
   },
   "source": [
    "For the next step, we find out the scores of the students who had finished prep for the exams.\n"
   ]
  },
  {
   "cell_type": "markdown",
   "id": "c293d5f4",
   "metadata": {
    "deletable": false,
    "editable": false
   },
   "source": [
    "<details>\n",
    "<summary> Blockly Instructions(click triangle to expand) </summary>\n",
    "<br>\n",
    "\n",
    "- from `LISTS`, click on `{dictvariable}[]`. place `newdata` inplace of `dictvariable`.\n",
    "get a text block `\" \"`. write \"gender\" in the `\" \"` block. drag it inside `newdata`.\n",
    "- from `LOGIC` block, click on `equals` block. on the left side of it, put the `newdata list with gender`. On the right side put a `\" \"` block. put `male` on it.\n",
    "- from lists, click on `{dictvariable}[]`. place `newdata` inplace of `dictvariable`.Put the logic block inside the new `newdata` block.\n",
    "- create a variable `male_score`. click on set `male_score to` and connect to the `newdata` block.\n",
    "- From `VARIABLES` block, click the `male_score` block.    \n",
    "- Click on \"Blocks to Code\" at the bottom of the blockly palette.\n",
    "\n",
    "Run the python code cell.\n",
    "</details>"
   ]
  },
  {
   "cell_type": "code",
   "execution_count": null,
   "id": "64075f89",
   "metadata": {
    "datawhys": {
     "response_id": 9,
     "student_response": true
    },
    "deletable": false,
    "editable": true
   },
   "outputs": [],
   "source": []
  },
  {
   "cell_type": "markdown",
   "id": "1015e112",
   "metadata": {
    "deletable": false,
    "editable": false
   },
   "source": [
    "### Calculate mean of male group"
   ]
  },
  {
   "cell_type": "markdown",
   "id": "ca71d9d1",
   "metadata": {
    "deletable": false,
    "editable": false
   },
   "source": [
    "<details>\n",
    "<summary> Blockly Instructions(click triangle to expand) </summary>\n",
    "<br>\n",
    "\n",
    "- from `LISTS`, click on `{dictvariable}[]`. place `male_score` inplace of `dictvariable`.\n",
    "get a text block `\" \"`. write \"total_score\" in the `\" \"` block. drag it inside `male_score`.\n",
    "- create a variable `mean_male_group`. click on set `mean_male_group to` and connect to the `male_score` block.\n",
    "- From `VARIABLES` block, click the `mean_male_group` block.    \n",
    "- Click on \"Blocks to Code\" at the bottom of the blockly palette.\n",
    "\n",
    "Run the python code cell.\n",
    "</details>"
   ]
  },
  {
   "cell_type": "code",
   "execution_count": null,
   "id": "9cc38bce",
   "metadata": {
    "datawhys": {
     "response_id": 10,
     "student_response": true
    },
    "deletable": false,
    "editable": true
   },
   "outputs": [],
   "source": []
  },
  {
   "cell_type": "markdown",
   "id": "be5c42df",
   "metadata": {
    "deletable": false,
    "editable": false
   },
   "source": [
    "<details>\n",
    "<summary> Blockly Instructions(click triangle to expand) </summary>\n",
    "<br>\n",
    "\n",
    "- From `VARIABLES` block, click the `with mean_male_group do ...using` block. \n",
    "- From do , select `mean` option.    \n",
    "- Click on \"Blocks to Code\" at the bottom of the blockly palette.\n",
    "\n",
    "Run the python code cell.\n",
    "</details>"
   ]
  },
  {
   "cell_type": "code",
   "execution_count": null,
   "id": "970f5ea8",
   "metadata": {
    "datawhys": {
     "response_id": 11,
     "student_response": true
    },
    "deletable": false,
    "editable": true
   },
   "outputs": [],
   "source": []
  },
  {
   "cell_type": "markdown",
   "id": "69a4c36f",
   "metadata": {
    "deletable": false,
    "editable": false
   },
   "source": [
    "### Female student scores"
   ]
  },
  {
   "cell_type": "markdown",
   "id": "e8dd7265",
   "metadata": {
    "deletable": false,
    "editable": false
   },
   "source": [
    "<details>\n",
    "<summary> Blockly Instructions(click triangle to expand) </summary>\n",
    "<br>\n",
    "\n",
    "- from `LISTS`, click on `{dictvariable}[]`. place `newdata` inplace of `dictvariable`.\n",
    "get a text block `\" \"`. write \"gender\" in the `\" \"` block. drag it inside `newdata`.\n",
    "- from `LOGIC` block, click on `equals` block. on the left side of it, put the `newdata list with gender`. On the right side put a `\" \"` block. put `female` on it.\n",
    "- from `LISTS`, click on `{dictvariable}[]`. place `newdata` inplace of `dictvariable`.Put the logic block inside the new `newdata` block.\n",
    "- create a variable `female_score`. click on set `female_score to` and connect to the `newdata` block.\n",
    "- From `VARIABLES` block, click the `female_score` block.    \n",
    "- Click on \"Blocks to Code\" at the bottom of the blockly palette.\n",
    "\n",
    "Run the python code cell.\n",
    "</details>"
   ]
  },
  {
   "cell_type": "code",
   "execution_count": null,
   "id": "1c86f95d",
   "metadata": {
    "datawhys": {
     "response_id": 12,
     "student_response": true
    },
    "deletable": false,
    "editable": true
   },
   "outputs": [],
   "source": []
  },
  {
   "cell_type": "markdown",
   "id": "edaabe5f",
   "metadata": {
    "deletable": false,
    "editable": false
   },
   "source": [
    "### Calculate mean of female group"
   ]
  },
  {
   "cell_type": "markdown",
   "id": "4b853ab6",
   "metadata": {
    "deletable": false,
    "editable": false
   },
   "source": [
    "<details>\n",
    "<summary> Blockly Instructions(click triangle to expand) </summary>\n",
    "<br>\n",
    "\n",
    "- from `LISTS`, click on `{dictvariable}[]`. place `female_score` inplace of `dictvariable`.\n",
    "get a text block `\" \"`. write \"total_score\" in the `\" \"` block. drag it inside `female_score`.\n",
    "- create a variable `mean_female_group`. click on set `mean_female_group to` and connect to the `female_score` block.\n",
    "- From `VARIABLES` block, click the `mean_female_group` block.    \n",
    "- Click on \"Blocks to Code\" at the bottom of the blockly palette.\n",
    "\n",
    "Run the python code cell.\n",
    "</details>"
   ]
  },
  {
   "cell_type": "code",
   "execution_count": null,
   "id": "0382b797",
   "metadata": {
    "datawhys": {
     "response_id": 13,
     "student_response": true
    },
    "deletable": false,
    "editable": true
   },
   "outputs": [],
   "source": []
  },
  {
   "cell_type": "markdown",
   "id": "0867100c",
   "metadata": {
    "deletable": false,
    "editable": false
   },
   "source": [
    "<details>\n",
    "<summary> Blockly Instructions(click triangle to expand) </summary>\n",
    "<br>\n",
    "\n",
    "- From `VARIABLES` block, click the `with mean_female_group do ...using` block. \n",
    "- From do , select `mean` option.    \n",
    "- Click on \"Blocks to Code\" at the bottom of the blockly palette.\n",
    "\n",
    "Run the python code cell.\n",
    "</details>"
   ]
  },
  {
   "cell_type": "code",
   "execution_count": null,
   "id": "3c500a67",
   "metadata": {
    "datawhys": {
     "response_id": 14,
     "student_response": true
    },
    "deletable": false,
    "editable": true
   },
   "outputs": [],
   "source": []
  },
  {
   "cell_type": "markdown",
   "id": "51f46356",
   "metadata": {
    "deletable": false,
    "editable": false
   },
   "source": [
    "#### Which of the 2 gender groups perform better in terms of mean score? What were their group scores?"
   ]
  },
  {
   "cell_type": "markdown",
   "id": "ce9f9b0d",
   "metadata": {
    "datawhys": {
     "response_id": 15,
     "student_response": true
    },
    "deletable": false,
    "editable": true
   },
   "source": [
    "<div class=\"alert alert-block alert-info\">\n",
    "<!-- YOUR ANSWER BEGIN -->\n",
    "\n",
    "\n",
    "\n",
    "\n",
    "\n",
    "<!-- YOUR ANSWER END -->\n",
    "</div>"
   ]
  }
 ],
 "metadata": {
  "kernelspec": {
   "display_name": "xpython",
   "language": "python",
   "name": "xpython"
  },
  "language_info": {
   "file_extension": ".py",
   "mimetype": "text/x-python",
   "name": "python",
   "version": "3.7.6"
  }
 },
 "nbformat": 4,
 "nbformat_minor": 5
}
