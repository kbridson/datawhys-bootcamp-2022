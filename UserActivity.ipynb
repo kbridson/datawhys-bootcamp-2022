{
 "cells": [
  {
   "cell_type": "markdown",
   "id": "49d5b2ec",
   "metadata": {
    "deletable": false,
    "editable": false
   },
   "source": [
    "## Activity to read csv file"
   ]
  },
  {
   "cell_type": "markdown",
   "id": "ab35c537",
   "metadata": {
    "deletable": false,
    "editable": false
   },
   "source": [
    "Lets suppose we have this dataset named COVID-19.csv . We want to analyze the data in this dataset for further evaluation.\n",
    "\n",
    "Now, complete the following tasks.\n",
    "- Import the `pandas` library.\n",
    "- Read the `COVID-19.csv` dataset into a dataframe named `coviddata`. \n",
    "- View the dataframe `coviddata`.\n",
    "\n",
    "You can refer to the previous worked example notebook."
   ]
  },
  {
   "cell_type": "markdown",
   "id": "b430ac79",
   "metadata": {
    "deletable": false,
    "editable": false
   },
   "source": [
    "### Import Pandas Library"
   ]
  },
  {
   "cell_type": "markdown",
   "id": "d4153812",
   "metadata": {
    "deletable": false,
    "editable": false
   },
   "source": [
    "<details>\n",
    "<summary> Blockly Instructions(click triangle to expand)</summary>\n",
    "<br>    \n",
    "    \n",
    "- Using the IMPORT menu in the Blockly palette, click on an import block `import some library as variable name`:\n",
    "- After clicking , the block drops into blockly workspace. Change `some library` to `pandas` by typing into that box.\n",
    "- Click on the `variable name` dropdown, choose `Rename variable...`, and type `pd` into the box that pops up.\n",
    "- Click on \"Blocks to Code\" at the bottom of the blockly palette.\n",
    "    \n",
    "Execute the code using Shift+Enter in the python cell.    \n",
    "</details>"
   ]
  },
  {
   "cell_type": "code",
   "execution_count": null,
   "id": "ddd9a710",
   "metadata": {
    "datawhys": {
     "response_id": 1,
     "student_response": true
    },
    "deletable": false,
    "editable": true
   },
   "outputs": [],
   "source": []
  },
  {
   "cell_type": "markdown",
   "id": "755ba546",
   "metadata": {
    "deletable": false,
    "editable": false
   },
   "source": [
    "### Read the CSV data into a dataframe"
   ]
  },
  {
   "cell_type": "markdown",
   "id": "87e18ea5",
   "metadata": {
    "deletable": false,
    "editable": false
   },
   "source": [
    "<details>\n",
    "<summary>Blockly Instructions(click triangle to expand)</summary>\n",
    "<br>\n",
    "    \n",
    "- Go to the VARIABLES menu in the Blockly palette and click on the `with pd do ...` block.\n",
    "- After it drops into the Blockly workspace, wait a second until the dropdown stops loading, and then click on it and select `read_csv`.\n",
    "- Then get a `\" \"` block from TEXT, drop it on the workspace, drag it to the `using` part of the first block, and type the file path `datasets/COVID-19.csv` into it.\n",
    "\n",
    "</details>\n",
    "\n"
   ]
  },
  {
   "cell_type": "markdown",
   "id": "1eed88c2",
   "metadata": {
    "deletable": false,
    "editable": false
   },
   "source": [
    "<details>\n",
    "<summary>Blockly Instructions(click triangle to expand)</summary>\n",
    "<br>\n",
    "\n",
    "- Using VARIABLES menu in the Blockly palette, click on `Create variable...` and type `coviddata` into the pop up window.\n",
    "- Then click on the `set coviddata to` block \n",
    "- Connect `set coviddata` block to previous `with pd do...` block.\n",
    "- Click on \"Blocks to Code\" at the bottom of the blockly palette.\n",
    "    \n",
    "Execute the code using Shift+Enter in the python cell.    \n",
    "</details>"
   ]
  },
  {
   "cell_type": "code",
   "execution_count": null,
   "id": "94248d69",
   "metadata": {
    "datawhys": {
     "response_id": 2,
     "student_response": true
    },
    "deletable": false,
    "editable": true
   },
   "outputs": [],
   "source": []
  },
  {
   "cell_type": "markdown",
   "id": "f1d3ee1c",
   "metadata": {
    "deletable": false,
    "editable": false
   },
   "source": [
    "### View the dataframe "
   ]
  },
  {
   "cell_type": "markdown",
   "id": "26565d71",
   "metadata": {
    "deletable": false,
    "editable": false
   },
   "source": [
    "<details>\n",
    "<summary>Blockly instructions(click triangle to expand)</summary>\n",
    "<br>\n",
    "    \n",
    "- Click the variable block for `coviddata` in the blockly workspace.\n",
    "- Click on \"Blocks to Code\" at the bottom of the blockly palette.\n",
    "    \n",
    "Execute the code using Shift+Enter in the python cell.\n",
    "</details>"
   ]
  },
  {
   "cell_type": "code",
   "execution_count": null,
   "id": "c4c1bf87",
   "metadata": {
    "datawhys": {
     "response_id": 3,
     "student_response": true
    },
    "deletable": false,
    "editable": true
   },
   "outputs": [],
   "source": []
  }
 ],
 "metadata": {
  "kernelspec": {
   "display_name": "xpython",
   "language": "python",
   "name": "xpython"
  },
  "language_info": {
   "file_extension": ".py",
   "mimetype": "text/x-python",
   "name": "python",
   "version": "3.7.6"
  }
 },
 "nbformat": 4,
 "nbformat_minor": 5
}
