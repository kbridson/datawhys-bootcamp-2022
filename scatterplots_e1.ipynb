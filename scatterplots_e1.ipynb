{
 "cells": [
  {
   "cell_type": "markdown",
   "metadata": {
    "deletable": false,
    "editable": false
   },
   "source": [
    "# Plotting 1: Creating Scatterplots with Plotly (Exercise 1)"
   ]
  },
  {
   "cell_type": "markdown",
   "metadata": {
    "deletable": false,
    "editable": false
   },
   "source": [
    "## Question. &nbsp;&nbsp; How does height change with age?"
   ]
  },
  {
   "cell_type": "markdown",
   "metadata": {
    "deletable": false,
    "editable": false
   },
   "source": [
    "Dataset: Demographic data from Kalahari !Kung San people collected by Nancy Howell in Botswana between August 1967 and May 1969.\n",
    "\n",
    "Columns:\n",
    "- Height (cm)\n",
    "- Age (years)\n",
    "- Gender (male, female)"
   ]
  },
  {
   "cell_type": "markdown",
   "metadata": {
    "deletable": false,
    "editable": false
   },
   "source": [
    "## Pre-programming Discussion"
   ]
  },
  {
   "cell_type": "markdown",
   "metadata": {
    "deletable": false,
    "editable": false
   },
   "source": [
    "<div class=\"alert alert-block alert-danger\">\n",
    "Q1. Which columns from the dataset will be used in the plot?",
    "\n</div>"
   ]
  },
  {
   "cell_type": "markdown",
   "metadata": {
    "datawhys": {
     "response_id": 1,
     "student_response": true
    },
    "deletable": false,
    "editable": true
   },
   "source": [
    "<div class=\"alert alert-block alert-info\">\n",
    "<!-- YOUR ANSWER BEGIN -->\n",
    "\n",
    "\n",
    "\n",
    "\n",
    "\n",
    "<!-- YOUR ANSWER END -->\n",
    "</div>"
   ]
  },
  {
   "cell_type": "markdown",
   "metadata": {
    "deletable": false,
    "editable": false
   },
   "source": [
    "<div class=\"alert alert-block alert-danger\">\n",
    "Q2. Which column will go on the x-axis?",
    "\n</div>"
   ]
  },
  {
   "cell_type": "markdown",
   "metadata": {
    "datawhys": {
     "response_id": 2,
     "student_response": true
    },
    "deletable": false,
    "editable": true
   },
   "source": [
    "<div class=\"alert alert-block alert-info\">\n",
    "<!-- YOUR ANSWER BEGIN -->\n",
    "\n",
    "\n",
    "\n",
    "\n",
    "\n",
    "<!-- YOUR ANSWER END -->\n",
    "</div>"
   ]
  },
  {
   "cell_type": "markdown",
   "metadata": {
    "deletable": false,
    "editable": false
   },
   "source": [
    "<div class=\"alert alert-block alert-danger\">\n",
    "Q3. Which column will go on the y-axis?",
    "\n</div>"
   ]
  },
  {
   "cell_type": "markdown",
   "metadata": {
    "datawhys": {
     "response_id": 3,
     "student_response": true
    },
    "deletable": false,
    "editable": true
   },
   "source": [
    "<div class=\"alert alert-block alert-info\">\n",
    "<!-- YOUR ANSWER BEGIN -->\n",
    "\n",
    "\n",
    "\n",
    "\n",
    "\n",
    "<!-- YOUR ANSWER END -->\n",
    "</div>"
   ]
  },
  {
   "cell_type": "markdown",
   "metadata": {
    "deletable": false,
    "editable": false
   },
   "source": [
    "## Programming Activity: Creating a Scatterplot of Height vs Age"
   ]
  },
  {
   "cell_type": "markdown",
   "metadata": {
    "deletable": false,
    "editable": false
   },
   "source": [
    "<span><h3>\n",
    " Step 1. &nbsp;&nbsp;&nbsp; Read CSV Data into Pandas Dataframe",
    "\n</h3></span>"
   ]
  },
  {
   "cell_type": "markdown",
   "metadata": {
    "deletable": false,
    "editable": false
   },
   "source": [
    "<span><h4>\n",
    " Substep. &nbsp;&nbsp; Import Pandas Library (if Needed)",
    "\n</h4></span>"
   ]
  },
  {
   "cell_type": "markdown",
   "metadata": {
    "deletable": false,
    "editable": false
   },
   "source": [
    "- `import pandas` &nbsp;as&nbsp; `pd`\n",
    "\n",
    "<br>\n",
    "<details>\n",
    "  <summary>Blockly Hints</summary>\n",
    "  <ol>\n",
    "    <li><code>import .. as</code> block found under IMPORT</li>\n",
    "    <li>Variable <code>pd</code> must be created under VARIABLES before it appears in the <code>as</code> dropdown</li>\n",
    "  </ol>\n",
    "</details>"
   ]
  },
  {
   "cell_type": "code",
   "execution_count": null,
   "metadata": {
    "deletable": false,
    "editable": false
   },
   "outputs": [],
   "source": [
    "import pandas as pd\n",
    "\n",
    "#<xml xmlns=\"https://developers.google.com/blockly/xml\"><variables><variable id=\"qnEXLsG})b1|)!tK#gr5\">pd</variable></variables><block type=\"importAs_Python\" id=\"rQe(xB~+SjR}s-NPP+TT\" x=\"26\" y=\"83\"><field name=\"libraryName\">pandas</field><field name=\"libraryAlias\" id=\"qnEXLsG})b1|)!tK#gr5\">pd</field></block></xml>"
   ]
  },
  {
   "cell_type": "markdown",
   "metadata": {
    "deletable": false,
    "editable": false
   },
   "source": [
    "<div class=\"alert alert-block alert-danger\">\n",
    "Try it!",
    "\n</div>"
   ]
  },
  {
   "cell_type": "markdown",
   "metadata": {
    "deletable": false,
    "editable": false
   },
   "source": [
    "1. From IMPORT, grab `import .. as ..`\n",
    "2. Replace text `some variable` with `pandas`\n",
    "3. From VARIABLES, click `Create Variable...`, enter `pd`, click OK\n",
    "4. Select `pd` from `variable name` dropdown in `import .. as ..`\n",
    "5. Click Blocks to Code and run cell"
   ]
  },
  {
   "cell_type": "code",
   "execution_count": null,
   "metadata": {
    "datawhys": {
     "response_id": 4,
     "student_response": true
    },
    "deletable": false,
    "editable": true
   },
   "outputs": [],
   "source": []
  },
  {
   "cell_type": "markdown",
   "metadata": {
    "deletable": false,
    "editable": false
   },
   "source": [
    "<span><h4>\n",
    " Substep. &nbsp;&nbsp; Read CSV data and Save in Variable",
    "\n</h4></span>"
   ]
  },
  {
   "cell_type": "markdown",
   "metadata": {
    "deletable": false,
    "editable": false
   },
   "source": [
    "- Create variable &nbsp;`df`\n",
    "- `Set df to` &nbsp;:&nbsp; `with pd do read_csv` &nbsp;using&nbsp; `datasets/age_height.csv`\n",
    "  \n",
    "\n",
    "<br>\n",
    "<details>\n",
    "  <summary>Blockly Hints</summary>\n",
    "  <ol>\n",
    "    <li>Variable <code>df</code> must be created under VARIABLES before it can be used</li>\n",
    "    <li><code>set .. to</code> block found under VARIABLES</li>\n",
    "    <li><code>with .. do .. using</code> block found under VARIABLES</li>\n",
    "    <li><code>with .. do .. using</code> block found under VARIABLES</li>\n",
    "    <li>If <code>do</code> dropdown in <code>with .. do .. using</code> block will not populate, try \"Run All Above Selected Cell\" from the \"Run\" menu in top-left.</li>\n",
    "    <li>You need a <code>\"..\"</code> block found under TEXT to fill in the <code>using</code> part of the <code>with .. do .. using</code> block</li>\n",
    "    <li>If <code>with .. do .. using</code> block does not want to snap together nicely with the <code>set .. to</code> block, try dragging the <code>set .. to</code> block instead.</li>\n",
    "  </ol>\n",
    "</details>"
   ]
  },
  {
   "cell_type": "code",
   "execution_count": null,
   "metadata": {
    "deletable": false,
    "editable": false
   },
   "outputs": [],
   "source": [
    "df = pd.read_csv('datasets/age_height.csv')\n",
    "\n",
    "#<xml xmlns=\"https://developers.google.com/blockly/xml\"><variables><variable id=\"3hA6)(qv#r~M08OkYT6G\">df</variable><variable id=\"qnEXLsG})b1|)!tK#gr5\">pd</variable></variables><block type=\"variables_set\" id=\"OYck_8XevF|9sN)w?/!|\" x=\"66\" y=\"315\"><field name=\"VAR\" id=\"3hA6)(qv#r~M08OkYT6G\">df</field><value name=\"VALUE\"><block type=\"varDoMethod_Python\" id=\"u9kKw*-|%|?@SV)=?Uyx\"><field name=\"VAR\" id=\"qnEXLsG})b1|)!tK#gr5\">pd</field><field name=\"MEMBER\">read_csv</field><data>pd:read_csv</data><value name=\"INPUT\"><block type=\"text\" id=\"Fmz!V4E`C^O;*4b38A_X\"><field name=\"TEXT\">datasets/age_height.csv</field></block></value></block></value></block></xml>"
   ]
  },
  {
   "cell_type": "markdown",
   "metadata": {
    "deletable": false,
    "editable": false
   },
   "source": [
    "<div class=\"alert alert-block alert-danger\">\n",
    "Try it!",
    "\n</div>"
   ]
  },
  {
   "cell_type": "markdown",
   "metadata": {
    "deletable": false,
    "editable": false
   },
   "source": [
    "1. From VARIABLES, grab `with .. do .. using ..`\n",
    "2. Make sure `pd` is selected in dropdown after with\n",
    "3. Select `read_csv` from dropdown after do\n",
    "4. From TEXT, grab `\" .. \"`\n",
    "5. Type `datasets/age_height.csv` into `\" .. \"`\n",
    "6. Drag the `\" .. \"` into the space after using in `with .. do .. using ..`\n",
    "7. From VARIABLES, click `Create Variable...`, enter `df`, click OK\n",
    "8. From VARIABLES, grab `set .. to`\n",
    "9. Change dropdown after set to `df`\n",
    "10. Connect `set .. to` and `with .. do .. using ..`\n",
    "11. Click Blocks to Code and run cell"
   ]
  },
  {
   "cell_type": "code",
   "execution_count": null,
   "metadata": {
    "datawhys": {
     "response_id": 5,
     "student_response": true
    },
    "deletable": false,
    "editable": true
   },
   "outputs": [],
   "source": []
  },
  {
   "cell_type": "markdown",
   "metadata": {
    "deletable": false,
    "editable": false
   },
   "source": [
    "<span><h4>\n",
    " Substep. &nbsp;&nbsp; Display Dataframe Contents",
    "\n</h4></span>"
   ]
  },
  {
   "cell_type": "markdown",
   "metadata": {
    "deletable": false,
    "editable": false
   },
   "source": [
    "\n",
    "- Place a &nbsp;`df`&nbsp; block (VARIABLES)"
   ]
  },
  {
   "cell_type": "code",
   "execution_count": null,
   "metadata": {
    "deletable": false,
    "editable": false
   },
   "outputs": [],
   "source": [
    "df\n",
    "\n",
    "#<xml xmlns=\"https://developers.google.com/blockly/xml\"><variables><variable id=\"3hA6)(qv#r~M08OkYT6G\">df</variable></variables><block type=\"variables_get\" id=\"s:)*_9LgQFXW9.ix8WPX\" x=\"8\" y=\"272\"><field name=\"VAR\" id=\"3hA6)(qv#r~M08OkYT6G\">df</field></block></xml>"
   ]
  },
  {
   "cell_type": "markdown",
   "metadata": {
    "deletable": false,
    "editable": false
   },
   "source": [
    "<div class=\"alert alert-block alert-danger\">\n",
    "Try it!",
    "\n</div>"
   ]
  },
  {
   "cell_type": "markdown",
   "metadata": {
    "deletable": false,
    "editable": false
   },
   "source": [
    "1. From VARIABLES, grab `df`\n",
    "2. Click Blocks to Code and run cell"
   ]
  },
  {
   "cell_type": "code",
   "execution_count": null,
   "metadata": {
    "datawhys": {
     "response_id": 6,
     "student_response": true
    },
    "deletable": false,
    "editable": true
   },
   "outputs": [],
   "source": []
  },
  {
   "cell_type": "markdown",
   "metadata": {
    "deletable": false,
    "editable": false
   },
   "source": [
    "<span><h3>\n",
    " Step 2. &nbsp;&nbsp;&nbsp; Generate Plotly Scatterplot",
    "\n</h3></span>"
   ]
  },
  {
   "cell_type": "markdown",
   "metadata": {
    "deletable": false,
    "editable": false
   },
   "source": [
    "<span><h4>\n",
    " Substep. &nbsp;&nbsp; Import Plotly Express Library\n",
    "\n</h4></span>"
   ]
  },
  {
   "cell_type": "markdown",
   "metadata": {
    "deletable": false,
    "editable": false
   },
   "source": [
    "- `import plotly.express` &nbsp;as&nbsp; `px`\n",
    "\n",
    "<br>\n",
    "<details>\n",
    "  <summary>Blockly Hints</summary>\n",
    "  <ol>\n",
    "    <li><code>import .. as</code> block found under IMPORT</li>\n",
    "    <li>Variable <code>px</code> must be created under VARIABLES before it appears in the <code>as</code> dropdown</li>\n",
    "  </ol>\n",
    "</details>"
   ]
  },
  {
   "cell_type": "code",
   "execution_count": null,
   "metadata": {
    "deletable": false,
    "editable": false
   },
   "outputs": [],
   "source": [
    "import plotly.express as px\n",
    "\n",
    "#<xml xmlns=\"https://developers.google.com/blockly/xml\"><variables><variable id=\"Sxuq484q?PmjXo4*$4o9\">px</variable></variables><block type=\"importAs_Python\" id=\"l.6v#kh|u(j!aj2D/,q]\" x=\"16\" y=\"10\"><field name=\"libraryName\">plotly.express</field><field name=\"libraryAlias\" id=\"Sxuq484q?PmjXo4*$4o9\">px</field></block></xml>"
   ]
  },
  {
   "cell_type": "markdown",
   "metadata": {
    "deletable": false,
    "editable": false
   },
   "source": [
    "<div class=\"alert alert-block alert-danger\">\n",
    "Try it!",
    "\n</div>"
   ]
  },
  {
   "cell_type": "markdown",
   "metadata": {
    "deletable": false,
    "editable": false
   },
   "source": [
    "1. From IMPORT, grab `import .. as ..`\n",
    "2. Replace text `some variable` with `plotly.express`\n",
    "3. From VARIABLES, click `Create Variable...`, enter `px`, click OK\n",
    "4. Select `px` from `variable name` dropdown in `import .. as ..`\n",
    "5. Click Blocks to Code and run cell"
   ]
  },
  {
   "cell_type": "code",
   "execution_count": null,
   "metadata": {
    "datawhys": {
     "response_id": 7,
     "student_response": true
    },
    "deletable": false,
    "editable": true
   },
   "outputs": [],
   "source": []
  },
  {
   "cell_type": "markdown",
   "metadata": {
    "deletable": false,
    "editable": false
   },
   "source": [
    "<span><h4>\n",
    " Substep. &nbsp;&nbsp; Set Columns as x and y\n",
    "\n</h4></span>"
   ]
  },
  {
   "cell_type": "markdown",
   "metadata": {
    "deletable": false,
    "editable": false
   },
   "source": [
    "- Create variable &nbsp;`x`\n",
    "- `Set x to` &nbsp;:&nbsp; `\" Age \"`\n",
    "- Create variable &nbsp;`y`\n",
    "- `Set x to` &nbsp;:&nbsp; `\" Height \"`\n",
    "\n",
    "\n",
    "<br>\n",
    "<details>\n",
    "  <summary>Blockly Hints</summary>\n",
    "  <ol>\n",
    "    <li>Variable <code>x</code> must be created under VARIABLES before it can be used</li>\n",
    "    <li>Variable <code>y</code> must be created under VARIABLES before it can be used</li>\n",
    "    <li><code>set .. to</code> block found under VARIABLES</li>\n",
    "    <li>You need a <code>\" .. \"</code> block found under TEXT to connect to the <code>set .. to</code> block</li>\n",
    "    <li>If <code>\" .. \"</code> block does not want to snap together nicely with the <code>set .. to</code> block, try dragging the <code>set .. to</code> block instead.</li>\n",
    "  </ol>\n",
    "</details>"
   ]
  },
  {
   "cell_type": "code",
   "execution_count": null,
   "metadata": {
    "deletable": false,
    "editable": false
   },
   "outputs": [],
   "source": [
    "x = 'Age'\n",
    "y = 'Height'\n",
    "\n",
    "#<xml xmlns=\"https://developers.google.com/blockly/xml\"><variables><variable id=\"jCa_f6F|YuZ4-AZH]_+V\">x</variable><variable id=\"vm;jj;#dB/j{h6;:by])\">y</variable></variables><block type=\"variables_set\" id=\"cffZW9linf6QkjfLI.*G\" x=\"16\" y=\"54\"><field name=\"VAR\" id=\"jCa_f6F|YuZ4-AZH]_+V\">x</field><value name=\"VALUE\"><block type=\"text\" id=\"Qh,eSVlKu5MDu_:zfxmA\"><field name=\"TEXT\">Age</field></block></value><next><block type=\"variables_set\" id=\"gcnMQNvN{O=)HUk]mwyS\"><field name=\"VAR\" id=\"vm;jj;#dB/j{h6;:by])\">y</field><value name=\"VALUE\"><block type=\"text\" id=\"s^Y5X/A+m;j[wTb8W:^y\"><field name=\"TEXT\">Height</field></block></value></block></next></block></xml>"
   ]
  },
  {
   "cell_type": "markdown",
   "metadata": {
    "deletable": false,
    "editable": false
   },
   "source": [
    "<div class=\"alert alert-block alert-danger\">\n",
    "Try it!",
    "\n</div>"
   ]
  },
  {
   "cell_type": "markdown",
   "metadata": {
    "deletable": false,
    "editable": false
   },
   "source": [
    "1. From VARIABLES, click `Create Variable...`, enter `x`, click OK\n",
    "2. From VARIABLES, grab `set .. to`\n",
    "3. Change dropdown after set to `x`\n",
    "4. From TEXT, grab `\" .. \"`\n",
    "5. Type `Age` into `\" .. \"`\n",
    "6. Connect `set x to` and `\" Age \"`\n",
    "7. From VARIABLES, click `Create Variable...`, enter `y`, click OK\n",
    "8. From VARIABLES, grab `set .. to`\n",
    "9. Change dropdown after set to `x`\n",
    "10. From TEXT, grab `\" .. \"`\n",
    "11. Type `Height` into `\" .. \"`\n",
    "12. Connect `set y to` and `\" Height \"`\n",
    "13. Click Blocks to Code and run cell"
   ]
  },
  {
   "cell_type": "code",
   "execution_count": null,
   "metadata": {
    "datawhys": {
     "response_id": 8,
     "student_response": true
    },
    "deletable": false,
    "editable": true
   },
   "outputs": [],
   "source": []
  },
  {
   "cell_type": "markdown",
   "metadata": {
    "deletable": false,
    "editable": false
   },
   "source": [
    "<span><h4>\n",
    " Substep. &nbsp;&nbsp; Generate Chart",
    "\n</h4></span>"
   ]
  },
  {
   "cell_type": "markdown",
   "metadata": {
    "deletable": false,
    "editable": false
   },
   "source": [
    "- Get a &nbsp;`with px do scatter using`&nbsp; block\n",
    "- Inside that block put a &nbsp;`create list with`&nbsp; block, and inside that block put\n",
    "    - `df`&nbsp; (from VARIABLES)\n",
    "    - a freestyle block with &nbsp;`x=x`&nbsp; in it\n",
    "    - a freestyle block with &nbsp;`y=y`&nbsp; in it\n",
    "\n",
    "<br>\n",
    "<details>\n",
    "  <summary>Blockly Hints</summary>\n",
    "  <ol>\n",
    "    <li>If <code>do</code> dropdown in <code>with .. do .. using</code> block will not populate, try \"Run All Above Selected Cell\" from the \"Run\" menu in top-left.</li>\n",
    "    <li>You need a <code>create list with</code> block found under LISTS to fill in the <code>using</code> part of the <code>with .. do .. using</code> block</li>\n",
    "    <li>The <code>create list with</code> block should not have any empty rows. You can use the <code>+ -</code> controls on the block to change the number of rows.</li>\n",
    "  </ol>\n",
    "</details>"
   ]
  },
  {
   "cell_type": "code",
   "execution_count": null,
   "metadata": {
    "deletable": false,
    "editable": false
   },
   "outputs": [],
   "source": [
    "px.scatter(df, x=x, y=y)\n",
    "\n",
    "#<xml xmlns=\"https://developers.google.com/blockly/xml\"><variables><variable id=\"Sxuq484q?PmjXo4*$4o9\">px</variable><variable id=\"3hA6)(qv#r~M08OkYT6G\">df</variable></variables><block type=\"varDoMethod_Python\" id=\"a;_AlSZ]*zc@?6R#5@[P\" x=\"-1\" y=\"108\"><field name=\"VAR\" id=\"Sxuq484q?PmjXo4*$4o9\">px</field><field name=\"MEMBER\">scatter</field><data>px:scatter</data><value name=\"INPUT\"><block type=\"lists_create_with\" id=\",U3HIA(}w22|3Np3G,s!\"><mutation items=\"3\"></mutation><value name=\"ADD0\"><block type=\"variables_get\" id=\"[?wnP%a96|e`qxs|K]z@\"><field name=\"VAR\" id=\"3hA6)(qv#r~M08OkYT6G\">df</field></block></value><value name=\"ADD1\"><block type=\"dummyOutputCodeBlock_Python\" id=\"gI78EvP|0)_nvaeJ%U0!\"><field name=\"CODE\">x=x</field></block></value><value name=\"ADD2\"><block type=\"dummyOutputCodeBlock_Python\" id=\"5{z}zw`a(%,3=aPA_3RP\"><field name=\"CODE\">y=y</field></block></value></block></value></block></xml>"
   ]
  },
  {
   "cell_type": "markdown",
   "metadata": {
    "deletable": false,
    "editable": false
   },
   "source": [
    "<div class=\"alert alert-block alert-danger\">\n",
    "Try it!",
    "\n</div>"
   ]
  },
  {
   "cell_type": "markdown",
   "metadata": {
    "deletable": false,
    "editable": false
   },
   "source": [
    "1. From VARIABLES, grab `with .. do .. using ..`\n",
    "2. Select `px` from dropdown after with\n",
    "3. Select `scatter` from dropdown after do\n",
    "4. From LISTS, grab `create list with`\n",
    "5. From VARIABLES, grab `df`\n",
    "6. Connect `df` in first slot of `create list with`\n",
    "7. From FREESTYLE, grab first block\n",
    "8. Enter `x=x` in freestyle block\n",
    "9. Connect freestyle `x=x` in second slot of `create list with`\n",
    "10. From FREESTYLE, grab first block\n",
    "11. Enter `y=y` in freestyle block\n",
    "12. Connect freestyle `y=y` in second slot of `create list with`\n",
    "13. Drag `create list with` and connected blocks into space after using in `with .. do .. using ..`\n",
    "14. Click Blocks to code and run cell"
   ]
  },
  {
   "cell_type": "code",
   "execution_count": null,
   "metadata": {
    "datawhys": {
     "response_id": 9,
     "student_response": true
    },
    "deletable": false,
    "editable": true
   },
   "outputs": [],
   "source": []
  }
 ],
 "metadata": {
  "interpreter": {
   "hash": "be14b4e913c6f2457a185c22af60a9db8729a2914b48dcc2c5e42fe4e4a2ce08"
  },
  "kernelspec": {
   "display_name": "xpython",
   "language": "python",
   "name": "xpython"
  },
  "language_info": {
   "codemirror_mode": {
    "name": "ipython",
    "version": 3
   },
   "file_extension": ".py",
   "mimetype": "text/x-python",
   "name": "python",
   "nbconvert_exporter": "python",
   "pygments_lexer": "ipython3",
   "version": "3.9.7"
  }
 },
 "nbformat": 4,
 "nbformat_minor": 4
}
