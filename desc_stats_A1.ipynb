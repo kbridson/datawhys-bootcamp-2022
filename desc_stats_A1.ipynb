{
 "cells": [
  {
   "cell_type": "markdown",
   "id": "1d5fda5a",
   "metadata": {
    "deletable": false,
    "editable": false
   },
   "source": [
    "# Descriptive Statistics Activity 1"
   ]
  },
  {
   "cell_type": "markdown",
   "id": "887e38aa",
   "metadata": {
    "deletable": false,
    "editable": false
   },
   "source": [
    "## Import libraries\n",
    "\n",
    "We can calculate measures of central tendency and spread using `pandas dataframes`.\n",
    "\n",
    "First thing you need to do is import `pandas` below."
   ]
  },
  {
   "cell_type": "code",
   "execution_count": null,
   "id": "67b77c69",
   "metadata": {
    "datawhys": {
     "response_id": 1,
     "student_response": true
    },
    "deletable": false,
    "editable": true
   },
   "outputs": [],
   "source": []
  },
  {
   "cell_type": "markdown",
   "id": "12efcdfe",
   "metadata": {
    "deletable": false,
    "editable": false
   },
   "source": [
    "## Load data\n",
    "\n",
    "We're going to work with data from before, on flowers.\n",
    "\n",
    "Load the CSV file `\"datasets/flower-data-2020.csv\"` into a dataframe."
   ]
  },
  {
   "cell_type": "code",
   "execution_count": null,
   "id": "14fac4f5",
   "metadata": {
    "datawhys": {
     "response_id": 2,
     "student_response": true
    },
    "deletable": false,
    "editable": true
   },
   "outputs": [],
   "source": []
  },
  {
   "cell_type": "markdown",
   "id": "33e81cc9",
   "metadata": {
    "deletable": false,
    "editable": false
   },
   "source": [
    "## Flower mean/median/mode\n",
    "\n",
    "In the next three cells, use the dataframe to calculate the mean, median, and mode of the `Size` column."
   ]
  },
  {
   "cell_type": "code",
   "execution_count": null,
   "id": "88ffd798",
   "metadata": {
    "datawhys": {
     "response_id": 3,
     "student_response": true
    },
    "deletable": false,
    "editable": true
   },
   "outputs": [],
   "source": []
  },
  {
   "cell_type": "code",
   "execution_count": null,
   "id": "920aab0a",
   "metadata": {
    "datawhys": {
     "response_id": 4,
     "student_response": true
    },
    "deletable": false,
    "editable": true
   },
   "outputs": [],
   "source": []
  },
  {
   "cell_type": "code",
   "execution_count": null,
   "id": "756d563f",
   "metadata": {
    "datawhys": {
     "response_id": 5,
     "student_response": true
    },
    "deletable": false,
    "editable": true
   },
   "outputs": [],
   "source": []
  },
  {
   "cell_type": "markdown",
   "id": "9a4532bd",
   "metadata": {
    "deletable": false,
    "editable": false
   },
   "source": [
    "**QUESTION:**\n",
    "\n",
    "How do the mean, median, and mode values differ here?  \n",
    "\n",
    "Write your answer in the cell below."
   ]
  },
  {
   "cell_type": "markdown",
   "id": "74607515",
   "metadata": {
    "datawhys": {
     "response_id": 6,
     "student_response": true
    },
    "deletable": false,
    "editable": true
   },
   "source": [
    "<div class=\"alert alert-block alert-info\">\n",
    "<!-- YOUR ANSWER BEGIN -->\n",
    "\n",
    "\n",
    "\n",
    "\n",
    "\n",
    "<!-- YOUR ANSWER END -->\n",
    "</div>"
   ]
  },
  {
   "cell_type": "markdown",
   "id": "524107a9",
   "metadata": {
    "deletable": false,
    "editable": false
   },
   "source": [
    "## Outlier effects\n",
    "\n",
    "Let's look at some different data: a students quiz grades across a course.\n",
    "\n",
    "Suppose a student received the following grades:\n",
    "\n",
    "- 0\n",
    "- 85\n",
    "- 82\n",
    "- 91\n",
    "- 82\n",
    "\n",
    "In the next cell, make a new dataframe using this list of numbers and output it.\n"
   ]
  },
  {
   "cell_type": "markdown",
   "id": "4a231077",
   "metadata": {
    "deletable": false,
    "editable": false
   },
   "source": [
    "\n",
    "- Create variable &nbsp;`grades`\n",
    "- `set grades to` &nbsp;:&nbsp; `with pd create DataFrame using` &nbsp;<-\n",
    "    - `create list with` &nbsp;:\n",
    "        - `create list with` &nbsp;:\n",
    "            - `0`\n",
    "            - `85`\n",
    "            - `82`\n",
    "            - `91`\n",
    "            - `82`"
   ]
  },
  {
   "cell_type": "code",
   "execution_count": null,
   "id": "9cf0daf8",
   "metadata": {
    "datawhys": {
     "response_id": 7,
     "student_response": true
    },
    "deletable": false,
    "editable": true
   },
   "outputs": [],
   "source": []
  },
  {
   "cell_type": "markdown",
   "id": "537f9502",
   "metadata": {
    "deletable": false,
    "editable": false
   },
   "source": [
    "Now, calculate and show the mean, median, and mode of the `grades` dataframe."
   ]
  },
  {
   "cell_type": "code",
   "execution_count": null,
   "id": "468bef47",
   "metadata": {
    "datawhys": {
     "response_id": 8,
     "student_response": true
    },
    "deletable": false,
    "editable": true
   },
   "outputs": [],
   "source": []
  },
  {
   "cell_type": "code",
   "execution_count": null,
   "id": "6f9a9449",
   "metadata": {
    "datawhys": {
     "response_id": 9,
     "student_response": true
    },
    "deletable": false,
    "editable": true
   },
   "outputs": [],
   "source": []
  },
  {
   "cell_type": "code",
   "execution_count": null,
   "id": "a493dc89",
   "metadata": {
    "datawhys": {
     "response_id": 10,
     "student_response": true
    },
    "deletable": false,
    "editable": true
   },
   "outputs": [],
   "source": []
  },
  {
   "cell_type": "markdown",
   "id": "2f73156a",
   "metadata": {
    "deletable": false,
    "editable": false
   },
   "source": [
    "Now drop the 0 grade from the list and display the updated dataframe.\n"
   ]
  },
  {
   "cell_type": "markdown",
   "id": "731f16e8",
   "metadata": {
    "deletable": false,
    "editable": false
   },
   "source": [
    "\n",
    "- Grab freestyle block, type `axis=0`\n",
    "- `set grades to` &nbsp;:&nbsp; `with grades do drop using` &nbsp;<-&nbsp; `create list with` &nbsp;:\n",
    "    - `0`\n",
    "    - `axis=0`"
   ]
  },
  {
   "cell_type": "code",
   "execution_count": null,
   "id": "d425c5f4",
   "metadata": {
    "datawhys": {
     "response_id": 11,
     "student_response": true
    },
    "deletable": false,
    "editable": true
   },
   "outputs": [],
   "source": []
  },
  {
   "cell_type": "markdown",
   "id": "9ec04c79",
   "metadata": {
    "deletable": false,
    "editable": false
   },
   "source": [
    "Recalculate and show the mean, median, and mode."
   ]
  },
  {
   "cell_type": "code",
   "execution_count": null,
   "id": "a8091cc5",
   "metadata": {
    "datawhys": {
     "response_id": 12,
     "student_response": true
    },
    "deletable": false,
    "editable": true
   },
   "outputs": [],
   "source": []
  },
  {
   "cell_type": "code",
   "execution_count": null,
   "id": "4f8a5da8",
   "metadata": {
    "datawhys": {
     "response_id": 13,
     "student_response": true
    },
    "deletable": false,
    "editable": true
   },
   "outputs": [],
   "source": []
  },
  {
   "cell_type": "code",
   "execution_count": null,
   "id": "46cd1ab7",
   "metadata": {
    "datawhys": {
     "response_id": 14,
     "student_response": true
    },
    "deletable": false,
    "editable": true
   },
   "outputs": [],
   "source": []
  },
  {
   "cell_type": "markdown",
   "id": "499421ad",
   "metadata": {
    "deletable": false,
    "editable": false
   },
   "source": [
    "**QUESTION:**\n",
    "\n",
    "How did the mean, median, and mode change after you dropped the zero?  \n",
    "\n",
    "Write your answer in the cell below."
   ]
  },
  {
   "cell_type": "markdown",
   "id": "58b9debf",
   "metadata": {
    "datawhys": {
     "response_id": 15,
     "student_response": true
    },
    "deletable": false,
    "editable": true
   },
   "source": [
    "<div class=\"alert alert-block alert-info\">\n",
    "<!-- YOUR ANSWER BEGIN -->\n",
    "\n",
    "\n",
    "\n",
    "\n",
    "\n",
    "<!-- YOUR ANSWER END -->\n",
    "</div>"
   ]
  },
  {
   "cell_type": "markdown",
   "id": "e5391654",
   "metadata": {
    "deletable": false,
    "editable": false
   },
   "source": [
    "**QUESTION:**\n",
    "\n",
    "What does dropping the zero mean to the student who took this class?\n",
    "\n",
    "Write your answer in the cell below."
   ]
  },
  {
   "cell_type": "markdown",
   "id": "1b201ec7",
   "metadata": {
    "datawhys": {
     "response_id": 16,
     "student_response": true
    },
    "deletable": false,
    "editable": true
   },
   "source": [
    "<div class=\"alert alert-block alert-info\">\n",
    "<!-- YOUR ANSWER BEGIN -->\n",
    "\n",
    "\n",
    "\n",
    "\n",
    "\n",
    "<!-- YOUR ANSWER END -->\n",
    "</div>"
   ]
  },
  {
   "cell_type": "markdown",
   "id": "c2d95922",
   "metadata": {
    "deletable": false,
    "editable": false
   },
   "source": [
    "**QUESTION:**\n",
    "\n",
    "Which measures are most affected/least affected by outliers?\n",
    "\n",
    "Write your answer in the cell below."
   ]
  },
  {
   "cell_type": "markdown",
   "id": "4b83dcbe",
   "metadata": {
    "datawhys": {
     "response_id": 17,
     "student_response": true
    },
    "deletable": false,
    "editable": true
   },
   "source": [
    "<div class=\"alert alert-block alert-info\">\n",
    "<!-- YOUR ANSWER BEGIN -->\n",
    "\n",
    "\n",
    "\n",
    "\n",
    "\n",
    "<!-- YOUR ANSWER END -->\n",
    "</div>"
   ]
  },
  {
   "cell_type": "code",
   "execution_count": null,
   "id": "d36dffeb",
   "metadata": {
    "deletable": false,
    "editable": false
   },
   "outputs": [],
   "source": []
  }
 ],
 "metadata": {
  "kernelspec": {
   "display_name": "xpython",
   "language": "python",
   "name": "xpython"
  },
  "language_info": {
   "file_extension": ".py",
   "mimetype": "text/x-python",
   "name": "python",
   "version": "3.7.6"
  },
  "vscode": {
   "interpreter": {
    "hash": "be14b4e913c6f2457a185c22af60a9db8729a2914b48dcc2c5e42fe4e4a2ce08"
   }
  }
 },
 "nbformat": 4,
 "nbformat_minor": 5
}
