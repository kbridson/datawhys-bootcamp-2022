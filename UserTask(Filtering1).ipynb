{
 "cells": [
  {
   "cell_type": "markdown",
   "id": "3ae57fba",
   "metadata": {
    "deletable": false,
    "editable": false
   },
   "source": [
    "### User Activity (Filtering 1)"
   ]
  },
  {
   "cell_type": "markdown",
   "id": "b8581a55",
   "metadata": {
    "deletable": false,
    "editable": false
   },
   "source": [
    "Let us consider this dataset named `Salary_Dataset.csv`. We want to analyze this dataset and see the salary structure of a particular company."
   ]
  },
  {
   "cell_type": "markdown",
   "id": "5993e32f",
   "metadata": {
    "deletable": false,
    "editable": false
   },
   "source": [
    "For this task, let's find the salaries of `Amazon` employees who are `Software Development Engineer` and whose salary is greater than `1000000` ."
   ]
  },
  {
   "cell_type": "markdown",
   "id": "bd64c25d",
   "metadata": {
    "deletable": false,
    "editable": false
   },
   "source": [
    "### Importing the pandas library"
   ]
  },
  {
   "cell_type": "code",
   "execution_count": null,
   "id": "b0722424",
   "metadata": {
    "datawhys": {
     "response_id": 1,
     "student_response": true
    },
    "deletable": false,
    "editable": true
   },
   "outputs": [],
   "source": []
  },
  {
   "cell_type": "markdown",
   "id": "e2cbe895",
   "metadata": {
    "deletable": false,
    "editable": false
   },
   "source": [
    "### Read the CSV data into dataframe and view its contents"
   ]
  },
  {
   "cell_type": "markdown",
   "id": "f22f3048",
   "metadata": {
    "deletable": false,
    "editable": false
   },
   "source": [
    "**Dataset location:** datasets/Salary_Dataset.csv\n",
    "\n",
    "**Save to dataframe:** salary_data    "
   ]
  },
  {
   "cell_type": "code",
   "execution_count": null,
   "id": "dc698f74",
   "metadata": {
    "datawhys": {
     "response_id": 2,
     "student_response": true
    },
    "deletable": false,
    "editable": true
   },
   "outputs": [],
   "source": []
  },
  {
   "cell_type": "markdown",
   "id": "5c852ae3",
   "metadata": {
    "deletable": false,
    "editable": false
   },
   "source": [
    "### View salary_data\n"
   ]
  },
  {
   "cell_type": "code",
   "execution_count": null,
   "id": "c428ddca",
   "metadata": {
    "datawhys": {
     "response_id": 3,
     "student_response": true
    },
    "deletable": false,
    "editable": true
   },
   "outputs": [],
   "source": []
  },
  {
   "cell_type": "markdown",
   "id": "4182e993",
   "metadata": {
    "deletable": false,
    "editable": false
   },
   "source": [
    "From the available features, we are only interested in the features `Rating`, `Company Name`, `Job Title`,`Salary`, `Job Roles`. Let's get these features into a new dataframe `company_info`."
   ]
  },
  {
   "cell_type": "markdown",
   "id": "137527f4",
   "metadata": {
    "deletable": false,
    "editable": false
   },
   "source": [
    "\n",
    "\n",
    "<details>\n",
    "<summary> Blockly Instructions(click triangle to expand) </summary>\n",
    "<br>\n",
    "\n",
    "\n",
    "- From `LISTS` block , click on `{dictVariable} [ ]` block. Put `salary_data` in place of {dictVariable}. \n",
    "- From `LISTS`, click on `create list with` block.Click on + sign on the list block 5 times. Take 5 `\" \"` block from `TEXT` block.\n",
    "write `Rating, Company Name, Job Title, Salary, Job Roles` in the text blocks. Drag them inside `create list with` block.\n",
    "- Drag the `create list with` block inside `salary_data`.\n",
    "- Create a variable `company_info`. click on set `company_info to` and connect to the `salary_data` block.\n",
    "- From `VARIABLES` block, click the `company_info` block.     \n",
    "- Click on \"Blocks to Code\" at the bottom of the blockly palette.\n",
    "\n",
    "Run the python code cell.\n",
    "</details>"
   ]
  },
  {
   "cell_type": "code",
   "execution_count": null,
   "id": "65b07de2",
   "metadata": {
    "datawhys": {
     "response_id": 4,
     "student_response": true
    },
    "deletable": false,
    "editable": true
   },
   "outputs": [],
   "source": []
  },
  {
   "cell_type": "markdown",
   "id": "e532f278",
   "metadata": {
    "deletable": false,
    "editable": false
   },
   "source": [
    "Now that we have our required features, we want the data of `Amazon` employees only. So, we filter out other company data from the `company_info` dataframe and store it into a new `amazon_emp` dataframe."
   ]
  },
  {
   "cell_type": "markdown",
   "id": "0d11bdfb",
   "metadata": {
    "deletable": false,
    "editable": false
   },
   "source": [
    "\n",
    "<details>\n",
    "<summary> Blockly Instructions(click triangle to expand) </summary>\n",
    "<br>\n",
    "\n",
    "- from `LISTS`, click on `{dictvariable}[]`. place `company_info` inplace of `dictvariable`.\n",
    "get a text block `\" \"`. write \"Company Name\" in the `\" \"` block. drag it inside `company_info`.\n",
    "- from `LOGIC` block, click on `equals` block. on the left side of it, put the `company_info list with Company Name`. On the right side put a TEXT `\" \"` block. put `Amazon` on it.\n",
    "- from `LISTS`, click on `{dictvariable}[]`. place `company_info` inplace of `dictvariable`.Put the logic block inside the new `company_info` block.\n",
    "- From `VARIABLES`create a variable `amazon_emp`. click on set `amazon_emp to` and connect to the `company_info` block.\n",
    "- From `VARIABLES` block, click the `amazon_emp` block.    \n",
    "- Click on \"Blocks to Code\" at the bottom of the blockly palette.\n",
    "\n",
    "Run the python code cell.\n",
    "</details>"
   ]
  },
  {
   "cell_type": "code",
   "execution_count": null,
   "id": "62ee6bd5",
   "metadata": {
    "datawhys": {
     "response_id": 5,
     "student_response": true
    },
    "deletable": false,
    "editable": true
   },
   "outputs": [],
   "source": []
  },
  {
   "cell_type": "markdown",
   "id": "64874992",
   "metadata": {
    "deletable": false,
    "editable": false
   },
   "source": [
    "From `amazon` employees data, we want to see the salaries of people working as `Software Development Engineer (SDE)`. So, choose only the people who has that `Job Title` and store the new data into dataframe `software_dev`."
   ]
  },
  {
   "cell_type": "markdown",
   "id": "852b419b",
   "metadata": {
    "deletable": false,
    "editable": false
   },
   "source": [
    "\n",
    "<details>\n",
    "<summary> Blockly Instructions(click triangle to expand) </summary>\n",
    "<br>\n",
    "\n",
    "- from `LISTS`, click on `{dictvariable}[]`. place `amazon_emp` inplace of `dictvariable`.\n",
    "get a text block `\" \"`. write \"Job Title\" in the `\" \"` block. drag it inside `amazon_emp`.\n",
    "- from `LOGIC` block, click on `equals` block. on the left side of it, put the `amazon_emp list with Job Title`. On the right side put a TEXT `\" \"` block. put `Software Development Engineer (SDE)` on it.\n",
    "- from `LISTS`, click on `{dictvariable}[]`. place `amazon_emp` inplace of `dictvariable`.Put the logic block inside the new `amazon_emp` block.\n",
    "- From `VARIABLES`create a variable `software_dev`. click on set `software_dev to` and connect to the `amazon_emp` block.\n",
    "- From `VARIABLES` block, click the `software_dev` block.    \n",
    "- Click on \"Blocks to Code\" at the bottom of the blockly palette.\n",
    "\n",
    "Run the python code cell.\n",
    "</details>"
   ]
  },
  {
   "cell_type": "code",
   "execution_count": null,
   "id": "e6f98379",
   "metadata": {
    "datawhys": {
     "response_id": 6,
     "student_response": true
    },
    "deletable": false,
    "editable": true
   },
   "outputs": [],
   "source": []
  },
  {
   "cell_type": "markdown",
   "id": "72970e18",
   "metadata": {
    "deletable": false,
    "editable": false
   },
   "source": [
    "We are almost close to our desired target. For our final step, since we want to see people who have a salary greater than `1000000`, filter out those people from `software_dev` and store the new data into `big_salary` dataframe. "
   ]
  },
  {
   "cell_type": "markdown",
   "id": "d9115bbd",
   "metadata": {
    "deletable": false,
    "editable": false
   },
   "source": [
    "<details>\n",
    "<summary> Blockly Instructions(click triangle to expand) </summary>\n",
    "<br>\n",
    "\n",
    "- from `LISTS`, click on `{dictvariable}[]`. place `software_dev` inplace of `dictvariable`.\n",
    "get a text block `\" \"`. write \"Salary\" in the `\" \"` block. drag it inside `software_dev`.\n",
    "- from `LOGIC` block, click on `equals` block. on the left side of it, put the `software_dev list with Job Title`. On the right side put a MATH `123` block. put `1000000` on it.\n",
    "- from `LISTS`, click on `{dictvariable}[]`. place `software_dev` inplace of `dictvariable`.Put the logic block inside the new `software_dev` block.\n",
    "- From `VARIABLES`create a variable `big_salary`. click on set `big_salary to` and connect to the `software_dev` block.\n",
    "- From `VARIABLES` block, click the `big_salary` block.    \n",
    "- Click on \"Blocks to Code\" at the bottom of the blockly palette.\n",
    "\n",
    "Run the python code cell.\n",
    "</details>"
   ]
  },
  {
   "cell_type": "code",
   "execution_count": null,
   "id": "ef86176d",
   "metadata": {
    "datawhys": {
     "response_id": 7,
     "student_response": true
    },
    "deletable": false,
    "editable": true
   },
   "outputs": [],
   "source": []
  }
 ],
 "metadata": {
  "kernelspec": {
   "display_name": "xpython",
   "language": "python",
   "name": "xpython"
  },
  "language_info": {
   "file_extension": ".py",
   "mimetype": "text/x-python",
   "name": "python",
   "version": "3.7.6"
  }
 },
 "nbformat": 4,
 "nbformat_minor": 5
}
