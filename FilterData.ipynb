{
 "cells": [
  {
   "cell_type": "markdown",
   "id": "8042c204",
   "metadata": {
    "deletable": false,
    "editable": false
   },
   "source": [
    "### Data Filtering:\n",
    "In general, filtering means throwing out irrelevant stuff (could be harmful) from something. For example, water filtering, air filtering, etc.\n",
    "\n",
    "Similarly in data science, filtering means refining datasets into simply what a user needs, without including other data that are irrelevant or sensitive. Different types of strategies can be used to filter out data depending on the user's needs.\n",
    "\n",
    "A real world example of filtering can be preventing access to sensitive information. For example, a data filter may remove Social Security numbers or credit card numbers from client data before an employee can start working on them.  \n",
    "\n",
    "\n",
    "| UserName | credit amount | Gender | Billing Date | CreditCard | SSN    |  \n",
    "| ---------| -----------   | ------ | ------------ |----------- |------- | \n",
    "| Mason    |  5000         |    M   |  18th        | 3827383728 | 3242742 |  \n",
    "| Andrew   |  3.1          |    M   |  22nd        | 7492748833 | 9873892 |  \n",
    "| Trevor   |  3.7          |    M   |  11th        | 2618193385 | 7847284 | \n",
    "| Anthony  |  3.33         |    M   |  13th        | 8901284722 | 5729175 |  \n",
    "| Robinson |  3.45         |    M   |  18th        | 4729108379 | 4110394 |  \n",
    "| Alice    |  3.18         |    F   |  20th        | 7191039091 | 8918383 |  \n",
    "| Katie    |  3.25         |    F   |  7th         | 4739378748 | 1129483 |  "
   ]
  },
  {
   "cell_type": "markdown",
   "id": "7ab727bf",
   "metadata": {
    "deletable": false,
    "editable": false
   },
   "source": [
    "##### After filtering, this data will be sent to an employee as below:\n",
    "\n",
    "| UserName | credit amount | Gender | Billing Date |   \n",
    "| ---------| -----------   | ------ | ------------ |  \n",
    "| Mason    |  5000         |    M   |  18th        | \n",
    "| Andrew   |  3.1          |    M   |  22nd        | \n",
    "| Trevor   |  3.7          |    M   |  11th        | \n",
    "| Anthony  |  3.33         |    M   |  13th        | \n",
    "| Robinson |  3.45         |    M   |  18th        | \n",
    "| Alice    |  3.18         |    F   |  20th        |\n",
    "| Katie    |  3.25         |    F   |  7th         |"
   ]
  },
  {
   "cell_type": "markdown",
   "id": "26e8f836",
   "metadata": {
    "deletable": false,
    "editable": false
   },
   "source": [
    "### The need for filtering data in a dataset:\n",
    "\n",
    "In data science, a lot of the time data scientists have to work with huge datasets. But for a specific analysis, not all data is important to use. In those cases, filtering is very helpful. It also helps you focus on specific data rather than looking at the huge dataset all the time.\n",
    "\n",
    "Suppose you have a population dataset where individual population data are stored like **age, height, weight, hair_color, eye_color, and BMI** . You are asked to find out how a person's height changes with respect to their age. \n",
    "\n",
    "For this scenario, you actually don't need any other information except the **height** and **age** columns. So, we can just filter out the **height, age** columns and do further analysis.\n",
    "\n",
    "This is how filtering helps in analysis of data and allows us to focus only on the required information."
   ]
  },
  {
   "cell_type": "markdown",
   "id": "519ca376",
   "metadata": {
    "deletable": false,
    "editable": false
   },
   "source": [
    "### Discussion Activity\n",
    "\n",
    "Suppose we have some data on GPA, GRE and gender. We want to see the student's performance based on gender (male/female).\n",
    "\n",
    "| GRE         | GPA         | Gender |\n",
    "| ----------- | ----------- | ------ |\n",
    "| 316         |  3.4        |    M   |\n",
    "| 308         |  3.1        |    M   |\n",
    "| 327         |  3.7        |    F   |\n",
    "| 310         |  3.33       |    F   |\n",
    "| 305         |  3.45       |    M   |\n",
    "| 322         |  3.18       |    F   |\n",
    "| 316         |  3.25       |    M   |\n",
    "| 300         |  3.4        |    F   |\n",
    "| 310         |  3.6        |    F   |\n"
   ]
  },
  {
   "cell_type": "markdown",
   "id": "f0cc7c06",
   "metadata": {
    "deletable": false,
    "editable": false
   },
   "source": [
    "#### Let's say we want to find the following information:\n",
    "    - What is the average GRE score in both the gender groups? Which group has a better average score?\n",
    "    - What is the average GPA in both the gender groups? Which group has a better average GPA?\n",
    "    - What is the maximum GPA from the males?\n",
    "    - What is the minimum GRE score among the females?\n",
    "    \n",
    "How can we find these information from the given data?    "
   ]
  },
  {
   "cell_type": "markdown",
   "id": "dcc6f19c",
   "metadata": {
    "deletable": false,
    "editable": false
   },
   "source": [
    "### Extended example\n",
    "\n",
    "Suppose we have this dataset, named `mpg.csv`, where we have information about cars. First, we load the dataset into a dataframe and see its contents."
   ]
  },
  {
   "cell_type": "markdown",
   "id": "4a3f05de",
   "metadata": {
    "deletable": false,
    "editable": false
   },
   "source": [
    "\n",
    "<details>\n",
    "<summary>Blockly instructions: (click triangle to expand)</summary>\n",
    "<br>    \n",
    "    \n",
    "- Using the IMPORT menu in the Blockly palette, click on an import block `import some library as variable name`:\n",
    "- After clicking , the block drops into blockly workspace. Change `some library` to `pandas` by typing into that box.\n",
    "- Click on the `variable name` dropdown, choose `Rename variable...`, and type `pd` into the box that pops up.\n",
    "- Click on \"Blocks to Code\" at the bottom of the blockly palette.      \n",
    "    \n",
    "Run the python cell by pressing Shift+Enter.    \n",
    "</details>\n"
   ]
  },
  {
   "cell_type": "markdown",
   "id": "5b4fc687",
   "metadata": {
    "deletable": false,
    "editable": false
   },
   "source": [
    "### Import pandas library"
   ]
  },
  {
   "cell_type": "code",
   "execution_count": null,
   "id": "06a5f2de",
   "metadata": {
    "datawhys": {
     "response_id": 1,
     "student_response": true
    },
    "deletable": false,
    "editable": true
   },
   "outputs": [],
   "source": []
  },
  {
   "cell_type": "markdown",
   "id": "c4c5893e",
   "metadata": {
    "deletable": false,
    "editable": false
   },
   "source": [
    "### Read CSV data into dataframe"
   ]
  },
  {
   "cell_type": "markdown",
   "id": "6019f77a",
   "metadata": {
    "deletable": false,
    "editable": false
   },
   "source": [
    "\n",
    "<details>\n",
    "<summary>Blockly instructions: (click triangle to expand)</summary>\n",
    "<br>\n",
    "    \n",
    "- Go to the VARIABLES menu in the Blockly palette and click on the `with pd do ...using` block.\n",
    "- After it drops into the Blockly workspace, wait a second until the dropdown stops loading, and then click on it and select `read_csv`.\n",
    "- Then get a `\" \"` block from TEXT, drop it on the workspace, drag it to the `using` part of the first block, and type the file path `datasets/mpg.csv` into it.\n",
    "        \n",
    "</details>"
   ]
  },
  {
   "cell_type": "markdown",
   "id": "26b4b6e8",
   "metadata": {
    "deletable": false,
    "editable": false
   },
   "source": [
    "<details>\n",
    "<summary>Blockly instructions: (click triangle to expand)</summary>\n",
    "<br>\n",
    "\n",
    "- Using VARIABLES menu in the Blockly palette, click on `Create variable...` and type `car_data` into the pop up window.\n",
    "- Then click on the `set car_data to` block \n",
    "- Connect `set car_data` block to previous `with pd do...` block.\n",
    "- Click on \"Blocks to Code\" at the bottom of the blockly palette.\n",
    "    \n",
    "Run the python cell by pressing Shift+Enter.    \n",
    "</details>"
   ]
  },
  {
   "cell_type": "code",
   "execution_count": null,
   "id": "699cfb22",
   "metadata": {
    "datawhys": {
     "response_id": 2,
     "student_response": true
    },
    "deletable": false,
    "editable": true
   },
   "outputs": [],
   "source": []
  },
  {
   "cell_type": "markdown",
   "id": "7b66913a",
   "metadata": {
    "deletable": false,
    "editable": false
   },
   "source": [
    "### View the dataframe"
   ]
  },
  {
   "cell_type": "markdown",
   "id": "d42796db",
   "metadata": {
    "deletable": false,
    "editable": false
   },
   "source": [
    "<details>\n",
    "<summary>Blockly instructions: (click triangle to expand)</summary>\n",
    "<br>\n",
    "    \n",
    "- Click the variable block  `car_data` in the blockly workspace.\n",
    "- Click on \"Blocks to Code\" at the bottom of the blockly palette.     \n",
    "    \n",
    "Execute the code using Shift+Enter in the python file.\n",
    "</details>\n"
   ]
  },
  {
   "cell_type": "code",
   "execution_count": null,
   "id": "1a367a29",
   "metadata": {
    "datawhys": {
     "response_id": 3,
     "student_response": true
    },
    "deletable": false,
    "editable": true
   },
   "outputs": [],
   "source": []
  },
  {
   "cell_type": "markdown",
   "id": "0beec3d2",
   "metadata": {
    "deletable": false,
    "editable": false
   },
   "source": [
    "## Look at the features in the dataset:"
   ]
  },
  {
   "cell_type": "markdown",
   "id": "247e25e9",
   "metadata": {
    "deletable": false,
    "editable": false
   },
   "source": [
    "<details>\n",
    "<summary> Blockly Instructions(click triangle to expand) </summary>\n",
    "<br>\n",
    "    \n",
    "- From `variables` tab, click `from car_data get...` block into the workspace.\n",
    "- In the block, click on get and select the option `columns`.\n",
    "- Click on \"Blocks to Code\" at the bottom of the blockly palette.\n",
    "\n",
    "Run the python code cell.\n",
    "</details>"
   ]
  },
  {
   "cell_type": "code",
   "execution_count": null,
   "id": "593763c9",
   "metadata": {
    "datawhys": {
     "response_id": 4,
     "student_response": true
    },
    "deletable": false,
    "editable": true
   },
   "outputs": [],
   "source": []
  },
  {
   "cell_type": "markdown",
   "id": "f647dbaf",
   "metadata": {
    "deletable": false,
    "editable": false
   },
   "source": [
    "\n",
    "\n",
    "After looking at the car features in car_data, let's suppose as a customer, we want to buy cars with only 4 cylinders (assuming higher cylinder cars are more expensive). So, we filter our car data by only keeping the cars having 4 cylinders and store them in a new variable."
   ]
  },
  {
   "cell_type": "markdown",
   "id": "705966d3",
   "metadata": {
    "deletable": false,
    "editable": false
   },
   "source": [
    "\n",
    "\n",
    "<details>\n",
    "<summary> Blockly Instructions(click triangle to expand) </summary>\n",
    "<br>\n",
    "\n",
    "- from `LISTS`, click on `{dictvariable}[]`. place `car_data` inplace of `dictvariable`.\n",
    "get a text block `\" \"`. write \"cylinders\" in the `\" \"` block. drag it inside car_data.\n",
    "- from `LOGIC` block, click on `equals` block. on the left side of it, put the `car_data list with cylinders`. On the right side put a math `123` block. put `4` on it.\n",
    "- from lists, click on `{dictvariable}[]`. place `car_data` inplace of `dictvariable`.Put the logic block inside the new `car_data` block.\n",
    "- create a variable `cylinder4`. click on set `cylinder4` to and connect the `car_data` block.\n",
    "- From `VARIABLES` block, click the `cylinder4` block.    \n",
    "- Click on \"Blocks to Code\" at the bottom of the blockly palette.\n",
    "\n",
    "Run the python code cell.\n",
    "</details>"
   ]
  },
  {
   "cell_type": "code",
   "execution_count": null,
   "id": "5125b1bb",
   "metadata": {
    "datawhys": {
     "response_id": 5,
     "student_response": true
    },
    "deletable": false,
    "editable": true
   },
   "outputs": [],
   "source": []
  },
  {
   "cell_type": "markdown",
   "id": "1e9e29d9",
   "metadata": {
    "deletable": false,
    "editable": false
   },
   "source": [
    "After getting all the 4 cylinder cars from the dataset, we are interested in buying a 'toyota corolla' car, which we are a huge fan of. So, from our 4 cylinder list, we filter out available 'toyota corolla' cars there and store them in a new variable. "
   ]
  },
  {
   "cell_type": "markdown",
   "id": "d660f286",
   "metadata": {
    "deletable": false,
    "editable": false
   },
   "source": [
    "\n",
    "<details>\n",
    "<summary> Blockly Instructions(click triangle to expand) </summary>\n",
    "<br>\n",
    "\n",
    "- from `LISTS`, click on `{dictvariable}[]`. place `cylinder4` inplace of `dictvariable`.\n",
    "get a text block `\" \"`. write \"name\" in the `\" \"` block. drag it inside `cylinder4`.\n",
    "- from `LOGIC` block, click on `equals` block. on the left side of it, put the `cylinder4 list with name`. On the right side put a `\" \"` block. put `toyota corolla` on it.\n",
    "- from lists, click on `{dictvariable}[]`. place `cylinder4` inplace of `dictvariable`.Put the logic block inside the new `cylinder4` block.\n",
    "- create a variable `toyota_cars`. click on set `toyota_cars to` and connect to the `cylinder4` block.\n",
    "- From `VARIABLES` block, click the `toyota_cars` block.    \n",
    "- Click on \"Blocks to Code\" at the bottom of the blockly palette.\n",
    "\n",
    "Run the python code cell.\n",
    "</details>"
   ]
  },
  {
   "cell_type": "code",
   "execution_count": null,
   "id": "14dbdced",
   "metadata": {
    "datawhys": {
     "response_id": 6,
     "student_response": true
    },
    "deletable": false,
    "editable": true
   },
   "outputs": [],
   "source": []
  },
  {
   "cell_type": "markdown",
   "id": "bf9c8329",
   "metadata": {
    "deletable": false,
    "editable": false
   },
   "source": [
    "There is lots of information shown about the car (mpg, cylinders, etc). But, we are interested in only a few of the variables here. We only want information about name, mpg, acceleration, and model_year of the cars. So, we filter only those required information next."
   ]
  },
  {
   "cell_type": "markdown",
   "id": "12baa581",
   "metadata": {
    "deletable": false,
    "editable": false
   },
   "source": [
    "\n",
    "<details>\n",
    "<summary> Blockly Instructions(click triangle to expand) </summary>\n",
    "<br>\n",
    "\n",
    "\n",
    "- From `LISTS` block , click on `{dictVariable} [ ]` block. Put `toyota_cars` \n",
    "in place of {dictVariable}. \n",
    "- From `LISTS`, click on `create list with` block.Click on + sign on the list block 4 times. Take 4 `\" \"` block from `TEXT` block.\n",
    "write `name, mpg, model_year, acceleration` in the text blocks. Drag them inside `create list with` block.\n",
    "- Drag the `create list with` block inside `toyota_cars`\n",
    "- Create a variable `toyota_info`. click on set `toyota_info` to and connect to the `toyota_cars` block.\n",
    "- From `VARIABLES` block, click the `toyota_info` block.     \n",
    "- Click on \"Blocks to Code\" at the bottom of the blockly palette.\n",
    "\n",
    "Run the python code cell.\n",
    "</details>"
   ]
  },
  {
   "cell_type": "code",
   "execution_count": null,
   "id": "40cbd6fe",
   "metadata": {
    "datawhys": {
     "response_id": 7,
     "student_response": true
    },
    "deletable": false,
    "editable": true
   },
   "outputs": [],
   "source": []
  },
  {
   "cell_type": "markdown",
   "id": "5b43202c",
   "metadata": {
    "deletable": false,
    "editable": false
   },
   "source": [
    "Now, we heard that cars with models made after 1980 are the most fuel efficient cars. So, from our new filtered data (toyota_info), we can find only the cars having those attributes."
   ]
  },
  {
   "cell_type": "markdown",
   "id": "4784fc9a",
   "metadata": {
    "deletable": false,
    "editable": false
   },
   "source": [
    "\n",
    "\n",
    "<details>\n",
    "<summary> Blockly Instructions(click triangle to expand) </summary>\n",
    "<br>\n",
    "\n",
    "- from `LISTS`, click on `{dictvariable}[]`. place `toyota_info` inplace of `dictvariable`.\n",
    "get a text block `\" \"`. write \"model_year\" in the `\" \"` block. drag it inside `toyota_info`.\n",
    "- from `LOGIC` block, click on `equals` block. on the left side of it, put the `toyota_info list with model_year`. On the right side put a math `123` block. put `80` on it. Click on the middle of the logic block and select `>` sign.\n",
    "- from lists, click on `{dictvariable}[]`. place `toyota_info` inplace of `dictvariable`.Put the logic block inside the new `toyota_info` block.\n",
    "- create a variable `good_mileage`. click on set `good_mileage` to and connect the `toyota_info` block.\n",
    "- From `VARIABLES` block, click the `good_mileage` block.    \n",
    "- Click on \"Blocks to Code\" at the bottom of the blockly palette.\n",
    "\n",
    "Run the python code cell.\n",
    "</details>"
   ]
  },
  {
   "cell_type": "code",
   "execution_count": null,
   "id": "26512fa8",
   "metadata": {
    "datawhys": {
     "response_id": 8,
     "student_response": true
    },
    "deletable": false,
    "editable": true
   },
   "outputs": [],
   "source": []
  },
  {
   "cell_type": "markdown",
   "id": "836b2b88",
   "metadata": {
    "deletable": false,
    "editable": false
   },
   "source": [
    "Finally, after filtering by our requirements to buy our preferred kind of car, we have a list of only 2 cars with the required features from an initial list of almost 400 cars. By using filtering in a big dataset, we can more easily find the data we care about."
   ]
  }
 ],
 "metadata": {
  "kernelspec": {
   "display_name": "xpython",
   "language": "python",
   "name": "xpython"
  },
  "language_info": {
   "codemirror_mode": {
    "name": "ipython",
    "version": 3
   },
   "file_extension": ".py",
   "mimetype": "text/x-python",
   "name": "python",
   "nbconvert_exporter": "python",
   "pygments_lexer": "ipython3",
   "version": "3.9.7"
  },
  "vscode": {
   "interpreter": {
    "hash": "be14b4e913c6f2457a185c22af60a9db8729a2914b48dcc2c5e42fe4e4a2ce08"
   }
  }
 },
 "nbformat": 4,
 "nbformat_minor": 5
}
